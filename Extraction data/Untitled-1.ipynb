{
 "cells": [
  {
   "cell_type": "code",
   "execution_count": 1,
   "id": "13047d19",
   "metadata": {},
   "outputs": [],
   "source": [
    "import requests\n",
    "import pandas as pd\n",
    "import io\n",
    "import time\n",
    "from datetime import datetime\n",
    "import locale\n",
    "from tqdm import tqdm\n",
    "import concurrent.futures\n",
    "import os"
   ]
  },
  {
   "cell_type": "code",
   "execution_count": 2,
   "id": "5014df82",
   "metadata": {},
   "outputs": [
    {
     "data": {
      "text/html": [
       "<div>\n",
       "<style scoped>\n",
       "    .dataframe tbody tr th:only-of-type {\n",
       "        vertical-align: middle;\n",
       "    }\n",
       "\n",
       "    .dataframe tbody tr th {\n",
       "        vertical-align: top;\n",
       "    }\n",
       "\n",
       "    .dataframe thead th {\n",
       "        text-align: right;\n",
       "    }\n",
       "</style>\n",
       "<table border=\"1\" class=\"dataframe\">\n",
       "  <thead>\n",
       "    <tr style=\"text-align: right;\">\n",
       "      <th></th>\n",
       "      <th>applist</th>\n",
       "    </tr>\n",
       "  </thead>\n",
       "  <tbody>\n",
       "    <tr>\n",
       "      <th>apps</th>\n",
       "      <td>[{'appid': 5, 'name': 'Dedicated Server'}, {'a...</td>\n",
       "    </tr>\n",
       "  </tbody>\n",
       "</table>\n",
       "</div>"
      ],
      "text/plain": [
       "                                                applist\n",
       "apps  [{'appid': 5, 'name': 'Dedicated Server'}, {'a..."
      ]
     },
     "execution_count": 2,
     "metadata": {},
     "output_type": "execute_result"
    }
   ],
   "source": [
    "url = f'http://api.steampowered.com/ISteamApps/GetAppList/v2/' #leemos la lista de juegos completos\n",
    "response = requests.get(url).content\n",
    "df = pd.read_json(io.BytesIO(response))\n",
    "df"
   ]
  },
  {
   "cell_type": "code",
   "execution_count": 4,
   "id": "7141662e",
   "metadata": {},
   "outputs": [
    {
     "data": {
      "text/plain": [
       "[{'appid': 5, 'name': 'Dedicated Server'},\n",
       " {'appid': 7, 'name': 'Steam Client'},\n",
       " {'appid': 8, 'name': 'winui2'},\n",
       " {'appid': 10, 'name': 'Counter-Strike'},\n",
       " {'appid': 20, 'name': 'Team Fortress Classic'},\n",
       " {'appid': 30, 'name': 'Day of Defeat'},\n",
       " {'appid': 40, 'name': 'Deathmatch Classic'},\n",
       " {'appid': 50, 'name': 'Half-Life: Opposing Force'},\n",
       " {'appid': 60, 'name': 'Ricochet'},\n",
       " {'appid': 70, 'name': 'Half-Life'},\n",
       " {'appid': 80, 'name': 'Counter-Strike: Condition Zero'},\n",
       " {'appid': 90, 'name': 'Half-Life Dedicated Server'},\n",
       " {'appid': 92, 'name': 'Codename Gordon'},\n",
       " {'appid': 100, 'name': 'Counter-Strike: Condition Zero Deleted Scenes'},\n",
       " {'appid': 130, 'name': 'Half-Life: Blue Shift'},\n",
       " {'appid': 150, 'name': 'Counter-Strike Steamworks Beta'},\n",
       " {'appid': 205, 'name': 'Source Dedicated Server'},\n",
       " {'appid': 210, 'name': 'Source Dedicated Server'},\n",
       " {'appid': 211, 'name': 'Source SDK'},\n",
       " {'appid': 215, 'name': 'Source SDK Base 2006'},\n",
       " {'appid': 218, 'name': 'Source SDK Base 2007'},\n",
       " {'appid': 219, 'name': 'Half-Life 2: Demo'},\n",
       " {'appid': 220, 'name': 'Half-Life 2'},\n",
       " {'appid': 240, 'name': 'Counter-Strike: Source'},\n",
       " {'appid': 260, 'name': 'Counter-Strike: Source Beta'},\n",
       " {'appid': 280, 'name': 'Half-Life: Source'},\n",
       " {'appid': 300, 'name': 'Day of Defeat: Source'},\n",
       " {'appid': 304, 'name': 'Day of Defeat: Source Press Review'},\n",
       " {'appid': 310, 'name': 'Source 2007 Dedicated Server'},\n",
       " {'appid': 320, 'name': 'Half-Life 2: Deathmatch'},\n",
       " {'appid': 340, 'name': 'Half-Life 2: Lost Coast'},\n",
       " {'appid': 360, 'name': 'Half-Life Deathmatch: Source'},\n",
       " {'appid': 364, 'name': 'HL1:MP Linux client'},\n",
       " {'appid': 380, 'name': 'Half-Life 2: Episode One'},\n",
       " {'appid': 400, 'name': 'Portal'},\n",
       " {'appid': 410, 'name': 'Portal: First Slice'},\n",
       " {'appid': 420, 'name': 'Half-Life 2: Episode Two'},\n",
       " {'appid': 440, 'name': 'Team Fortress 2'},\n",
       " {'appid': 456, 'name': 'Team Fortress 2 - Summer 2012 Community Bundle DLC'},\n",
       " {'appid': 457, 'name': 'Team Fortress 2 - Summer 2012 Sale Bundle DLC'},\n",
       " {'appid': 458, 'name': 'Team Fortress 2 - Summer 2011 DLC'},\n",
       " {'appid': 459, 'name': 'Team Fortress 2 - Premium DLC'},\n",
       " {'appid': 480, 'name': 'Spacewar'},\n",
       " {'appid': 500, 'name': 'Left 4 Dead'},\n",
       " {'appid': 510, 'name': 'Left 4 Dead Dedicated Server'},\n",
       " {'appid': 513, 'name': 'Left 4 Dead Authoring Tools'},\n",
       " {'appid': 520, 'name': 'Team Fortress 2 Beta'},\n",
       " {'appid': 530, 'name': 'Left 4 Dead Demo'},\n",
       " {'appid': 540, 'name': 'Left 4 Dead Demo Dedicated Server'},\n",
       " {'appid': 550, 'name': 'Left 4 Dead 2'},\n",
       " {'appid': 560, 'name': 'Left 4 Dead 2 Dedicated Server'},\n",
       " {'appid': 563, 'name': 'Left 4 Dead 2 Authoring Tools'},\n",
       " {'appid': 564, 'name': 'Left 4 Dead 2 Add-on Support'},\n",
       " {'appid': 565, 'name': 'Left 4 Dead 2 Preorder DLC'},\n",
       " {'appid': 570, 'name': 'Dota 2'},\n",
       " {'appid': 575, 'name': 'Dota 2 - English Depot'},\n",
       " {'appid': 576, 'name': 'Dota 2 - SteelSeries DLC '},\n",
       " {'appid': 581, 'name': 'Dota 2 - Murrissey the Smeevil'},\n",
       " {'appid': 582, 'name': 'Dota 2 - Lockjaw the Boxhound'},\n",
       " {'appid': 583, 'name': 'Dota 2 - Drodo the Druffin'},\n",
       " {'appid': 584, 'name': 'Dota 2 - Inflatable Donkey Courier'},\n",
       " {'appid': 585, 'name': 'Dota 2 - Plush Donkey Courier'},\n",
       " {'appid': 586, 'name': 'Dota 2 - International Axe'},\n",
       " {'appid': 590, 'name': 'Left 4 Dead 2 Demo'},\n",
       " {'appid': 620, 'name': 'Portal 2'},\n",
       " {'appid': 629, 'name': 'Portal 2 Authoring Tools'},\n",
       " {'appid': 630, 'name': 'Alien Swarm'},\n",
       " {'appid': 635, 'name': 'Alien Swarm Dedicated Server'},\n",
       " {'appid': 640, 'name': 'Alien Swarm - SDK'},\n",
       " {'appid': 644, 'name': 'Portal 2 Publishing Tool'},\n",
       " {'appid': 650, 'name': 'Portal 2 - Gamestop PS3 DLC'},\n",
       " {'appid': 651, 'name': 'Portal 2 - Bot Paint Job DLC'},\n",
       " {'appid': 652, 'name': 'Portal 2 - Bot Roll Cage DLC'},\n",
       " {'appid': 653, 'name': 'Portal 2 - Bot Antenna Topper DLC'},\n",
       " {'appid': 654, 'name': 'Portal 2 - Summer 2011 DLC'},\n",
       " {'appid': 659, 'name': 'Portal 2 - Pre-order'},\n",
       " {'appid': 660, 'name': 'Portal 2 Sixense MotionPack'},\n",
       " {'appid': 669, 'name': 'Portal 2 - Sixense Motion Preorder'},\n",
       " {'appid': 730, 'name': 'Counter-Strike 2'},\n",
       " {'appid': 740, 'name': 'Counter-Strike Global Offensive - Dedicated Server'},\n",
       " {'appid': 745, 'name': 'Counter-Strike: Global Offensive - SDK'},\n",
       " {'appid': 753, 'name': 'Steam'},\n",
       " {'appid': 754, 'name': 'Steam Economy'},\n",
       " {'appid': 755, 'name': 'Steam Achievements'},\n",
       " {'appid': 756, 'name': 'Steam Big Picture'},\n",
       " {'appid': 760, 'name': 'Steam Screenshots'},\n",
       " {'appid': 761, 'name': 'Steam Cloud - Videos'},\n",
       " {'appid': 764, 'name': 'Steam Cloud - User Logs'},\n",
       " {'appid': 765, 'name': 'Greenlight'},\n",
       " {'appid': 767, 'name': 'Steam Artwork'},\n",
       " {'appid': 852, 'name': 'ValveTestApp852'},\n",
       " {'appid': 854, 'name': 'ValveTestApp854'},\n",
       " {'appid': 900, 'name': 'Zombie Movie'},\n",
       " {'appid': 901, 'name': 'Day of Defeat: Prelude to Victory'},\n",
       " {'appid': 902, 'name': 'Dangerous Waters Trailer'},\n",
       " {'appid': 903, 'name': 'Darwinia Trailer'},\n",
       " {'appid': 904, 'name': 'Half-Life 2 Trailer'},\n",
       " {'appid': 905, 'name': 'Half-Life 2: Episode One Trailer'},\n",
       " {'appid': 906, 'name': 'Rag Doll Kung Fu Trailer'},\n",
       " {'appid': 907, 'name': 'Red Orchestra Trailer'},\n",
       " {'appid': 908, 'name': 'Shadowgrounds Trailer'},\n",
       " {'appid': 909, 'name': 'Sin Episodes: Emergence Trailer'},\n",
       " {'appid': 912, 'name': 'Half-Life 2: Episode One Launch Teaser 1'},\n",
       " {'appid': 913, 'name': 'Half-Life 2: Episode One Launch Teaser 2'},\n",
       " {'appid': 914, 'name': 'Half-Life 2: Episode One Launch Teaser 3'},\n",
       " {'appid': 915, 'name': 'Half-Life 2: Episode One Launch Teaser 4'},\n",
       " {'appid': 916, 'name': 'Half-Life 2: Episode Two Trailer'},\n",
       " {'appid': 917, 'name': 'Day of Defeat: Jagd Trailer'},\n",
       " {'appid': 918, 'name': 'Day of Defeat: Colmar Trailer'},\n",
       " {'appid': 919, 'name': 'Dark Messiah: Warrior'},\n",
       " {'appid': 920, 'name': 'Dark Messiah: Assassin'},\n",
       " {'appid': 921, 'name': 'Dark Messiah: Wizard'},\n",
       " {'appid': 922, 'name': 'Portal Trailer'},\n",
       " {'appid': 923, 'name': 'Team Fortress 2 Trailer'},\n",
       " {'appid': 924, 'name': 'Red Orchestra Infantry Tutorial'},\n",
       " {'appid': 925, 'name': 'Red Orchestra Vehicle Tutorial'},\n",
       " {'appid': 926, 'name': 'Red Orchestra Lyes Krovy Trailer'},\n",
       " {'appid': 927, 'name': 'GTI Racing Trailer'},\n",
       " {'appid': 928, 'name': 'SourceForts Trailer'},\n",
       " {'appid': 929, 'name': 'Uplink Trailer'},\n",
       " {'appid': 930, 'name': 'Half-Life 2: Episode Two Trailer 2'},\n",
       " {'appid': 931, 'name': 'Team Fortress 2 Trailer 2'},\n",
       " {'appid': 932, 'name': 'Half-Life 2: Episode Two Gameplay Movie 1'},\n",
       " {'appid': 933, 'name': 'Half-Life 2: Episode Two Gameplay Movie 2'},\n",
       " {'appid': 934, 'name': 'Half-Life 2: Episode Two Gameplay Movie 3'},\n",
       " {'appid': 935, 'name': 'Dark Messiah Gameplay Trailer'},\n",
       " {'appid': 936, 'name': 'Half-Life 2: Episode Two Gameplay Movie 4'},\n",
       " {'appid': 937, 'name': 'Half-Life 2: Episode Two Gameplay Movie 5'},\n",
       " {'appid': 938, 'name': 'City Life Trailer'},\n",
       " {'appid': 939, 'name': 'X3: Reunion Trailer'},\n",
       " {'appid': 940, 'name': 'Dark Messiah Launch Trailer'},\n",
       " {'appid': 941, 'name': 'Red Orchestra Fall Update Trailer'},\n",
       " {'appid': 942, 'name': 'Heroes of Annihilated Empires Trailer'},\n",
       " {'appid': 943, 'name': 'Prey Trailer'},\n",
       " {'appid': 944, 'name': 'Left4Dead Teaser'},\n",
       " {'appid': 945, 'name': 'X3: Reunion 2.0 Trailer'},\n",
       " {'appid': 946, 'name': 'Gumboy: Crazy Adventures Trailer'},\n",
       " {'appid': 947, 'name': 'Eets Trailer'},\n",
       " {'appid': 948, 'name': 'Silverfall Trailer'},\n",
       " {'appid': 949, 'name': 'Joint Task Force Trailer'},\n",
       " {'appid': 950, 'name': 'Hitman: Blood Money Trailer'},\n",
       " {'appid': 951, 'name': 'Just Cause Trailer'},\n",
       " {'appid': 953, 'name': 'TrackMania United Trailer'},\n",
       " {'appid': 954, 'name': 'Runaway, The Dream of The Turtle Trailer'},\n",
       " {'appid': 955, 'name': 'Battlestations: Midway Trailer'},\n",
       " {'appid': 956, 'name': 'Project: Snowblind Trailer'},\n",
       " {'appid': 957, 'name': 'Tomb Raider: Legend Trailer'},\n",
       " {'appid': 958, 'name': 'Infernal Trailer'},\n",
       " {'appid': 959, 'name': 'Infernal Trailer 1'},\n",
       " {'appid': 960, 'name': 'Team Fortress 2: Meet the Heavy'},\n",
       " {'appid': 961, 'name': 'Red Orchestra June 07 New Content Trailer'},\n",
       " {'appid': 962, 'name': 'Tomb Raider: Anniversary Trailer'},\n",
       " {'appid': 963, 'name': 'TrackMania United Webisode 1: Coppers'},\n",
       " {'appid': 964, 'name': 'TrackMania United Webisode 2: Manialinks'},\n",
       " {'appid': 965, 'name': 'TrackMania United Webisode 3: Maniazones'},\n",
       " {'appid': 966, 'name': 'TrackMania United Webisode 4: Singleplayer'},\n",
       " {'appid': 967, 'name': 'TrackMania United Webisode 5: Multiplayer'},\n",
       " {'appid': 968, 'name': 'Sam & Max 101: Culture Shock Trailer'},\n",
       " {'appid': 969, 'name': 'Sam & Max 102: Situation: Comedy Trailer'},\n",
       " {'appid': 970,\n",
       "  'name': 'Sam & Max 103: The Mole, the Mob and the Meatball Trailer'},\n",
       " {'appid': 971, 'name': 'Sam & Max 104: Abe Lincoln Must Die! Trailer'},\n",
       " {'appid': 972, 'name': 'Sam & Max 105: Reality 2.0 Trailer'},\n",
       " {'appid': 973, 'name': 'Sam & Max 106: Bright Side of the Moon Trailer'},\n",
       " {'appid': 974, 'name': 'Lost Planet: Extreme Condition Trailer'},\n",
       " {'appid': 975, 'name': 'Kane & Lynch Trailer 2'},\n",
       " {'appid': 976, 'name': 'Kane & Lynch Trailer'},\n",
       " {'appid': 977, 'name': 'ThreadSpace: Hyperbol Trailer'},\n",
       " {'appid': 978, 'name': 'Titan Quest: Immortal Throne Trailer'},\n",
       " {'appid': 979, 'name': 'S.T.A.L.K.E.R.: Shadow of Chernobyl Trailer'},\n",
       " {'appid': 980, 'name': 'SpaceForce: Rogue Universe Trailer'},\n",
       " {'appid': 981, 'name': 'Civilization IV: Beyond the Sword Trailer'},\n",
       " {'appid': 982, 'name': 'Gish Trailer'},\n",
       " {'appid': 983, 'name': 'Call of Juarez Trailer'},\n",
       " {'appid': 984, 'name': 'Bioshock Trailer'},\n",
       " {'appid': 985, 'name': 'Team Fortress 2: Meet The Soldier'},\n",
       " {'appid': 986, 'name': 'Race07 Trailer'},\n",
       " {'appid': 987, 'name': 'Team Fortress 2: Meet The Engineer'},\n",
       " {'appid': 988, 'name': 'Kane & Lynch Trailer 3'},\n",
       " {'appid': 989, 'name': 'Juiced 2 - Hot Import Nights Trailer'},\n",
       " {'appid': 990, 'name': 'Enemy Territory: QUAKE Wars Trailer'},\n",
       " {'appid': 991, 'name': 'Loki Trailer'},\n",
       " {'appid': 992, 'name': 'Company of Heroes: Opposing Fronts'},\n",
       " {'appid': 994, 'name': 'Team Fortress 2: Meet the Heavy (Russian)'},\n",
       " {'appid': 995, 'name': 'The Orange Box Commercial'},\n",
       " {'appid': 996, 'name': 'Two Worlds Trailer'},\n",
       " {'appid': 997, 'name': 'Team Fortress 2: Meet the Demoman'},\n",
       " {'appid': 998, 'name': 'Call of Duty 4: Modern Warfare Trailer'},\n",
       " {'appid': 999, 'name': 'Painkiller Overdose Trailer'},\n",
       " {'appid': 1001, 'name': 'Rag Doll Kung Fu Beta'},\n",
       " {'appid': 1002, 'name': 'Rag Doll Kung Fu'},\n",
       " {'appid': 1003, 'name': 'Rag Doll Kung Fu Demo'},\n",
       " {'appid': 1007, 'name': 'Steamworks SDK Redist'},\n",
       " {'appid': 1200, 'name': 'Red Orchestra: Ostfront 41-45'},\n",
       " {'appid': 1210, 'name': 'Red Orchestra Beta'},\n",
       " {'appid': 1213, 'name': 'Red Orchestra: Ostfront 41-45'},\n",
       " {'appid': 1220, 'name': 'RedOrchestra SDK Beta'},\n",
       " {'appid': 1230, 'name': 'Mare Nostrum'},\n",
       " {'appid': 1240, 'name': 'Mare Nostrum Dedicated Server'},\n",
       " {'appid': 1250, 'name': 'Killing Floor'},\n",
       " {'appid': 1255, 'name': 'Killing Floor DLC 1'},\n",
       " {'appid': 1256, 'name': 'Killing Floor - Outbreak Character Pack'},\n",
       " {'appid': 1257, 'name': 'Killing Floor - Nightfall Character Pack'},\n",
       " {'appid': 1259, 'name': 'Killing Floor'},\n",
       " {'appid': 1260, 'name': 'Killing Floor SDK'},\n",
       " {'appid': 1270, 'name': 'Killing Floor Beta'},\n",
       " {'appid': 1273, 'name': 'Killing Floor Beta Dedicated Server'},\n",
       " {'appid': 1280, 'name': \"Darkest Hour: Europe '44-'45\"},\n",
       " {'appid': 1290, 'name': \"Darkest Hour: Europe '44-'45 Dedicated Server\"},\n",
       " {'appid': 1300, 'name': 'SiN Episodes: Emergence'},\n",
       " {'appid': 1306, 'name': 'SiN Episodes: Emergence German'},\n",
       " {'appid': 1313, 'name': 'SiN Gold'},\n",
       " {'appid': 1317, 'name': 'Sin Episodes SDK'},\n",
       " {'appid': 1320, 'name': 'SiN Episodes: Emergence'},\n",
       " {'appid': 1500, 'name': 'Darwinia'},\n",
       " {'appid': 1502, 'name': 'Darwinia Demo'},\n",
       " {'appid': 1504, 'name': 'Darwinia Press Review'},\n",
       " {'appid': 1507, 'name': 'ValveTestApp1507-do-not-use'},\n",
       " {'appid': 1510, 'name': 'Uplink'},\n",
       " {'appid': 1520, 'name': 'DEFCON'},\n",
       " {'appid': 1522, 'name': 'DEFCON Demo'},\n",
       " {'appid': 1523, 'name': 'DEFCON Beta Demo'},\n",
       " {'appid': 1525, 'name': 'DEFCON Beta'},\n",
       " {'appid': 1528, 'name': 'ValveTestApp1528-do-not-use'},\n",
       " {'appid': 1530, 'name': 'Multiwinia'},\n",
       " {'appid': 1532, 'name': 'ValveTestApp1532'},\n",
       " {'appid': 1535, 'name': 'DEFCON Soundtrack DLC'},\n",
       " {'appid': 1540, 'name': 'Multiwinia Demo'},\n",
       " {'appid': 1600, 'name': 'Dangerous Waters'},\n",
       " {'appid': 1610, 'name': 'Space Empires IV Deluxe'},\n",
       " {'appid': 1620, 'name': 'Jagged Alliance 2'},\n",
       " {'appid': 1630, 'name': 'Disciples II: Rise of the Elves'},\n",
       " {'appid': 1635, 'name': 'Disciples II ROTE Scenario Editor'},\n",
       " {'appid': 1640, 'name': \"Disciples II: Gallean's Return\"},\n",
       " {'appid': 1645, 'name': 'Disciples II Galleans Return Scenario Editor'},\n",
       " {'appid': 1670, 'name': 'Iron Warriors: T-72 Tank Command'},\n",
       " {'appid': 1690, 'name': 'Space Empires V'},\n",
       " {'appid': 1700, 'name': 'Arx Fatalis'},\n",
       " {'appid': 1710, 'name': 'Arx Fatalis Demo'},\n",
       " {'appid': 1840, 'name': 'Source Filmmaker'},\n",
       " {'appid': 1900, 'name': 'Earth 2160'},\n",
       " {'appid': 1920, 'name': 'Two Worlds'},\n",
       " {'appid': 1930, 'name': 'Two Worlds: Epic Edition'},\n",
       " {'appid': 2100, 'name': 'Dark Messiah of Might & Magic Single Player'},\n",
       " {'appid': 2110, 'name': 'Dark Messiah Multiplayer Open Beta'},\n",
       " {'appid': 2114, 'name': 'Dark Messiah of Might & Magic Multi-Player'},\n",
       " {'appid': 2115, 'name': 'Dark Messiah of Might & Magic Single Player'},\n",
       " {'appid': 2120, 'name': 'Dark Messiah of Might & Magic Singleplayer Demo'},\n",
       " {'appid': 2130, 'name': 'Dark Messiah of Might & Magic Multi-Player'},\n",
       " {'appid': 2145, 'name': 'Dark Messiah of Might & Magic Dedicated Server'},\n",
       " {'appid': 2150, 'name': 'Dark Messiah SDK Beta'},\n",
       " {'appid': 2200, 'name': 'Quake III Arena'},\n",
       " {'appid': 2210, 'name': 'Quake 4'},\n",
       " {'appid': 2270, 'name': 'Wolfenstein 3D'},\n",
       " {'appid': 2280, 'name': 'DOOM + DOOM II'},\n",
       " {'appid': 2310, 'name': 'Quake'},\n",
       " {'appid': 2320, 'name': 'Quake II'},\n",
       " {'appid': 2350, 'name': 'Quake III: Team Arena'},\n",
       " {'appid': 2400, 'name': 'The Ship'},\n",
       " {'appid': 2403, 'name': 'The Ship Dedicated Server'},\n",
       " {'appid': 2410, 'name': 'The Ship Beta'},\n",
       " {'appid': 2413, 'name': 'The Ship Dedicated Server Beta'},\n",
       " {'appid': 2420, 'name': 'The Ship Single Player'},\n",
       " {'appid': 2430, 'name': 'The Ship Tutorial'},\n",
       " {'appid': 2450, 'name': 'Bloody Good Time'},\n",
       " {'appid': 2460, 'name': 'Bloody Good Time Dedicated Server'},\n",
       " {'appid': 2500, 'name': 'Shadowgrounds'},\n",
       " {'appid': 2505, 'name': 'Shadowgrounds Editor'},\n",
       " {'appid': 2510, 'name': 'Shadowgrounds Demo'},\n",
       " {'appid': 2520, 'name': 'Gumboy: Crazy Adventures'},\n",
       " {'appid': 2525, 'name': 'Gumboy Crazy Features'},\n",
       " {'appid': 2530, 'name': 'Gumboy Demo'},\n",
       " {'appid': 2540, 'name': 'RIP'},\n",
       " {'appid': 2545, 'name': 'RIP 2: Strike Back'},\n",
       " {'appid': 2550, 'name': 'RIP 3: The Last Hero'},\n",
       " {'appid': 2590, 'name': 'Alpha Prime'},\n",
       " {'appid': 2600, 'name': 'Vampire: The Masquerade - Bloodlines'},\n",
       " {'appid': 2610, 'name': 'GUN'},\n",
       " {'appid': 2620, 'name': 'Call of Duty (2003)'},\n",
       " {'appid': 2625, 'name': 'Call of Duty Singleplayer'},\n",
       " {'appid': 2630, 'name': 'Call of Duty 2'},\n",
       " {'appid': 2635, 'name': 'Call of Duty 2 Singleplayer'},\n",
       " {'appid': 2640, 'name': 'Call of Duty: United Offensive'},\n",
       " {'appid': 2645, 'name': 'Call of Duty: United Offensive Singleplayer'},\n",
       " {'appid': 2680, 'name': 'The History Channel: Civil War'},\n",
       " {'appid': 2690, 'name': 'Empires: Dawn of the Modern World'},\n",
       " {'appid': 2700, 'name': 'RollerCoaster Tycoon 3: Platinum!'},\n",
       " {'appid': 2710, 'name': 'Act of War: Direct Action'},\n",
       " {'appid': 2720, 'name': 'ThreadSpace: Hyperbol'},\n",
       " {'appid': 2724, 'name': 'ThreadSpace: Hyperbol (dont use)'},\n",
       " {'appid': 2725, 'name': 'ThreadSpace: Hyperbol Map Editor'},\n",
       " {'appid': 2726, 'name': 'ThreadSpace: Hyperbol Soundtrack'},\n",
       " {'appid': 2730, 'name': 'ThreadSpace: Hyperbol Demo'},\n",
       " {'appid': 2740, 'name': 'ThreadSpace: Hyperbol dedicated server'},\n",
       " {'appid': 2760, 'name': 'Neverwinter Nights 2: Platinum'},\n",
       " {'appid': 2767, 'name': 'Neverwinter Nights 2 Expansion 1'},\n",
       " {'appid': 2768, 'name': 'Neverwinter Nights 2 Expansion 2'},\n",
       " {'appid': 2770, 'name': 'Neverwinter Nights 2: Platinum - Map Editor'},\n",
       " {'appid': 2790, 'name': 'Atari: 80 Classic Games in One!'},\n",
       " {'appid': 2800, 'name': 'X2: The Threat'},\n",
       " {'appid': 2810, 'name': 'X3: Reunion'},\n",
       " {'appid': 2820, 'name': 'X3: Terran Conflict'},\n",
       " {'appid': 2826, 'name': 'X3: Terran Conflict'},\n",
       " {'appid': 2827, 'name': 'X3: A Sunny Place'},\n",
       " {'appid': 2840, 'name': 'X: Beyond the Frontier'},\n",
       " {'appid': 2850, 'name': 'X-Tension'},\n",
       " {'appid': 2860, 'name': 'X-SuperBox Bonus Material'},\n",
       " {'appid': 2870, 'name': 'X Rebirth'},\n",
       " {'appid': 2900, 'name': '688(I) Hunter/Killer'},\n",
       " {'appid': 2910, 'name': 'Fleet Command'},\n",
       " {'appid': 2920, 'name': 'Sub Command'},\n",
       " {'appid': 2930, 'name': 'Birth Of America'},\n",
       " {'appid': 2950, 'name': 'Jagged Alliance 2: Unfinished Business'},\n",
       " {'appid': 2990, 'name': 'FlatOut 2'},\n",
       " {'appid': 3000, 'name': 'GTI Racing'},\n",
       " {'appid': 3010, 'name': 'Xpand Rally'},\n",
       " {'appid': 3020, 'name': 'Call of Juarez'},\n",
       " {'appid': 3030, 'name': 'Call of Juarez - DirectX 10'},\n",
       " {'appid': 3040, 'name': 'FIM Speedway GP3'},\n",
       " {'appid': 3050, 'name': 'Xpand Rally Xtreme'},\n",
       " {'appid': 3130, 'name': 'Men of War: Red Tide'},\n",
       " {'appid': 3150, 'name': 'GM Rally'},\n",
       " {'appid': 3160, 'name': 'A Farewell to Dragons'},\n",
       " {'appid': 3170, 'name': \"King's Bounty: Armored Princess\"},\n",
       " {'appid': 3190, 'name': \"King's Bounty: Armored Princess - Demo\"},\n",
       " {'appid': 3200, 'name': 'Painkiller: Gold Edition'},\n",
       " {'appid': 3205, 'name': 'Painkiller Editor'},\n",
       " {'appid': 3210, 'name': 'Painkiller Demo'},\n",
       " {'appid': 3220, 'name': 'SpaceForce: Rogue Universe'},\n",
       " {'appid': 3230, 'name': 'Genesis Rising'},\n",
       " {'appid': 3260, 'name': 'Safecracker: The Ultimate Puzzle Adventure'},\n",
       " {'appid': 3270, 'name': 'Painkiller Overdose'},\n",
       " {'appid': 3273, 'name': 'Painkiller Overdose Test'},\n",
       " {'appid': 3280, 'name': 'Painkiller Overdose Demo'},\n",
       " {'appid': 3300, 'name': 'Bejeweled 2 Deluxe'},\n",
       " {'appid': 3302, 'name': 'Bejeweled 2 Deluxe Demo'},\n",
       " {'appid': 3310, 'name': 'Chuzzle Deluxe'},\n",
       " {'appid': 3312, 'name': 'Chuzzle Deluxe Demo'},\n",
       " {'appid': 3320, 'name': 'Insaniquarium! Deluxe'},\n",
       " {'appid': 3322, 'name': 'Insaniquarium! Deluxe Demo'},\n",
       " {'appid': 3330, 'name': 'Zuma Deluxe'},\n",
       " {'appid': 3332, 'name': 'Zuma Deluxe Demo'},\n",
       " {'appid': 3340, 'name': 'AstroPop Deluxe'},\n",
       " {'appid': 3342, 'name': 'AstroPop Deluxe Demo'},\n",
       " {'appid': 3350, 'name': 'Bejeweled Deluxe'},\n",
       " {'appid': 3352, 'name': 'Bejeweled Deluxe Demo'},\n",
       " {'appid': 3360, 'name': 'Big Money! Deluxe'},\n",
       " {'appid': 3362, 'name': 'Big Money Deluxe Demo'},\n",
       " {'appid': 3370, 'name': 'BookWorm Deluxe'},\n",
       " {'appid': 3372, 'name': 'BookWorm Deluxe Demo'},\n",
       " {'appid': 3380, 'name': 'Dynomite! Deluxe'},\n",
       " {'appid': 3382, 'name': 'Dynomite! Deluxe Demo'},\n",
       " {'appid': 3390, 'name': 'Feeding Frenzy 2: Shipwreck Showdown Deluxe'},\n",
       " {'appid': 3392, 'name': 'Feeding Frenzy 2: Shipwreck Showdown Deluxe Demo'},\n",
       " {'appid': 3400, 'name': 'Hammer Heads Deluxe'},\n",
       " {'appid': 3402, 'name': 'Hammer Heads Deluxe Demo'},\n",
       " {'appid': 3410, 'name': 'Heavy Weapon Deluxe'},\n",
       " {'appid': 3412, 'name': 'Heavy Weapon Deluxe Demo'},\n",
       " {'appid': 3420, 'name': 'Iggle Pop! Deluxe'},\n",
       " {'appid': 3422, 'name': 'Iggle Pop! Deluxe Demo'},\n",
       " {'appid': 3430, 'name': 'Pizza Frenzy'},\n",
       " {'appid': 3432, 'name': 'Pizza Frenzy Demo'},\n",
       " {'appid': 3442, 'name': 'Rocket Mania Deluxe Demo'},\n",
       " {'appid': 3450, 'name': 'Typer Shark! Deluxe'},\n",
       " {'appid': 3452, 'name': 'Typer Shark! Deluxe Demo'},\n",
       " {'appid': 3460, 'name': 'Talismania Deluxe'},\n",
       " {'appid': 3462, 'name': 'Talismania Deluxe Demo'},\n",
       " {'appid': 3470, 'name': 'Bookworm Adventures Deluxe'},\n",
       " {'appid': 3472, 'name': 'Bookworm Adventures Deluxe Demo'},\n",
       " {'appid': 3480, 'name': 'Peggle Deluxe'},\n",
       " {'appid': 3482, 'name': 'Peggle Deluxe Demo'},\n",
       " {'appid': 3483, 'name': 'Peggle Extreme'},\n",
       " {'appid': 3490, 'name': 'Venice'},\n",
       " {'appid': 3492, 'name': 'Venice Demo'},\n",
       " {'appid': 3500, 'name': 'Mystery P.I.: The Lottery Ticket'},\n",
       " {'appid': 3502, 'name': 'Mystery P.I.: The Lottery Ticket Demo'},\n",
       " {'appid': 3510, 'name': 'Amazing Adventures: The Lost Tomb'},\n",
       " {'appid': 3512, 'name': 'Amazing Adventures: The Lost Tomb Demo'},\n",
       " {'appid': 3520, 'name': 'Mystery PI: The Vegas Heist'},\n",
       " {'appid': 3522, 'name': 'Mystery PI: The Vegas Heist Demo'},\n",
       " {'appid': 3530, 'name': 'Amazing Adventures Around the World'},\n",
       " {'appid': 3532, 'name': 'Amazing Adventures Around the World Demo'},\n",
       " {'appid': 3540, 'name': 'Peggle Nights'},\n",
       " {'appid': 3542, 'name': 'Peggle Nights Demo'},\n",
       " {'appid': 3560, 'name': 'Bejeweled Twist'},\n",
       " {'appid': 3562, 'name': 'Bejeweled Twist Demo'},\n",
       " {'appid': 3570, 'name': 'Mystery P.I.: The New York Fortune'},\n",
       " {'appid': 3572, 'name': 'Mystery PI: The New York Fortune Demo'},\n",
       " {'appid': 3580, 'name': \"The Wizard's Pen\"},\n",
       " {'appid': 3582, 'name': 'The Wizards Pen Demo'},\n",
       " {'appid': 3590, 'name': 'Plants vs. Zombies: Game of the Year'},\n",
       " {'appid': 3592, 'name': 'Plants vs. Zombies Demo'},\n",
       " {'appid': 3599, 'name': 'Plants vs. Zombies'},\n",
       " {'appid': 3600, 'name': 'Escape Rosecliff Island'},\n",
       " {'appid': 3602, 'name': 'Escape Rosecliff Island Demo'},\n",
       " {'appid': 3610, 'name': 'Mystery P.I.: Lost in Los Angeles'},\n",
       " {'appid': 3612, 'name': 'Mystery P.I.: Lost in Los Angeles Demo'},\n",
       " {'appid': 3620, 'name': \"Zuma's Revenge\"},\n",
       " {'appid': 3622, 'name': \"Zuma's Revenge Demo\"},\n",
       " {'appid': 3629, 'name': \"Zuma's Revenge\"},\n",
       " {'appid': 3630, 'name': 'BookWorm Adventures Volume 2'},\n",
       " {'appid': 3632, 'name': 'Bookworm™ Adventures Volume 2 Demo'},\n",
       " {'appid': 3640, 'name': 'Bookworm (TM) Adventures - Fractured Fairytales'},\n",
       " {'appid': 3642, 'name': 'Bookworm Adventures - Fractured Fairytales Demo'},\n",
       " {'appid': 3650, 'name': \"Zuma's Revenge! - Adventure\"},\n",
       " {'appid': 3652, 'name': \"Zuma's Revenge! - Adventure Demo\"},\n",
       " {'appid': 3700, 'name': 'Sniper Elite'},\n",
       " {'appid': 3710, 'name': 'Judge Dredd: Dredd vs Death'},\n",
       " {'appid': 3720, 'name': 'Evil Genius'},\n",
       " {'appid': 3730, 'name': 'Aliens versus Predator Classic 2000'},\n",
       " {'appid': 3750, 'name': 'ValveTestApp3750'},\n",
       " {'appid': 3800, 'name': 'Advent Rising'},\n",
       " {'appid': 3810, 'name': 'BloodRayne'},\n",
       " {'appid': 3820, 'name': 'BloodRayne 2'},\n",
       " {'appid': 3830, 'name': 'Psychonauts'},\n",
       " {'appid': 3838, 'name': 'Psychonauts Original Soundtrack'},\n",
       " {'appid': 3839, 'name': 'Psychonauts Original Cinematic Score'},\n",
       " {'appid': 3840, 'name': 'Psychonauts Demo'},\n",
       " {'appid': 3850, 'name': 'BloodRayne 2 Demo'},\n",
       " {'appid': 3900, 'name': \"Sid Meier's Civilization IV\"},\n",
       " {'appid': 3910, 'name': \"Sid Meier's Civilization III: Complete\"},\n",
       " {'appid': 3920, 'name': \"Sid Meier's Pirates!\"},\n",
       " {'appid': 3960, 'name': 'Shattered Union'},\n",
       " {'appid': 3970, 'name': 'Prey'},\n",
       " {'appid': 3980, 'name': 'CivCity: Rome'},\n",
       " {'appid': 3990, 'name': \"Sid Meier's Civilization IV: Warlords\"},\n",
       " {'appid': 4000, 'name': \"Garry's Mod\"},\n",
       " {'appid': 4010, 'name': \"Garry's Mod - Beta\"},\n",
       " {'appid': 4020, 'name': \"Garry's Mod Dedicated Server\"},\n",
       " {'appid': 4100, 'name': 'Poker Superstars II'},\n",
       " {'appid': 4102, 'name': 'Poker Superstars II Demo'},\n",
       " {'appid': 4200, 'name': 'Race Internal Beta'},\n",
       " {'appid': 4206, 'name': 'Race Internal Beta'},\n",
       " {'appid': 4207, 'name': 'Race Internal Beta Dedicated Server'},\n",
       " {'appid': 4210, 'name': 'Race Internal Beta Dedicated Server'},\n",
       " {'appid': 4230, 'name': 'Race: The WTCC Game'},\n",
       " {'appid': 4240, 'name': 'Race Dedicated Server'},\n",
       " {'appid': 4260, 'name': 'RACE 07 Demo'},\n",
       " {'appid': 4270, 'name': 'RACE 07 Demo Dedicated Server'},\n",
       " {'appid': 4280, 'name': 'Race Caterham Beta'},\n",
       " {'appid': 4290, 'name': 'RACE: Caterham Expansion'},\n",
       " {'appid': 4300, 'name': 'RoboBlitz'},\n",
       " {'appid': 4310, 'name': 'RoboBlitz Demo'},\n",
       " {'appid': 4320, 'name': 'Star Trek: D-A-C'},\n",
       " {'appid': 4329, 'name': 'Star Trek: D·A·C'},\n",
       " {'appid': 4330, 'name': 'Star Trek: D·A·C - Demo'},\n",
       " {'appid': 4400, 'name': 'City Life'},\n",
       " {'appid': 4410, 'name': 'City Life Deluxe'},\n",
       " {'appid': 4420, 'name': 'Silverfall'},\n",
       " {'appid': 4440, 'name': 'Silverfall Demo'},\n",
       " {'appid': 4450, 'name': 'Silverfall Beta'},\n",
       " {'appid': 4460, 'name': 'City Life 2008'},\n",
       " {'appid': 4470, 'name': 'Silverfall: Earth Awakening'},\n",
       " {'appid': 4480, 'name': 'City Life 2008 Editor'},\n",
       " {'appid': 4500, 'name': 'S.T.A.L.K.E.R.: Shadow of Chernobyl'},\n",
       " {'appid': 4520, 'name': 'Full Spectrum Warrior'},\n",
       " {'appid': 4530, 'name': 'Full Spectrum Warrior: Ten Hammers'},\n",
       " {'appid': 4540, 'name': 'Titan Quest'},\n",
       " {'appid': 4550, 'name': 'Titan Quest: Immortal Throne'},\n",
       " {'appid': 4560, 'name': 'Company of Heroes - Legacy Edition'},\n",
       " {'appid': 4570,\n",
       "  'name': 'Warhammer 40,000: Dawn of War - Anniversary Edition '},\n",
       " {'appid': 4580, 'name': 'Warhammer 40,000: Dawn of War - Dark Crusade'},\n",
       " {'appid': 4590, 'name': 'Titan Quest Demo'},\n",
       " {'appid': 4600, 'name': 'Full Pipe'},\n",
       " {'appid': 4610, 'name': 'Full Pipe Demo'},\n",
       " {'appid': 4700, 'name': 'Total War: MEDIEVAL II - Definitive Edition'},\n",
       " {'appid': 4710, 'name': 'Medieval II: Total War Demo'},\n",
       " {'appid': 4720, 'name': 'Condemned: Criminal Origins'},\n",
       " {'appid': 4730, 'name': 'OutRun 2006: Coast 2 Coast'},\n",
       " {'appid': 4760, 'name': 'Rome: Total War'},\n",
       " {'appid': 4770, 'name': 'Rome: Total War - Alexander'},\n",
       " {'appid': 4780, 'name': 'Medieval II: Total War Kingdoms'},\n",
       " {'appid': 4790, 'name': 'SEGA Rally Revo'},\n",
       " {'appid': 4800, 'name': 'Heroes of Annihilated Empires'},\n",
       " {'appid': 4808, 'name': 'Heroes of Annihilated Empires Beta'},\n",
       " {'appid': 4810, 'name': 'Heroes of Annihilated Empires Demo'},\n",
       " {'appid': 4820, 'name': 'Heroes of Annihilated Empires Multiplayer Demo'},\n",
       " {'appid': 4830, 'name': 'S.T.A.L.K.E.R.: Shadow of Chernobyl'},\n",
       " {'appid': 4850, 'name': 'Cossacks: Back to War'},\n",
       " {'appid': 4856, 'name': 'Cossacks Campaign Expansion'},\n",
       " {'appid': 4870, 'name': 'Cossacks: Art of War'},\n",
       " {'appid': 4880, 'name': 'Cossacks: European Wars'},\n",
       " {'appid': 4890, 'name': 'Cossacks II: Battle for Europe'},\n",
       " {'appid': 4900, 'name': 'Zen of Sudoku'},\n",
       " {'appid': 4910, 'name': 'Zen of Sudoku Demo'},\n",
       " {'appid': 4920, 'name': 'Natural Selection 2'},\n",
       " {'appid': 4930, 'name': 'Natural Selection 2 - Black Armor'},\n",
       " {'appid': 4931, 'name': 'Natural Selection 2 - PAX DLC'},\n",
       " {'appid': 4932, 'name': 'Natural Selection 2 - Deluxe DLC'},\n",
       " {'appid': 4940, 'name': 'Natural Selection 2 Dedicated Server'},\n",
       " {'appid': 5000, 'name': 'Painkiller Overdose Teaser'},\n",
       " {'appid': 5001, 'name': 'Overlord Trailer'},\n",
       " {'appid': 5002, 'name': \"Clive Barker's Jericho Trailer\"},\n",
       " {'appid': 5003, 'name': 'Shadowgrounds Survivor Trailer'},\n",
       " {'appid': 5004, 'name': 'Alpha Prime Trailer 2'},\n",
       " {'appid': 5005, 'name': 'Alpha Prime: Weapons'},\n",
       " {'appid': 5006, 'name': 'Alpha Prime: Hacking'},\n",
       " {'appid': 5007, 'name': 'Alpha Prime: Bullet Time'},\n",
       " {'appid': 5008, 'name': 'Alpha Prime Trailer'},\n",
       " {'appid': 5009, 'name': 'Speedball 2: Tournament Trailer'},\n",
       " {'appid': 5010, 'name': 'Universe at War: Earth Assault Trailer'},\n",
       " {'appid': 5011, 'name': 'Insurgency Mod Trailer'},\n",
       " {'appid': 5012, 'name': 'Speedball 2 - Tournament Tutorial'},\n",
       " {'appid': 5013, 'name': 'The Golden Compass Trailer'},\n",
       " {'appid': 5014, 'name': 'Frontline: Fuels of War Trailer'},\n",
       " {'appid': 5015, 'name': 'Team Fortress 2: Meet the Heavy (German)'},\n",
       " {'appid': 5016, 'name': 'Team Fortress 2: Meet the Heavy (French)'},\n",
       " {'appid': 5017, 'name': 'EVE Online: Coming Soon'},\n",
       " {'appid': 5018, 'name': 'Bill Lee Interview'},\n",
       " {'appid': 5019, 'name': 'The Club Trailer'},\n",
       " {'appid': 5020, 'name': 'Warhammer 40,000: Dawn of War – Soulstorm Trailer'},\n",
       " {'appid': 5021, 'name': 'Turning Point: Fall of Liberty Trailer'},\n",
       " {'appid': 5022, 'name': 'Overlord: Raising Hell Trailer'},\n",
       " {'appid': 5023, 'name': 'Frontlines: Fuel of War Multiplayer Trailer'},\n",
       " {'appid': 5024, 'name': 'Rainbox Six: Vegas 2 Trailer'},\n",
       " {'appid': 5025, 'name': 'Rainbox Six: Vegas Trailer'},\n",
       " {'appid': 5026,\n",
       "  'name': \"Tom Clancy's Ghost Recon: Advanced Warfighter 2 Trailer\"},\n",
       " {'appid': 5027,\n",
       "  'name': \"Tom Clancy's Ghost Recon: Advanced Warfighter Trailer\"},\n",
       " {'appid': 5028, 'name': 'Unreal Tournament 3 Trailer'},\n",
       " {'appid': 5030, 'name': \"Assassin's Creed Trailer\"},\n",
       " {'appid': 5031, 'name': 'TrackMania Nations Forever Trailer'},\n",
       " {'appid': 5032, 'name': 'Team Fortress 2: Meet the Scout'},\n",
       " {'appid': 5033, 'name': 'Team Fortress 2: Meet the Scout (French)'},\n",
       " {'appid': 5034, 'name': 'Team Fortress 2: Meet the Scout (German)'},\n",
       " {'appid': 5035, 'name': 'Team Fortress 2: Meet the Scout (Russian)'},\n",
       " {'appid': 5036, 'name': 'Team Fortress 2: Meet the Scout (Spanish)'},\n",
       " {'appid': 5037, 'name': 'S.T.A.L.K.E.R.: Clear Sky Tech Demo'},\n",
       " {'appid': 5038, 'name': 'Sam & Max 201 Trailer'},\n",
       " {'appid': 5039, 'name': 'Sam & Max 202 Trailer'},\n",
       " {'appid': 5040, 'name': 'Sam & Max 203 Trailer'},\n",
       " {'appid': 5041, 'name': 'Sam & Max 204 Trailer'},\n",
       " {'appid': 5042, 'name': 'Sam & Max 205 Trailer'},\n",
       " {'appid': 5043, 'name': 'Trials 2: Second Edition Trailer'},\n",
       " {'appid': 5044, 'name': \"Trials 2: Second Edition: Bumps' N Bruises\"},\n",
       " {'appid': 5045, 'name': 'Trials 2: Second Edition: Rollin and Tumblin'},\n",
       " {'appid': 5046, 'name': 'Trials 2: Second Edition: Throttle to the Max'},\n",
       " {'appid': 5047, 'name': 'TrackMania United Forever Trailer'},\n",
       " {'appid': 5048, 'name': 'GRID Trailer'},\n",
       " {'appid': 5049,\n",
       "  'name': 'On the Rain-Slick Precipice of Darkness - Episode One Trailer'},\n",
       " {'appid': 5050, 'name': \"Tom Clancy's HAWX Trailer\"},\n",
       " {'appid': 5051, 'name': 'Team Fortress 2: Meet the Sniper'},\n",
       " {'appid': 5052, 'name': 'Far Cry 2 Trailer'},\n",
       " {'appid': 5053, 'name': 'Crazy Machines 2 Trailer'},\n",
       " {'appid': 5054, 'name': 'Brothers in Arms: Hells Highway Trailer 1'},\n",
       " {'appid': 5055, 'name': 'Brothers in Arms: Hells Highway Trailer 2'},\n",
       " {'appid': 5056, 'name': 'Team Fortress 2: Meet the Sniper (French)'},\n",
       " {'appid': 5057, 'name': 'Team Fortress 2: Meet the Sniper (German)'},\n",
       " {'appid': 5058, 'name': 'Team Fortress 2: Meet the Soldier (French)'},\n",
       " {'appid': 5059, 'name': 'Team Fortress 2: Meet the Soldier (German)'},\n",
       " {'appid': 5060, 'name': 'S.T.A.L.K.E.R.: Clear Sky Atmosphere Trailer'},\n",
       " {'appid': 5061, 'name': 'EVE Online - Empyrean Age Trailer'},\n",
       " {'appid': 5062, 'name': 'Team Fortress 2: Meet the Sniper (Russian)'},\n",
       " {'appid': 5063, 'name': 'Team Fortress 2: Meet the Sniper (Spanish)'},\n",
       " {'appid': 5064, 'name': 'FlatOut: Ultimate Carnage Trailer'},\n",
       " {'appid': 5066, 'name': 'Pro Cycling Manager 2008 Trailer'},\n",
       " {'appid': 5067, 'name': 'Space Siege Trailer'},\n",
       " {'appid': 5068, 'name': 'Multiwinia: Domination Trailer'},\n",
       " {'appid': 5069, 'name': 'Red Faction: Guerrilla Destruction Trailer'},\n",
       " {'appid': 5070, 'name': 'Dawn of War II: Trailer'},\n",
       " {'appid': 5071, 'name': 'Dawn of War II: E3 Gameplay'},\n",
       " {'appid': 5072, 'name': 'Dawn of War II: Teaser'},\n",
       " {'appid': 5073, 'name': 'Team Fortress 2: Meet the Sandvich'},\n",
       " {'appid': 5074, 'name': 'Dawn of War II: Leipzig Trailer'},\n",
       " {'appid': 5075, 'name': 'Dawn of War II: The Tyranids'},\n",
       " {'appid': 5076, 'name': 'Far Cry 2: E3 Gameplay'},\n",
       " {'appid': 5077, 'name': 'Far Cry 2: Enemies'},\n",
       " {'appid': 5078, 'name': 'Far Cry 2 GamePlay Movie'},\n",
       " {'appid': 5079, 'name': 'Velvet Assassin Trailer'},\n",
       " {'appid': 5080, 'name': 'GTR Evolution Trailer'},\n",
       " {'appid': 5081, 'name': 'Multiwinia: King of the Hill Trailer'},\n",
       " {'appid': 5082, 'name': 'Multiwinia: Capture the Statue Trailer'},\n",
       " {'appid': 5083, 'name': 'Crysis Warhead Trailer'},\n",
       " {'appid': 5084, 'name': 'X3: Terran Conflict Teaser'},\n",
       " {'appid': 5085, 'name': 'Crysis Trailer'},\n",
       " {'appid': 5086, 'name': 'Crysis Wars Trailer'},\n",
       " {'appid': 5087, 'name': 'Multiwinia: Rocket Riot'},\n",
       " {'appid': 5088, 'name': 'Multiwinia: Blitzkrieg'},\n",
       " {'appid': 5089, 'name': 'The Witcher: Enhanced Trailer'},\n",
       " {'appid': 5090, 'name': 'Team Fortress 2: Meet the Soldier (Russian)'},\n",
       " {'appid': 5091, 'name': 'Team Fortress 2: Meet the Demoman (Russian)'},\n",
       " {'appid': 5092, 'name': 'Multiwinia: Assault Trailer'},\n",
       " {'appid': 5093, 'name': \"Sid Meier's Civilization IV: Colonization Trailer\"},\n",
       " {'appid': 5094, 'name': 'Prince of Persia Trailer'},\n",
       " {'appid': 5095, 'name': 'STCC: The Game Teaser'},\n",
       " {'appid': 5096, 'name': 'City Life 2008 Trailer'},\n",
       " {'appid': 5097, 'name': 'STCC: The Game Trailer'},\n",
       " {'appid': 5098, 'name': 'Shaun White Debut Trailer'},\n",
       " {'appid': 5099, 'name': 'Age of Conan: Hyborian Adventures Trailer'},\n",
       " {'appid': 5100, 'name': 'Project Aftermath Trailer'},\n",
       " {'appid': 5101, 'name': 'Tomb Raider: Underworld Trailer'},\n",
       " {'appid': 5102, 'name': 'Pyroblazer Trailer'},\n",
       " {'appid': 5103, 'name': 'Xpand Rally Xtreme Trailer'},\n",
       " {'appid': 5104, 'name': 'Pyroblazer Trailer 2'},\n",
       " {'appid': 5105, 'name': 'Age of Booty Trailer'},\n",
       " {'appid': 5106, 'name': 'Spectraball Trailer'},\n",
       " {'appid': 5107, 'name': 'MotoGP 2008 Trailer'},\n",
       " {'appid': 5108, 'name': 'Pyroblazer Intro'},\n",
       " {'appid': 5109, 'name': 'D.I.P.R.I.P. Warm Up Trailer'},\n",
       " {'appid': 5111, 'name': 'Galactic Bowling Trailer'},\n",
       " {'appid': 5112, 'name': 'Team Fortress 2: Meet the Engineer (Russian)'},\n",
       " {'appid': 5113, 'name': 'Bully Trailer'},\n",
       " {'appid': 5114, 'name': 'Mare Nostrum Trailer'},\n",
       " {'appid': 5115, 'name': \"Saint's Row 2 Trailer\"},\n",
       " {'appid': 5116, 'name': \"Saint's Row 2 Gangs Trailer\"},\n",
       " {'appid': 5117, 'name': 'Fallout 3 Trailer'},\n",
       " {'appid': 5118, 'name': 'Fallout 3 Teaser'},\n",
       " {'appid': 5119, 'name': 'Fallout 3 Gameplay 1: Escape'},\n",
       " {'appid': 5120, 'name': 'Fallout 3 Gameplay 2: Megaton'},\n",
       " {'appid': 5121, 'name': 'Fallout 3 Gameplay 3: The Wasteland'},\n",
       " {'appid': 5122, 'name': 'Fallout 3 Gameplay 4: Super-Duper Mart'},\n",
       " {'appid': 5123, 'name': 'Fallout 3 Gameplay 5: Tenpenny Tower'},\n",
       " {'appid': 5124, 'name': 'Far Cry 2: Anything Goes'},\n",
       " {'appid': 5125, 'name': 'Far Cry 2: Whos Who'},\n",
       " {'appid': 5126, 'name': 'Space Trader Trailer'},\n",
       " {'appid': 5127, 'name': 'X3: Terran Conflict Intro Trailer'},\n",
       " {'appid': 5128, 'name': 'X3: Terran Conflict Think'},\n",
       " {'appid': 5129, 'name': 'X3: Terran Conflict - Think (German)'},\n",
       " {'appid': 5130, 'name': 'X3: Terran Conflict - Trade'},\n",
       " {'appid': 5131, 'name': 'X3: Terran Conflict - Trade (German)'},\n",
       " {'appid': 5132, 'name': 'Red Faction: Guerrila Multiplayer Gameplay'},\n",
       " {'appid': 5133, 'name': 'Silent Hill: Homecoming Intro Trailer'},\n",
       " {'appid': 5134, 'name': 'Tomb Raider: Undeworld - Beneath the Sea Gameplay'},\n",
       " {'appid': 5135, 'name': 'Tomb Raider: Undeworld - Mexico'},\n",
       " {'appid': 5136, 'name': 'Empire: Total War Trailer'},\n",
       " {'appid': 5137, 'name': 'Multiwinia Offical Trailer'},\n",
       " {'appid': 5138, 'name': 'Left 4 Dead TV Spot 1 - 1080p'},\n",
       " {'appid': 5139, 'name': 'Left 4 Dead TV Spot 1 - 720p'},\n",
       " {'appid': 5140, 'name': 'X3: Terran Conflict - Build'},\n",
       " {'appid': 5141, 'name': 'Left 4 Dead Intro'},\n",
       " {'appid': 5142, 'name': 'Left 4 Dead Intro (French)'},\n",
       " {'appid': 5143, 'name': 'Left 4 Dead Intro (German)'},\n",
       " {'appid': 5144, 'name': 'Left 4 Dead Intro (Russian)'},\n",
       " {'appid': 5145, 'name': 'Left 4 Dead Intro (Spanish)'},\n",
       " {'appid': 5146,\n",
       "  'name': 'On the Rain-Slick Precipice of Darkness, Episode Two Trailer'},\n",
       " {'appid': 5147, 'name': 'Call of Duty: World at War Trailer'},\n",
       " {'appid': 5149, 'name': 'Left 4 Dead TV Spot 2 - 720p'},\n",
       " {'appid': 5150, 'name': 'Left 4 Dead TV Spot 2 - 1080p'},\n",
       " {'appid': 5151, 'name': 'Eve Online: Quantum Rise Trailer'},\n",
       " {'appid': 5152, 'name': 'Grand Theft Auto IV'},\n",
       " {'appid': 5153, 'name': 'Defense Grid Trailer'},\n",
       " {'appid': 5154, 'name': 'World in Conflict - Teaser Trailer'},\n",
       " {'appid': 5155, 'name': 'World in Conflict - Destruction Gameplay Trailer'},\n",
       " {'appid': 5157, 'name': 'Prince of Persia Launch Trailer'},\n",
       " {'appid': 5158, 'name': 'Spore Trailer'},\n",
       " {'appid': 5159, 'name': 'Mass Effect Trailer'},\n",
       " {'appid': 5160, 'name': 'Command and Conquer: Red Alert 3'},\n",
       " {'appid': 5161, 'name': 'Need for Speed: Undercover Trailer'},\n",
       " {'appid': 5162, 'name': 'Mirrors Edge Trailer'},\n",
       " {'appid': 5163, 'name': 'Dead Space Trailer'},\n",
       " {'appid': 5164, 'name': 'Spore Creepy and Cute Trailer'},\n",
       " {'appid': 5165, 'name': 'Company of Heroes: Tales of Valor Trailer'},\n",
       " {'appid': 5166, 'name': 'Aquaria Trailer'},\n",
       " {'appid': 5167, 'name': 'Strong Bad Episode 5: 8-Bit Is Enough Trailer'},\n",
       " {'appid': 5168, 'name': 'Strong Bad Episode 3: Baddest of the Bands Trailer'},\n",
       " {'appid': 5169, 'name': 'Strong Bad Episode 4: Dangeresque 3 Trailer'},\n",
       " {'appid': 5170,\n",
       "  'name': 'Strong Bad Episode 2: Strong Badia the Free Trailer'},\n",
       " {'appid': 5172, 'name': 'Quantum of Solace Trailer 1'},\n",
       " {'appid': 5173, 'name': 'Quantum of Solace Trailer 2'},\n",
       " {'appid': 5174, 'name': 'F.E.A.R 2: Project Origin Trailer 1'},\n",
       " {'appid': 5175, 'name': 'F.E.A.R 2: Project Origin Trailer 2'},\n",
       " {'appid': 5177, 'name': 'Command and Conquer: Red Alert 3 Trailer 2'},\n",
       " {'appid': 5178, 'name': 'Everquest: Secrets of Faydwer Trailer'},\n",
       " {'appid': 5179, 'name': 'Everquest: Seeds of Destruction Trailer'},\n",
       " {'appid': 5180, 'name': 'Everquest II: Rise of Kunark Trailer'},\n",
       " {'appid': 5181, 'name': 'Everquest II: The Shadow Odyssey Trailer'},\n",
       " {'appid': 5182, 'name': 'Vanguard: Saga of Heroes Trailer'},\n",
       " {'appid': 5183, 'name': 'Pirates of the Burning Sea Trailer'},\n",
       " {'appid': 5184, 'name': 'Monster Trucks Nitro Trailer'},\n",
       " {'appid': 5185, 'name': 'Empire: Total War - Naval Battles'},\n",
       " {'appid': 5186, 'name': 'Empire: Total War - Land Battles'},\n",
       " {'appid': 5187, 'name': 'Empire: Total War - Campaign'},\n",
       " {'appid': 5188, 'name': 'Empire: Total War - Multiplayer'},\n",
       " {'appid': 5189, 'name': 'Empire: Total War - Road to Indepdence'},\n",
       " {'appid': 5190, 'name': 'Grand Ages Rome Trailer 2'},\n",
       " {'appid': 5191, 'name': 'Ceville Trailer'},\n",
       " {'appid': 5192, 'name': 'The Maw Trailer'},\n",
       " {'appid': 5193, 'name': \"Tom Clancy's EndWar Trailer\"},\n",
       " {'appid': 5194, 'name': 'The Maw: Brute Force Trailer'},\n",
       " {'appid': 5195, 'name': \"Tom Clancy's EndWar Launch Trailer\"},\n",
       " {'appid': 5196, 'name': 'World in Conflict: Soviet Assault Trailer'},\n",
       " {'appid': 5197, 'name': 'Empire: Total War Launch Trailer (English)'},\n",
       " {'appid': 5198, 'name': 'Empire: Total War Launch Trailer (French)'},\n",
       " {'appid': 5199, 'name': 'Empire: Total War Launch Trailer (German)'},\n",
       " {'appid': 5200, 'name': 'Empire: Total War Launch Trailer (Dutch)'},\n",
       " {'appid': 5201, 'name': 'Empire: Total War Launch Trailer (Polish)'},\n",
       " {'appid': 5202, 'name': 'Empire: Total War Launch Trailer (Spanish)'},\n",
       " {'appid': 5203, 'name': 'Empire: Total War Launch Trailer (UK)'},\n",
       " {'appid': 5204, 'name': 'Unreal Tournament 3 Titan Trailer'},\n",
       " {'appid': 5205, 'name': 'Zeno Clash Trailer'},\n",
       " {'appid': 5206, 'name': 'EVE Online: Apocrypha - 720p'},\n",
       " {'appid': 5207, 'name': 'EVE Online: Apocrypha - 1080p'},\n",
       " {'appid': 5208, 'name': \"Wallace & Gromit's Grand Adventure Teaser Trailer\"},\n",
       " {'appid': 5209, 'name': 'The Path Trailer'},\n",
       " {'appid': 5210, 'name': \"Grey's Anatomy: The Video Game Trailer\"},\n",
       " {'appid': 5211, 'name': 'Caster Trailer'},\n",
       " {'appid': 5212, 'name': 'Wanted Teaser'},\n",
       " {'appid': 5213, 'name': 'The Maw - River Redirect Trailer'},\n",
       " {'appid': 5214, 'name': 'Drakensang Trailer'},\n",
       " {'appid': 5215, 'name': 'Drakensang Trailer (DE)'},\n",
       " {'appid': 5216, 'name': 'Far Cry 2: Fortunes Pack Trailer'},\n",
       " {'appid': 5217, 'name': 'Obulis Trailer'},\n",
       " {'appid': 5218, 'name': 'Osmos Trailer'},\n",
       " {'appid': 5219, 'name': 'FLOCK! Trailer 1'},\n",
       " {'appid': 5220, 'name': 'FLOCK! Trailer 2'},\n",
       " {'appid': 5221, 'name': 'Elven Legacy Trailer'},\n",
       " {'appid': 5222, 'name': 'Wheelman Trailer'},\n",
       " {'appid': 5223, 'name': 'R.U.S.E Trailer'},\n",
       " {'appid': 5227, 'name': 'Battlestations Pacific Trailer'},\n",
       " {'appid': 5231, 'name': 'F.E.A.R 2: Project Origin - Toy Soldiers'},\n",
       " {'appid': 5232, 'name': 'R.U.S.E In-Game Trailer'},\n",
       " {'appid': 5233, 'name': 'Savage 2: A Tortured Soul Trailer'},\n",
       " {'appid': 5234, 'name': 'Grand Ages Rome - City Building Trailer'},\n",
       " {'appid': 5235, 'name': 'Guildwars: Factions Trailer'},\n",
       " {'appid': 5236, 'name': 'Guildwars: Nightfall Trailer'},\n",
       " {'appid': 5237, 'name': 'City of Heroes Trailer'},\n",
       " {'appid': 5238, 'name': 'RFG Tools of Destruction 1'},\n",
       " {'appid': 5239, 'name': 'RFG Tools of Destruction 2'},\n",
       " {'appid': 5240, 'name': 'RFG Tools of Destruction 3'},\n",
       " {'appid': 5241, 'name': 'RFG Tools of Destruction 4'},\n",
       " {'appid': 5242, 'name': 'City of Heroes Intro Trailer'},\n",
       " {'appid': 5243, 'name': 'Killing Floor Trailer'},\n",
       " {'appid': 5244, 'name': 'Hearts of Iron III Trailer'},\n",
       " {'appid': 5245, 'name': 'Street Fighter 4 Trailer'},\n",
       " {'appid': 5246, 'name': 'Velvet Assassin Music Trailer'},\n",
       " {'appid': 5247, 'name': 'Puzzlegeddon Trailer'},\n",
       " {'appid': 5248, 'name': 'Terminator Salvation Trailer'},\n",
       " {'appid': 5249, 'name': 'Call of Juarez: Bound in Blood Story Trailer'},\n",
       " {'appid': 5250, 'name': 'RFG Dev Diary'},\n",
       " {'appid': 5251, 'name': 'Necrovision Trailer'},\n",
       " {'appid': 5252, 'name': 'The Path Story Trailer'},\n",
       " {'appid': 5253, 'name': 'Call of Duty: World at War - Map Pack'},\n",
       " {'appid': 5254, 'name': 'Call of Duty: World at War - Verruckt'},\n",
       " {'appid': 5255, 'name': 'Call of Duty: World at War - Zombies'},\n",
       " {'appid': 5256, 'name': 'Damnation Steampunk Trailer'},\n",
       " {'appid': 5257, 'name': 'Damnation The Levels Trailer'},\n",
       " {'appid': 5258, 'name': 'Damnation The Moves Trailer'},\n",
       " {'appid': 5259, 'name': 'Red Faction: Guerrilla Tactics Trailer'},\n",
       " {'appid': 5260, 'name': 'Team Fortress 2: Meet the Spy'},\n",
       " {'appid': 5261, 'name': 'ARMA 2 Trailer'},\n",
       " {'appid': 5262, 'name': 'Prototype Reveal Trailer'},\n",
       " {'appid': 5263, 'name': 'Prototype Story Montage'},\n",
       " {'appid': 5265, 'name': 'RFG Tools of Destruction 6'},\n",
       " {'appid': 5266, 'name': 'Red Faction Guerrilla Story'},\n",
       " {'appid': 5267, 'name': 'Red Faction Guerrilla Storyline Video'},\n",
       " {'appid': 5268, 'name': 'Left 4 Dead 2: E3 Teaser'},\n",
       " {'appid': 5269, 'name': 'FUEL Trailer'},\n",
       " {'appid': 5270, 'name': 'FUEL Trailer (UK)'},\n",
       " {'appid': 5271, 'name': 'FUEL Trailer (DE)'},\n",
       " {'appid': 5272, 'name': 'Overlord II Trailer'},\n",
       " {'appid': 5273, 'name': 'Splinter Cell Conviction E3 Gameplay'},\n",
       " {'appid': 5274, 'name': 'Splinter Cell Conviction E3 Trailer'},\n",
       " {'appid': 5275, 'name': \"America's Army 3 Teaser\"},\n",
       " {'appid': 5276, 'name': \"America's Army 3 Authenticy\"},\n",
       " {'appid': 5277, 'name': \"America's Army 3 Basic Combat Training\"},\n",
       " {'appid': 5278, 'name': \"America's Army 3 New Features\"},\n",
       " {'appid': 5279, 'name': \"America's Army 3 Technology\"},\n",
       " {'appid': 5280, 'name': 'Global Agenda - No Elves Trailer'},\n",
       " {'appid': 5281, 'name': 'Mini Ninjas E3 Trailer'},\n",
       " {'appid': 5282, 'name': 'Assassins Creed 2 E3 Trailer'},\n",
       " {'appid': 5283, 'name': 'Just Cause 2 Trailer'},\n",
       " {'appid': 5284, 'name': 'Mini Ninjas HIRO Vignette'},\n",
       " {'appid': 5285, 'name': 'Rogue Warrior Trailer'},\n",
       " {'appid': 5286, 'name': 'Oblivion Game of the Year Edition Trailer'},\n",
       " {'appid': 5287, 'name': 'Rail Sim Trailer'},\n",
       " {'appid': 5288, 'name': 'Prototype Launch Trailer'},\n",
       " {'appid': 5289, 'name': 'Prototype Intro'},\n",
       " {'appid': 5290, 'name': \"America's Army 3 Long Trailer\"},\n",
       " {'appid': 5291, 'name': 'Ghostbusters Trailer'},\n",
       " {'appid': 5292, 'name': 'Ghostbusters: Rule2 Traps'},\n",
       " {'appid': 5293, 'name': 'ARMA 2 USMC Trailer'},\n",
       " {'appid': 5294, 'name': 'ARMA 2 In Game Footage'},\n",
       " {'appid': 5295, 'name': 'ARMA 2 Citizens Trailer'},\n",
       " {'appid': 5296, 'name': 'Cities XL Trailer'},\n",
       " {'appid': 5297, 'name': 'Call of Juarez 2: Brothers Trailer'},\n",
       " {'appid': 5298, 'name': 'Dawn of War II - Tyranids vs. Eldar'},\n",
       " {'appid': 5299, 'name': 'Dawn of War II - Space Marines vs. Orks'},\n",
       " {'appid': 5300, 'name': 'Trine Teaser Trailer'},\n",
       " {'appid': 5301, 'name': 'Trine Trailer'},\n",
       " {'appid': 5303, 'name': 'Tales of Monkey Island Trailer'},\n",
       " {'appid': 5304, 'name': 'Droplitz Trailer'},\n",
       " {'appid': 5305, 'name': 'Team Fortress 2: Meet the Spy (Russian)'},\n",
       " {'appid': 5306, 'name': 'Trine Trailer 3'},\n",
       " {'appid': 5309, 'name': 'Bionic Command Rearmed Trailer'},\n",
       " {'appid': 5310, 'name': 'Bionic Commando Trailer'},\n",
       " {'appid': 5311, 'name': 'Champions Online Teaser'},\n",
       " {'appid': 5312, 'name': 'Order of War Trailer'},\n",
       " {'appid': 5315, 'name': 'X3 Terran Conflict 2.0 Trailer'},\n",
       " {'appid': 5316, 'name': 'Anno 1404 Trailer'},\n",
       " {'appid': 5317, 'name': 'Anno 1404 Mood Trailer'},\n",
       " {'appid': 5319, 'name': 'Batman Arkham Asylum Combat'},\n",
       " {'appid': 5320, 'name': 'Batman Arkham Asylum Invisible'},\n",
       " {'appid': 5321, 'name': 'Batman Arkham Asylum Joker'},\n",
       " {'appid': 5322, 'name': 'Divinity 2 - Trailer 1 (English)'},\n",
       " {'appid': 5323, 'name': 'Divinity 2 - Trailer 1 (German)'},\n",
       " {'appid': 5324, 'name': 'Divinity 2 - Trailer 2 (German)'},\n",
       " {'appid': 5325, 'name': 'Divinity 2 - Trailer 2 (English)'},\n",
       " {'appid': 5326, 'name': 'Divinity 2 - Trailer 3 (English)'},\n",
       " {'appid': 5327, 'name': 'Divinity 2 - Trailer 3 (German)'},\n",
       " {'appid': 5328, 'name': 'Cloudy with a Chance of Meatballs - Trailer'},\n",
       " {'appid': 5329, 'name': 'Foreign Legion: Buckets of Blood Trailer'},\n",
       " {'appid': 5330, 'name': 'Cricket Revolution Gameplay'},\n",
       " {'appid': 5331, 'name': 'Cricket Revolution Trailer'},\n",
       " {'appid': 5332, 'name': 'Dawn of Discovery Intro'},\n",
       " {'appid': 5333, 'name': 'EVE Online Butterfly Effect'},\n",
       " {'appid': 5334, 'name': 'Drug Wars Trailer - No Price'},\n",
       " {'appid': 5335, 'name': 'Raven Squad Trailer'},\n",
       " {'appid': 5337, 'name': 'Darkest of Days Time Periods'},\n",
       " {'appid': 5338, 'name': 'Darkest of Days Instructional Trailer'},\n",
       " {'appid': 5339, 'name': 'Darkest of Days Trailer'},\n",
       " {'appid': 5340, 'name': 'Section 8 Teaser Trailer'},\n",
       " {'appid': 5341, 'name': 'Trine Trailer 4'},\n",
       " {'appid': 5342, 'name': 'R.U.S.E. E3 Demo Part 1'},\n",
       " {'appid': 5343, 'name': 'R.U.S.E. E3 Demo Part 2'},\n",
       " {'appid': 5344, 'name': 'Bookworm Adventures 2'},\n",
       " {'appid': 5345, 'name': 'CSI Deadly Intent'},\n",
       " {'appid': 5346, 'name': 'Heroes Over Europe'},\n",
       " {'appid': 5347, 'name': 'Batman Arkham Asylum Gadgets Trailer'},\n",
       " {'appid': 5348, 'name': 'Batman Arkham Asylum Demo Trailer'},\n",
       " {'appid': 5349, 'name': 'Ashes Cricket 2009 - Great Players Trailer'},\n",
       " {'appid': 5350, 'name': 'Ashes Cricket 2009 - Tunnel Trailer'},\n",
       " {'appid': 5351, 'name': 'Ashes Cricket 2009 - World of Cricket Trailer'},\n",
       " {'appid': 5353, 'name': 'Wolfenstein Trailer HD'},\n",
       " {'appid': 5360, 'name': 'Mini Ninjas - Gameplay Trailer (EU)'},\n",
       " {'appid': 5361, 'name': 'Mini Ninjas - Gameplay Trailer (US)'},\n",
       " {'appid': 5362, 'name': 'Mini Ninjas - Suzume Trailer (EU)'},\n",
       " {'appid': 5363, 'name': 'Mini Ninjas - Suzume Trailer (US)'},\n",
       " {'appid': 5364, 'name': 'Crash Time 2 Trailer'},\n",
       " {'appid': 5365, 'name': 'Assassins Creed 2 Developer Diary'},\n",
       " {'appid': 5366, 'name': 'Section 8 E3 Trailer'},\n",
       " {'appid': 5367, 'name': 'Heroes Over Europe - Ace Kill Trailer'},\n",
       " {'appid': 5368, 'name': 'Dawn of War 2 - Last Stand'},\n",
       " {'appid': 5369, 'name': 'Call of Juarez Bound in Blood - Feature Trailer'},\n",
       " {'appid': 5370, 'name': 'Heroes Over Europe - Environments'},\n",
       " {'appid': 5371, 'name': 'Heroes Over Europe - Planes'},\n",
       " {'appid': 5372, 'name': 'Aliens vs Predator Marine Reveal Trailer'},\n",
       " {'appid': 5374, 'name': 'World of Zoo Trailer'},\n",
       " {'appid': 5375, 'name': 'Nation Red Trailer'},\n",
       " {'appid': 5376, 'name': 'Mini Ninjas - Kunoichi Trailer (EU)'},\n",
       " {'appid': 5377, 'name': 'Mini Ninjas - Kunoichi Trailer (US)'},\n",
       " {'appid': 5378, 'name': 'Mini Ninjas - Launch Trailer (EU)'},\n",
       " {'appid': 5379, 'name': 'Mini Ninjas - Launch Trailer (US)'},\n",
       " {'appid': 5386, 'name': 'Batman Arkham Asylum Launch Trailer (EU)'},\n",
       " {'appid': 5387, 'name': 'Batman Arkham Asylum Launch Trailer'},\n",
       " {'appid': 5388, 'name': 'Heroes Over Europe - Multiplayer Trailer'},\n",
       " {'appid': 5389,\n",
       "  'name': 'Empire: Total War - Warpath Campaign (English) Trailer'},\n",
       " {'appid': 5390,\n",
       "  'name': 'Empire: Total War - Warpath Campaign (Russian) Trailer'},\n",
       " {'appid': 5391,\n",
       "  'name': 'Empire: Total War - Warpath Campaign (Italian) Trailer'},\n",
       " {'appid': 5392, 'name': 'Napoleon: Total War Trailer'},\n",
       " {'appid': 5394,\n",
       "  'name': 'Empire: Total War - Warpath Campaign (German) Trailer'},\n",
       " {'appid': 5395, 'name': 'Risen Trailer'},\n",
       " {'appid': 5396,\n",
       "  'name': 'Empire: Total War - Warpath Campaign (French) Trailer'},\n",
       " {'appid': 5397, 'name': 'Napoleon: Total War (German) Trailer'},\n",
       " {'appid': 5398, 'name': 'Napoleon: Total War (French) Trailer'},\n",
       " {'appid': 5399, 'name': 'Napoleon: Total War (Polish) Trailer'},\n",
       " {'appid': 5400, 'name': 'Napoleon: Total War (Spanish) Trailer'},\n",
       " {'appid': 5401, 'name': 'Napoleon: Total War (Italian) Trailer'},\n",
       " {'appid': 5402, 'name': 'Napoleon: Total War (Russian) Trailer'},\n",
       " {'appid': 5404,\n",
       "  'name': 'Empire: Total War - Warpath Campaign (Polish) Trailer'},\n",
       " {'appid': 5405,\n",
       "  'name': 'Empire: Total War - Warpath Campaign (Spanish) Trailer'},\n",
       " {'appid': 5406, 'name': 'cities xl'},\n",
       " {'appid': 5409, 'name': 'Modern Warfare 2 - Reveal Trailer'},\n",
       " {'appid': 5410, 'name': 'Modern Warfare 2 - MultiPlayer Trailer'},\n",
       " {'appid': 5411, 'name': 'Modern Warfare 2 - Gameplay Trailer'},\n",
       " {'appid': 5414, 'name': 'Need for Speed SHIFT Trailer'},\n",
       " {'appid': 5415, 'name': 'Command & Conquer Red Alert 3 Uprising Trailer'},\n",
       " {'appid': 5416, 'name': 'MOHA Trailer'},\n",
       " {'appid': 5418, 'name': 'NBA 2K10'},\n",
       " {'appid': 5419, 'name': \"Tom Clancy's Splinter Cell Conviction - Numbers\"},\n",
       " {'appid': 5420, 'name': 'Dreamkiller Trailer'},\n",
       " {'appid': 5422, 'name': 'Borderlands Trailer'},\n",
       " {'appid': 5424, 'name': 'Metal Drift Trailer'},\n",
       " {'appid': 5426, 'name': 'cities game play'},\n",
       " {'appid': 5427,\n",
       "  'name': 'Operation Flashpoint - Dragon Rising Weapons Trailer'},\n",
       " {'appid': 5428,\n",
       "  'name': 'Operation Flashpoint - Dragon Rising Multiplayer Trailer'},\n",
       " {'appid': 5430, 'name': 'Race On Trailer'},\n",
       " {'appid': 5433, 'name': 'Doom Rails Trailer'},\n",
       " {'appid': 5434, 'name': 'SAW Trailer'},\n",
       " {'appid': 5435, 'name': 'Ninja Blade Trailer'},\n",
       " {'appid': 5445, 'name': 'Dragon Age Origins Main Trailer'},\n",
       " {'appid': 5446, 'name': 'Dragon Age Origins Gameplay Trailer'},\n",
       " {'appid': 5447, 'name': 'Dragon Age Origins Stone Prisoner Trailer'},\n",
       " {'appid': 5449, 'name': 'Dragon Age Origins Blood Dragon Armor Trailer'},\n",
       " {'appid': 5450, 'name': 'Dragon Age Origins Wardens Keep Trailer'},\n",
       " {'appid': 5451, 'name': 'Dragon Age Origins Sacred Ashes_2 Trailer'},\n",
       " {'appid': 5453, 'name': 'AI War Trailer'},\n",
       " {'appid': 5455, 'name': 'Massive Assault Network 2 Trailer'},\n",
       " {'appid': 5456, 'name': 'Massive Assault Phantom Renaissance Trailer'},\n",
       " {'appid': 5457, 'name': 'Dawn of War II - The Last Stand Developer Diary'},\n",
       " {'appid': 5459, 'name': 'Dangerous High Schools in Trouble Trailer'},\n",
       " {'appid': 5460, 'name': 'R.U.S.E. - Pump Fake Strategy Trailer'},\n",
       " {'appid': 5461, 'name': 'Torchlight Alchemist Trailer'},\n",
       " {'appid': 5462, 'name': 'Torchlight Vanquisher Trailer'},\n",
       " {'appid': 5463, 'name': 'Torchlight Destroyer Trailer'},\n",
       " {'appid': 5464,\n",
       "  'name': \"Tom Clancy's Splinter Cell - Conviction TGS Walk-Thru Video\"},\n",
       " {'appid': 5465, 'name': 'AvP - Alien Gameplay'},\n",
       " {'appid': 5467, 'name': 'Aztaka Trailer'},\n",
       " {'appid': 5468, 'name': 'Men of War Red Tide Trailer'},\n",
       " {'appid': 5470, 'name': 'Modern Warfare 2 Infamy Trailer'},\n",
       " {'appid': 5471, 'name': 'Shattered Horizons Trailer'},\n",
       " {'appid': 5472, 'name': 'Zombie Bowl-O-Rama Trailer'},\n",
       " {'appid': 5473, 'name': 'Defence Alliance 2 Trailer'},\n",
       " {'appid': 5474, 'name': 'East India Company Privateer Trailer'},\n",
       " {'appid': 5475, 'name': 'Serious Sam HD Trailer'},\n",
       " {'appid': 5476, 'name': 'Killing Floor Level Up Trailer'},\n",
       " {'appid': 5477, 'name': 'James Camerons AVATAR - THE GAME Trailer'},\n",
       " {'appid': 5478, 'name': 'Command and Conquer 3 Tiberium Wars Trailer'},\n",
       " {'appid': 5479, 'name': 'Star Trek DAC Trailer'},\n",
       " {'appid': 5480, 'name': 'Sacred 2 Ice and Blood Trailer'},\n",
       " {'appid': 5481, 'name': 'Command and Conquer 3 Kanes Wrath Trailer'},\n",
       " {'appid': 5483, 'name': 'Shattered Horizon Soundtrack Trailer'},\n",
       " {'appid': 5484,\n",
       "  'name': 'James Camerons Avatar - The Game - Developer Diary 2'},\n",
       " {'appid': 5486, 'name': 'Shattered Horizon Escalation Trailer'},\n",
       " {'appid': 5487, 'name': 'SpellForce Platinum Trailer'},\n",
       " {'appid': 5488, 'name': 'Devil May Cry 4'},\n",
       " {'appid': 5489, 'name': 'Left 4 Dead 2 - TV Spot 2'},\n",
       " {'appid': 5492, 'name': 'Just Cause 2 No Ordinary Trailer'},\n",
       " {'appid': 5494, 'name': 'King Arthur Trailer'},\n",
       " {'appid': 5495, 'name': 'Altitude Trailer'},\n",
       " {'appid': 5496, 'name': 'Serious Sam HD Happy Trailer'},\n",
       " {'appid': 5497, 'name': 'Serious Sam Supermercial'},\n",
       " {'appid': 5499, 'name': 'Command & Conquer 4 Announcement Trailer'},\n",
       " {'appid': 5500, 'name': 'Shattered Horizon Silent Running Trailer'},\n",
       " {'appid': 5501, 'name': 'DiRT 2 Trailer'},\n",
       " {'appid': 5502, 'name': 'Kings Bounty Armored Princess Trailer'},\n",
       " {'appid': 5503,\n",
       "  'name': 'James Camerons Avatar - The Game - Navi Gameplay Trailer'},\n",
       " {'appid': 5504, 'name': 'DiRT 2 Steam Trailer'},\n",
       " {'appid': 5505, 'name': 'AI War Trailer with Sound'},\n",
       " {'appid': 5507, 'name': 'Blood Bowl Trailer'},\n",
       " {'appid': 5510, 'name': 'Star Wars Galaxies Trailer'},\n",
       " {'appid': 5511,\n",
       "  'name': 'James Camerons Avatar - The Game - Developer Diary 3'},\n",
       " {'appid': 5512, 'name': 'Left 4 Dead 2 Final TV Spot'},\n",
       " {'appid': 5513, 'name': 'Star Trek Online Gameplay Trailer'},\n",
       " {'appid': 5514, 'name': 'Serious Sam HD Release Trailer'},\n",
       " {'appid': 5515, 'name': 'Borderlands Zombie Island DLC Trailer'},\n",
       " {'appid': 5516, 'name': 'Crash Time 3 PEGI Trailer'},\n",
       " {'appid': 5517, 'name': 'Crash Time 3 PEGI Trailer 2'},\n",
       " {'appid': 5518, 'name': 'Mass Effect 2 Trailer'},\n",
       " {'appid': 5519,\n",
       "  'name': 'James Camerons Avatar - The Game - Developer Diary 4'},\n",
       " {'appid': 5520, 'name': 'Altitude Trailer 2'},\n",
       " {'appid': 5521, 'name': 'Virtua Tennis 2009 Final Trailer'},\n",
       " {'appid': 5522, 'name': 'Fallout 3 Operation Achorage Trailer'},\n",
       " {'appid': 5523, 'name': 'Fallout 3 Broken Steel Trailer'},\n",
       " {'appid': 5524, 'name': 'Fallout 3 Mothership Zeta Trailer'},\n",
       " {'appid': 5525, 'name': 'Fallout 3 Point Lookout Trailer'},\n",
       " {'appid': 5526, 'name': 'Fallout 3 Bloodless Trailer'},\n",
       " {'appid': 5527, 'name': 'EVE Online Dominion Trailer'},\n",
       " {'appid': 5529, 'name': 'Everquest Underfoot Trailer'},\n",
       " {'appid': 5530, 'name': 'Americas Army 3 Full Trailer'},\n",
       " {'appid': 5531, 'name': 'Americas Army 3 Authenticity Trailer'},\n",
       " {'appid': 5532, 'name': 'Americas Army 3 Basic Combat Training Trailer'},\n",
       " {'appid': 5533, 'name': 'Americas Army 3 New Features Trailer'},\n",
       " {'appid': 5534, 'name': 'Americas Army 3 Technology Trailer'},\n",
       " {'appid': 5535, 'name': 'Just Cause 2: The Laws of Physics Trailer'},\n",
       " {'appid': 5536, 'name': 'Napoleon Trailer - Story Mode'},\n",
       " {'appid': 5537, 'name': 'Europa Universalis III Heir to the Throne Trailer'},\n",
       " {'appid': 5538, 'name': 'ARMA II Eagle Wing Trailer'},\n",
       " {'appid': 5539, 'name': 'Kane and Lynch 2 Trailer'},\n",
       " {'appid': 5540, 'name': 'Kane & Lynch 2 Burger Joint Trailer'},\n",
       " {'appid': 5541, 'name': 'Zero Gear Trailer'},\n",
       " {'appid': 5542, 'name': 'Nuclear Dawn Teaser Trailer'},\n",
       " {'appid': 5543, 'name': 'Kane & Lynch 2 Bowling for Shanghai Video'},\n",
       " {'appid': 5544, 'name': 'Foreign Legion Buckets of Blood Gameplay Trailer'},\n",
       " {'appid': 5545, 'name': 'Prince of Persia Forgotten Sands'},\n",
       " {'appid': 5546, 'name': 'James Camerons Avatar - The Game - Launch Trailer'},\n",
       " {'appid': 5547,\n",
       "  'name': \"Tom Clancy's Splinter Cell Conviction - Co-op Trailer\"},\n",
       " {'appid': 5549, 'name': 'Just Cause 2  An Island In Chaos Trailer'},\n",
       " {'appid': 5550, 'name': 'Dragon Age Origins Awakening Trailer'},\n",
       " {'appid': 5551, 'name': 'Dark Void Trailer'},\n",
       " {'appid': 5552, 'name': 'Supreme Commander 2 Trailer'},\n",
       " {'appid': 5553, 'name': 'Greed Trailer'},\n",
       " {'appid': 5554, 'name': 'Vancouver 2010 UK Trailer'},\n",
       " {'appid': 5555, 'name': 'Vancouver 2010 Spain Trailer'},\n",
       " {'appid': 5556, 'name': 'Vancouver 2010 Italian Trailer'},\n",
       " {'appid': 5557, 'name': 'Vancouver 2010 German Trailer'},\n",
       " {'appid': 5558, 'name': 'Vancouver 2010 French Trailer'},\n",
       " {'appid': 5559, 'name': 'Vancouver 2010 Australian Trailer'},\n",
       " {'appid': 5560, 'name': 'Vancouver 2010 Dutch Trailer'},\n",
       " {'appid': 5561, 'name': 'Battlefield: Bad Company 2 Squad Story Trailer'},\n",
       " {'appid': 5562, 'name': 'AI War The Zenith Remnant Trailer'},\n",
       " {'appid': 5563, 'name': 'Greed Gameplay Trailer'},\n",
       " {'appid': 5564, 'name': 'Lego Indiana Jones 2 Trailer'},\n",
       " {'appid': 5565,\n",
       "  'name': 'Battlefield: Bad Company 2 Limited Edition Unlocks Trailer'},\n",
       " {'appid': 5566, 'name': 'Battlefield: Bad Company 2  E3 Trailer'},\n",
       " {'appid': 5567,\n",
       "  'name': 'Battlefield: Bad Company 2 Moments Episode 3 Panama Canal'},\n",
       " {'appid': 5568,\n",
       "  'name': 'Battlefield: Bad Company 2 - Moments Episode 2 Arica Harbour'},\n",
       " {'appid': 5569,\n",
       "  'name': 'Battlefield: Bad Company 2 Moments Episode One Trailer'},\n",
       " {'appid': 5570, 'name': 'Aliens vs. Predator Classic 2000 Trailer'},\n",
       " {'appid': 5571, 'name': '4x4 Hummer Trailer'},\n",
       " {'appid': 5572, 'name': 'Lord of the Rings Online Trailer'},\n",
       " {'appid': 5573, 'name': 'Warnings at Waverly Academy Trailer'},\n",
       " {'appid': 5574, 'name': 'Global Agenda Launch Trailer'},\n",
       " {'appid': 5575, 'name': 'Alien Breed Trailer'},\n",
       " {'appid': 5576, 'name': 'Galcon Fusion Trailer'},\n",
       " {'appid': 5577, 'name': 'Bob Came in Pieces Trailer'},\n",
       " {'appid': 5578, 'name': 'Silent Hunter V - Dynamic Campaign Trailer'},\n",
       " {'appid': 5579, 'name': 'Mass Effect 2 Launch Trailer'},\n",
       " {'appid': 5580, 'name': 'EverQuest II Sentinels Fate Trailer'},\n",
       " {'appid': 5581, 'name': 'Toki Tori Trailer'},\n",
       " {'appid': 5582, 'name': 'Sonic and SEGA All-Stars Racing Trailer'},\n",
       " {'appid': 5583, 'name': 'Secrets of the Magic Crystals Trailer'},\n",
       " {'appid': 5584, 'name': 'Order of War Challenge Trailer'},\n",
       " ...]"
      ]
     },
     "execution_count": 4,
     "metadata": {},
     "output_type": "execute_result"
    }
   ],
   "source": [
    "df = pd.json_normalize(df['applist']) #normalizamos la primera columna\n",
    "json_list = df.iloc[0].tolist() #ejecutamos .tolist() a la primera fila\n",
    "json_list"
   ]
  },
  {
   "cell_type": "code",
   "execution_count": 5,
   "id": "48019acb",
   "metadata": {},
   "outputs": [
    {
     "data": {
      "text/html": [
       "<div>\n",
       "<style scoped>\n",
       "    .dataframe tbody tr th:only-of-type {\n",
       "        vertical-align: middle;\n",
       "    }\n",
       "\n",
       "    .dataframe tbody tr th {\n",
       "        vertical-align: top;\n",
       "    }\n",
       "\n",
       "    .dataframe thead th {\n",
       "        text-align: right;\n",
       "    }\n",
       "</style>\n",
       "<table border=\"1\" class=\"dataframe\">\n",
       "  <thead>\n",
       "    <tr style=\"text-align: right;\">\n",
       "      <th></th>\n",
       "      <th>appid</th>\n",
       "      <th>name</th>\n",
       "    </tr>\n",
       "  </thead>\n",
       "  <tbody>\n",
       "    <tr>\n",
       "      <th>0</th>\n",
       "      <td>5</td>\n",
       "      <td>Dedicated Server</td>\n",
       "    </tr>\n",
       "    <tr>\n",
       "      <th>1</th>\n",
       "      <td>7</td>\n",
       "      <td>Steam Client</td>\n",
       "    </tr>\n",
       "    <tr>\n",
       "      <th>2</th>\n",
       "      <td>8</td>\n",
       "      <td>winui2</td>\n",
       "    </tr>\n",
       "    <tr>\n",
       "      <th>3</th>\n",
       "      <td>10</td>\n",
       "      <td>Counter-Strike</td>\n",
       "    </tr>\n",
       "    <tr>\n",
       "      <th>4</th>\n",
       "      <td>20</td>\n",
       "      <td>Team Fortress Classic</td>\n",
       "    </tr>\n",
       "    <tr>\n",
       "      <th>...</th>\n",
       "      <td>...</td>\n",
       "      <td>...</td>\n",
       "    </tr>\n",
       "    <tr>\n",
       "      <th>273251</th>\n",
       "      <td>4115600</td>\n",
       "      <td>恐怖地牢 Demo</td>\n",
       "    </tr>\n",
       "    <tr>\n",
       "      <th>273252</th>\n",
       "      <td>4115850</td>\n",
       "      <td>Sweet OL</td>\n",
       "    </tr>\n",
       "    <tr>\n",
       "      <th>273253</th>\n",
       "      <td>4116120</td>\n",
       "      <td>Creature Clicker - Capture, Train, Ascend! Pla...</td>\n",
       "    </tr>\n",
       "    <tr>\n",
       "      <th>273254</th>\n",
       "      <td>4117180</td>\n",
       "      <td>Monkey Do Playtest</td>\n",
       "    </tr>\n",
       "    <tr>\n",
       "      <th>273255</th>\n",
       "      <td>4118120</td>\n",
       "      <td>クジラゲームオンライン お～しゃんず Playtest</td>\n",
       "    </tr>\n",
       "  </tbody>\n",
       "</table>\n",
       "<p>273256 rows × 2 columns</p>\n",
       "</div>"
      ],
      "text/plain": [
       "          appid                                               name\n",
       "0             5                                   Dedicated Server\n",
       "1             7                                       Steam Client\n",
       "2             8                                             winui2\n",
       "3            10                                     Counter-Strike\n",
       "4            20                              Team Fortress Classic\n",
       "...         ...                                                ...\n",
       "273251  4115600                                          恐怖地牢 Demo\n",
       "273252  4115850                                           Sweet OL\n",
       "273253  4116120  Creature Clicker - Capture, Train, Ascend! Pla...\n",
       "273254  4117180                                 Monkey Do Playtest\n",
       "273255  4118120                        クジラゲームオンライン お～しゃんず Playtest\n",
       "\n",
       "[273256 rows x 2 columns]"
      ]
     },
     "execution_count": 5,
     "metadata": {},
     "output_type": "execute_result"
    }
   ],
   "source": [
    "result_df = pd.DataFrame(json_list)[['appid', 'name']] #volvemos lo previo a dataframe\n",
    "result_df"
   ]
  },
  {
   "cell_type": "code",
   "execution_count": 6,
   "id": "88de47f5",
   "metadata": {},
   "outputs": [
    {
     "data": {
      "text/html": [
       "<div>\n",
       "<style scoped>\n",
       "    .dataframe tbody tr th:only-of-type {\n",
       "        vertical-align: middle;\n",
       "    }\n",
       "\n",
       "    .dataframe tbody tr th {\n",
       "        vertical-align: top;\n",
       "    }\n",
       "\n",
       "    .dataframe thead th {\n",
       "        text-align: right;\n",
       "    }\n",
       "</style>\n",
       "<table border=\"1\" class=\"dataframe\">\n",
       "  <thead>\n",
       "    <tr style=\"text-align: right;\">\n",
       "      <th></th>\n",
       "      <th>Ranking</th>\n",
       "      <th>vacio</th>\n",
       "      <th>name</th>\n",
       "      <th>jugadores_actuales</th>\n",
       "      <th>24H-jugadores</th>\n",
       "      <th>Historico</th>\n",
       "      <th>nada2</th>\n",
       "    </tr>\n",
       "  </thead>\n",
       "  <tbody>\n",
       "    <tr>\n",
       "      <th>0</th>\n",
       "      <td>1</td>\n",
       "      <td>NaN</td>\n",
       "      <td>Counter-Strike 2</td>\n",
       "      <td>570,155</td>\n",
       "      <td>1,351,838</td>\n",
       "      <td>1,862,531</td>\n",
       "      <td>+</td>\n",
       "    </tr>\n",
       "    <tr>\n",
       "      <th>1</th>\n",
       "      <td>2</td>\n",
       "      <td>NaN</td>\n",
       "      <td>Dota 2</td>\n",
       "      <td>355,440</td>\n",
       "      <td>742,248</td>\n",
       "      <td>1,295,114</td>\n",
       "      <td>+</td>\n",
       "    </tr>\n",
       "    <tr>\n",
       "      <th>2</th>\n",
       "      <td>3</td>\n",
       "      <td>NaN</td>\n",
       "      <td>Battlefield™ 6</td>\n",
       "      <td>262,954</td>\n",
       "      <td>358,857</td>\n",
       "      <td>747,440</td>\n",
       "      <td>+</td>\n",
       "    </tr>\n",
       "    <tr>\n",
       "      <th>3</th>\n",
       "      <td>4</td>\n",
       "      <td>NaN</td>\n",
       "      <td>Banana</td>\n",
       "      <td>95,331</td>\n",
       "      <td>113,836</td>\n",
       "      <td>917,272</td>\n",
       "      <td>+</td>\n",
       "    </tr>\n",
       "    <tr>\n",
       "      <th>4</th>\n",
       "      <td>5</td>\n",
       "      <td>NaN</td>\n",
       "      <td>PUBG: BATTLEGROUNDS</td>\n",
       "      <td>76,317</td>\n",
       "      <td>627,837</td>\n",
       "      <td>3,257,248</td>\n",
       "      <td>+</td>\n",
       "    </tr>\n",
       "  </tbody>\n",
       "</table>\n",
       "</div>"
      ],
      "text/plain": [
       "   Ranking  vacio                 name jugadores_actuales 24H-jugadores  \\\n",
       "0        1    NaN     Counter-Strike 2            570,155     1,351,838   \n",
       "1        2    NaN               Dota 2            355,440       742,248   \n",
       "2        3    NaN       Battlefield™ 6            262,954       358,857   \n",
       "3        4    NaN               Banana             95,331       113,836   \n",
       "4        5    NaN  PUBG: BATTLEGROUNDS             76,317       627,837   \n",
       "\n",
       "   Historico nada2  \n",
       "0  1,862,531     +  \n",
       "1  1,295,114     +  \n",
       "2    747,440     +  \n",
       "3    917,272     +  \n",
       "4  3,257,248     +  "
      ]
     },
     "execution_count": 6,
     "metadata": {},
     "output_type": "execute_result"
    }
   ],
   "source": [
    "cincok = pd.read_csv('archivo.txt', sep='\\t', engine='python', header=None, encoding='utf-8-sig') #este codigo fue generado gracias a chat gpt, busca el poder volver el .txt a dataframe\n",
    "cincok.columns = ['Ranking', 'vacio', 'name', 'jugadores_actuales', '24H-jugadores', 'Historico', 'nada2'] #acomodamos las columnas, hay 2 columnas cuyos datos son irrevelevantes o estan vacias, estas son las con nombres vacios y nada2\n",
    "cincok['Ranking'] = cincok['Ranking'].astype(str).str.extract(r'(\\d+)').astype(int) # Limpiar la columna Ranking (eliminar el punto si está como \"1.\")\n",
    "cincok.head()\n"
   ]
  },
  {
   "cell_type": "code",
   "execution_count": 7,
   "id": "13779c83",
   "metadata": {},
   "outputs": [
    {
     "data": {
      "text/html": [
       "<div>\n",
       "<style scoped>\n",
       "    .dataframe tbody tr th:only-of-type {\n",
       "        vertical-align: middle;\n",
       "    }\n",
       "\n",
       "    .dataframe tbody tr th {\n",
       "        vertical-align: top;\n",
       "    }\n",
       "\n",
       "    .dataframe thead th {\n",
       "        text-align: right;\n",
       "    }\n",
       "</style>\n",
       "<table border=\"1\" class=\"dataframe\">\n",
       "  <thead>\n",
       "    <tr style=\"text-align: right;\">\n",
       "      <th></th>\n",
       "      <th>name</th>\n",
       "      <th>Historico</th>\n",
       "    </tr>\n",
       "  </thead>\n",
       "  <tbody>\n",
       "    <tr>\n",
       "      <th>0</th>\n",
       "      <td>Counter-Strike 2</td>\n",
       "      <td>1,862,531</td>\n",
       "    </tr>\n",
       "    <tr>\n",
       "      <th>1</th>\n",
       "      <td>Dota 2</td>\n",
       "      <td>1,295,114</td>\n",
       "    </tr>\n",
       "    <tr>\n",
       "      <th>2</th>\n",
       "      <td>Battlefield™ 6</td>\n",
       "      <td>747,440</td>\n",
       "    </tr>\n",
       "    <tr>\n",
       "      <th>3</th>\n",
       "      <td>Banana</td>\n",
       "      <td>917,272</td>\n",
       "    </tr>\n",
       "    <tr>\n",
       "      <th>4</th>\n",
       "      <td>PUBG: BATTLEGROUNDS</td>\n",
       "      <td>3,257,248</td>\n",
       "    </tr>\n",
       "  </tbody>\n",
       "</table>\n",
       "</div>"
      ],
      "text/plain": [
       "                  name  Historico\n",
       "0     Counter-Strike 2  1,862,531\n",
       "1               Dota 2  1,295,114\n",
       "2       Battlefield™ 6    747,440\n",
       "3               Banana    917,272\n",
       "4  PUBG: BATTLEGROUNDS  3,257,248"
      ]
     },
     "execution_count": 7,
     "metadata": {},
     "output_type": "execute_result"
    }
   ],
   "source": [
    "cincok.drop(columns=['vacio', 'nada2', 'Ranking', 'jugadores_actuales', '24H-jugadores'], inplace=True) #eliminamos las columnas que no vamos a usar\n",
    "cincok.head()"
   ]
  },
  {
   "cell_type": "code",
   "execution_count": 8,
   "id": "88b57f54",
   "metadata": {},
   "outputs": [
    {
     "data": {
      "text/html": [
       "<div>\n",
       "<style scoped>\n",
       "    .dataframe tbody tr th:only-of-type {\n",
       "        vertical-align: middle;\n",
       "    }\n",
       "\n",
       "    .dataframe tbody tr th {\n",
       "        vertical-align: top;\n",
       "    }\n",
       "\n",
       "    .dataframe thead th {\n",
       "        text-align: right;\n",
       "    }\n",
       "</style>\n",
       "<table border=\"1\" class=\"dataframe\">\n",
       "  <thead>\n",
       "    <tr style=\"text-align: right;\">\n",
       "      <th></th>\n",
       "      <th>name</th>\n",
       "      <th>Historico</th>\n",
       "    </tr>\n",
       "  </thead>\n",
       "  <tbody>\n",
       "    <tr>\n",
       "      <th>4995</th>\n",
       "      <td>MiSide Demo</td>\n",
       "      <td>1,354</td>\n",
       "    </tr>\n",
       "    <tr>\n",
       "      <th>4996</th>\n",
       "      <td>Snezhinka</td>\n",
       "      <td>5,455</td>\n",
       "    </tr>\n",
       "    <tr>\n",
       "      <th>4997</th>\n",
       "      <td>Streets of Rogue 2 Demo</td>\n",
       "      <td>1,488</td>\n",
       "    </tr>\n",
       "    <tr>\n",
       "      <th>4998</th>\n",
       "      <td>Garten of Banban 7</td>\n",
       "      <td>1,859</td>\n",
       "    </tr>\n",
       "    <tr>\n",
       "      <th>4999</th>\n",
       "      <td>Realm of Ink Demo</td>\n",
       "      <td>1,479</td>\n",
       "    </tr>\n",
       "  </tbody>\n",
       "</table>\n",
       "</div>"
      ],
      "text/plain": [
       "                         name Historico\n",
       "4995              MiSide Demo     1,354\n",
       "4996                Snezhinka     5,455\n",
       "4997  Streets of Rogue 2 Demo     1,488\n",
       "4998       Garten of Banban 7     1,859\n",
       "4999        Realm of Ink Demo     1,479"
      ]
     },
     "execution_count": 8,
     "metadata": {},
     "output_type": "execute_result"
    }
   ],
   "source": [
    "cincok.tail()"
   ]
  },
  {
   "cell_type": "code",
   "execution_count": 9,
   "id": "735401d2",
   "metadata": {},
   "outputs": [
    {
     "data": {
      "text/html": [
       "<div>\n",
       "<style scoped>\n",
       "    .dataframe tbody tr th:only-of-type {\n",
       "        vertical-align: middle;\n",
       "    }\n",
       "\n",
       "    .dataframe tbody tr th {\n",
       "        vertical-align: top;\n",
       "    }\n",
       "\n",
       "    .dataframe thead th {\n",
       "        text-align: right;\n",
       "    }\n",
       "</style>\n",
       "<table border=\"1\" class=\"dataframe\">\n",
       "  <thead>\n",
       "    <tr style=\"text-align: right;\">\n",
       "      <th></th>\n",
       "      <th>name</th>\n",
       "      <th>Historico</th>\n",
       "      <th>appid</th>\n",
       "    </tr>\n",
       "  </thead>\n",
       "  <tbody>\n",
       "    <tr>\n",
       "      <th>0</th>\n",
       "      <td>Counter-Strike 2</td>\n",
       "      <td>1,862,531</td>\n",
       "      <td>730</td>\n",
       "    </tr>\n",
       "    <tr>\n",
       "      <th>1</th>\n",
       "      <td>Dota 2</td>\n",
       "      <td>1,295,114</td>\n",
       "      <td>570</td>\n",
       "    </tr>\n",
       "    <tr>\n",
       "      <th>2</th>\n",
       "      <td>Battlefield™ 6</td>\n",
       "      <td>747,440</td>\n",
       "      <td>2807960</td>\n",
       "    </tr>\n",
       "    <tr>\n",
       "      <th>3</th>\n",
       "      <td>Banana</td>\n",
       "      <td>917,272</td>\n",
       "      <td>2923300</td>\n",
       "    </tr>\n",
       "    <tr>\n",
       "      <th>4</th>\n",
       "      <td>PUBG: BATTLEGROUNDS</td>\n",
       "      <td>3,257,248</td>\n",
       "      <td>578080</td>\n",
       "    </tr>\n",
       "    <tr>\n",
       "      <th>...</th>\n",
       "      <td>...</td>\n",
       "      <td>...</td>\n",
       "      <td>...</td>\n",
       "    </tr>\n",
       "    <tr>\n",
       "      <th>4834</th>\n",
       "      <td>MiSide Demo</td>\n",
       "      <td>1,354</td>\n",
       "      <td>2527520</td>\n",
       "    </tr>\n",
       "    <tr>\n",
       "      <th>4835</th>\n",
       "      <td>Snezhinka</td>\n",
       "      <td>5,455</td>\n",
       "      <td>2608350</td>\n",
       "    </tr>\n",
       "    <tr>\n",
       "      <th>4836</th>\n",
       "      <td>Streets of Rogue 2 Demo</td>\n",
       "      <td>1,488</td>\n",
       "      <td>2670760</td>\n",
       "    </tr>\n",
       "    <tr>\n",
       "      <th>4837</th>\n",
       "      <td>Garten of Banban 7</td>\n",
       "      <td>1,859</td>\n",
       "      <td>2693060</td>\n",
       "    </tr>\n",
       "    <tr>\n",
       "      <th>4838</th>\n",
       "      <td>Realm of Ink Demo</td>\n",
       "      <td>1,479</td>\n",
       "      <td>2710500</td>\n",
       "    </tr>\n",
       "  </tbody>\n",
       "</table>\n",
       "<p>4839 rows × 3 columns</p>\n",
       "</div>"
      ],
      "text/plain": [
       "                         name  Historico    appid\n",
       "0            Counter-Strike 2  1,862,531      730\n",
       "1                      Dota 2  1,295,114      570\n",
       "2              Battlefield™ 6    747,440  2807960\n",
       "3                      Banana    917,272  2923300\n",
       "4         PUBG: BATTLEGROUNDS  3,257,248   578080\n",
       "...                       ...        ...      ...\n",
       "4834              MiSide Demo      1,354  2527520\n",
       "4835                Snezhinka      5,455  2608350\n",
       "4836  Streets of Rogue 2 Demo      1,488  2670760\n",
       "4837       Garten of Banban 7      1,859  2693060\n",
       "4838        Realm of Ink Demo      1,479  2710500\n",
       "\n",
       "[4839 rows x 3 columns]"
      ]
     },
     "execution_count": 9,
     "metadata": {},
     "output_type": "execute_result"
    }
   ],
   "source": [
    "df_merged = pd.merge(cincok, result_df, on='name', how='inner') #combinamos los 2 dataframes en uno que tenga solo aquellas filas con datos en comun en la columna name\n",
    "df_merged = df_merged.drop_duplicates(subset='name', keep='first')  #eliminamos los juegos que comparten el mismo nombre pero diferente id (nos quedaremos con el primero de estos)\n",
    "df_merged.reset_index(drop=True, inplace=True) #reiniciamos el index solo por comodidad\n",
    "df_merged"
   ]
  },
  {
   "cell_type": "code",
   "execution_count": 23,
   "id": "d3b10a6c",
   "metadata": {},
   "outputs": [],
   "source": [
    "df_merged.to_csv('review.csv', index=False)"
   ]
  },
  {
   "cell_type": "code",
   "execution_count": 24,
   "id": "16320ff8",
   "metadata": {},
   "outputs": [],
   "source": [
    "df_merged = pd.read_csv('review.csv')\n",
    "output_file = 'reviewfilled.csv'"
   ]
  },
  {
   "cell_type": "code",
   "execution_count": 26,
   "id": "c63ed713",
   "metadata": {},
   "outputs": [
    {
     "name": "stdout",
     "output_type": "stream",
     "text": [
      "Reanudando desde archivo parcial con 2100 registros ya guardados.\n",
      "Faltan por procesar: 2739\n"
     ]
    },
    {
     "name": "stderr",
     "output_type": "stream",
     "text": [
      "  4%|▍         | 105/2739 [00:11<03:29, 12.60it/s]"
     ]
    },
    {
     "name": "stdout",
     "output_type": "stream",
     "text": [
      "Guardado parcial: 2200 filas guardadas hasta ahora.\n"
     ]
    },
    {
     "name": "stderr",
     "output_type": "stream",
     "text": [
      "  7%|▋         | 201/2739 [00:21<03:58, 10.66it/s]"
     ]
    },
    {
     "name": "stdout",
     "output_type": "stream",
     "text": [
      "Guardado parcial: 2300 filas guardadas hasta ahora.\n"
     ]
    },
    {
     "name": "stderr",
     "output_type": "stream",
     "text": [
      " 11%|█         | 300/2739 [00:32<03:19, 12.24it/s]"
     ]
    },
    {
     "name": "stdout",
     "output_type": "stream",
     "text": [
      "Guardado parcial: 2400 filas guardadas hasta ahora.\n"
     ]
    },
    {
     "name": "stderr",
     "output_type": "stream",
     "text": [
      " 15%|█▍        | 400/2739 [00:43<04:09,  9.37it/s]"
     ]
    },
    {
     "name": "stdout",
     "output_type": "stream",
     "text": [
      "Guardado parcial: 2500 filas guardadas hasta ahora.\n"
     ]
    },
    {
     "name": "stderr",
     "output_type": "stream",
     "text": [
      " 18%|█▊        | 501/2739 [00:53<03:27, 10.76it/s]"
     ]
    },
    {
     "name": "stdout",
     "output_type": "stream",
     "text": [
      "Guardado parcial: 2600 filas guardadas hasta ahora.\n"
     ]
    },
    {
     "name": "stderr",
     "output_type": "stream",
     "text": [
      " 22%|██▏       | 603/2739 [01:04<02:56, 12.12it/s]"
     ]
    },
    {
     "name": "stdout",
     "output_type": "stream",
     "text": [
      "Guardado parcial: 2700 filas guardadas hasta ahora.\n"
     ]
    },
    {
     "name": "stderr",
     "output_type": "stream",
     "text": [
      " 26%|██▌       | 702/2739 [01:14<02:37, 12.97it/s]"
     ]
    },
    {
     "name": "stdout",
     "output_type": "stream",
     "text": [
      "Guardado parcial: 2800 filas guardadas hasta ahora.\n"
     ]
    },
    {
     "name": "stderr",
     "output_type": "stream",
     "text": [
      " 29%|██▉       | 799/2739 [01:25<03:23,  9.52it/s]"
     ]
    },
    {
     "name": "stdout",
     "output_type": "stream",
     "text": [
      "Guardado parcial: 2900 filas guardadas hasta ahora.\n"
     ]
    },
    {
     "name": "stderr",
     "output_type": "stream",
     "text": [
      " 33%|███▎      | 900/2739 [01:35<02:51, 10.71it/s]"
     ]
    },
    {
     "name": "stdout",
     "output_type": "stream",
     "text": [
      "Guardado parcial: 3000 filas guardadas hasta ahora.\n"
     ]
    },
    {
     "name": "stderr",
     "output_type": "stream",
     "text": [
      " 37%|███▋      | 1004/2739 [01:46<02:32, 11.37it/s]"
     ]
    },
    {
     "name": "stdout",
     "output_type": "stream",
     "text": [
      "Guardado parcial: 3100 filas guardadas hasta ahora.\n"
     ]
    },
    {
     "name": "stderr",
     "output_type": "stream",
     "text": [
      " 40%|████      | 1102/2739 [01:57<02:26, 11.19it/s]"
     ]
    },
    {
     "name": "stdout",
     "output_type": "stream",
     "text": [
      "Guardado parcial: 3200 filas guardadas hasta ahora.\n"
     ]
    },
    {
     "name": "stderr",
     "output_type": "stream",
     "text": [
      " 44%|████▍     | 1201/2739 [02:07<02:18, 11.13it/s]"
     ]
    },
    {
     "name": "stdout",
     "output_type": "stream",
     "text": [
      "Guardado parcial: 3300 filas guardadas hasta ahora.\n"
     ]
    },
    {
     "name": "stderr",
     "output_type": "stream",
     "text": [
      " 47%|████▋     | 1299/2739 [02:17<02:03, 11.63it/s]"
     ]
    },
    {
     "name": "stdout",
     "output_type": "stream",
     "text": [
      "Guardado parcial: 3400 filas guardadas hasta ahora.\n"
     ]
    },
    {
     "name": "stderr",
     "output_type": "stream",
     "text": [
      " 51%|█████     | 1401/2739 [02:28<02:14,  9.98it/s]"
     ]
    },
    {
     "name": "stdout",
     "output_type": "stream",
     "text": [
      "Guardado parcial: 3500 filas guardadas hasta ahora.\n"
     ]
    },
    {
     "name": "stderr",
     "output_type": "stream",
     "text": [
      " 55%|█████▍    | 1499/2739 [02:38<02:20,  8.82it/s]"
     ]
    },
    {
     "name": "stdout",
     "output_type": "stream",
     "text": [
      "Guardado parcial: 3600 filas guardadas hasta ahora.\n"
     ]
    },
    {
     "name": "stderr",
     "output_type": "stream",
     "text": [
      " 58%|█████▊    | 1599/2739 [02:49<02:15,  8.39it/s]"
     ]
    },
    {
     "name": "stdout",
     "output_type": "stream",
     "text": [
      "Guardado parcial: 3700 filas guardadas hasta ahora.\n"
     ]
    },
    {
     "name": "stderr",
     "output_type": "stream",
     "text": [
      " 62%|██████▏   | 1700/2739 [02:59<01:21, 12.72it/s]"
     ]
    },
    {
     "name": "stdout",
     "output_type": "stream",
     "text": [
      "Guardado parcial: 3800 filas guardadas hasta ahora.\n"
     ]
    },
    {
     "name": "stderr",
     "output_type": "stream",
     "text": [
      " 66%|██████▌   | 1804/2739 [03:11<01:19, 11.75it/s]"
     ]
    },
    {
     "name": "stdout",
     "output_type": "stream",
     "text": [
      "Guardado parcial: 3900 filas guardadas hasta ahora.\n"
     ]
    },
    {
     "name": "stderr",
     "output_type": "stream",
     "text": [
      " 69%|██████▉   | 1896/2739 [03:21<01:53,  7.44it/s]"
     ]
    },
    {
     "name": "stdout",
     "output_type": "stream",
     "text": [
      "Guardado parcial: 4000 filas guardadas hasta ahora.\n"
     ]
    },
    {
     "name": "stderr",
     "output_type": "stream",
     "text": [
      " 73%|███████▎  | 2000/2739 [03:32<01:23,  8.87it/s]"
     ]
    },
    {
     "name": "stdout",
     "output_type": "stream",
     "text": [
      "Guardado parcial: 4100 filas guardadas hasta ahora.\n"
     ]
    },
    {
     "name": "stderr",
     "output_type": "stream",
     "text": [
      " 77%|███████▋  | 2098/2739 [03:42<01:04,  9.95it/s]"
     ]
    },
    {
     "name": "stdout",
     "output_type": "stream",
     "text": [
      "Guardado parcial: 4200 filas guardadas hasta ahora.\n"
     ]
    },
    {
     "name": "stderr",
     "output_type": "stream",
     "text": [
      " 80%|████████  | 2203/2739 [03:53<00:55,  9.63it/s]"
     ]
    },
    {
     "name": "stdout",
     "output_type": "stream",
     "text": [
      "Guardado parcial: 4300 filas guardadas hasta ahora.\n"
     ]
    },
    {
     "name": "stderr",
     "output_type": "stream",
     "text": [
      " 84%|████████▍ | 2302/2739 [04:03<00:34, 12.74it/s]"
     ]
    },
    {
     "name": "stdout",
     "output_type": "stream",
     "text": [
      "Guardado parcial: 4400 filas guardadas hasta ahora.\n"
     ]
    },
    {
     "name": "stderr",
     "output_type": "stream",
     "text": [
      " 88%|████████▊ | 2398/2739 [04:14<00:27, 12.52it/s]"
     ]
    },
    {
     "name": "stdout",
     "output_type": "stream",
     "text": [
      "Error con appid 526160: HTTPSConnectionPool(host='store.steampowered.com', port=443): Read timed out. (read timeout=5)\n",
      "Guardado parcial: 4500 filas guardadas hasta ahora.\n"
     ]
    },
    {
     "name": "stderr",
     "output_type": "stream",
     "text": [
      " 91%|█████████ | 2499/2739 [04:24<00:21, 11.31it/s]"
     ]
    },
    {
     "name": "stdout",
     "output_type": "stream",
     "text": [
      "Guardado parcial: 4600 filas guardadas hasta ahora.\n"
     ]
    },
    {
     "name": "stderr",
     "output_type": "stream",
     "text": [
      " 96%|█████████▌| 2633/2739 [04:39<00:08, 12.39it/s]"
     ]
    },
    {
     "name": "stdout",
     "output_type": "stream",
     "text": [
      "Guardado parcial: 4700 filas guardadas hasta ahora.\n"
     ]
    },
    {
     "name": "stderr",
     "output_type": "stream",
     "text": [
      " 99%|█████████▊| 2703/2739 [04:46<00:03, 10.21it/s]"
     ]
    },
    {
     "name": "stdout",
     "output_type": "stream",
     "text": [
      "Guardado parcial: 4800 filas guardadas hasta ahora.\n"
     ]
    },
    {
     "name": "stderr",
     "output_type": "stream",
     "text": [
      "100%|██████████| 2739/2739 [04:50<00:00,  9.43it/s]"
     ]
    },
    {
     "name": "stdout",
     "output_type": "stream",
     "text": [
      "Guardado parcial: 4839 filas guardadas hasta ahora.\n",
      "✅ Proceso completado.\n"
     ]
    },
    {
     "name": "stderr",
     "output_type": "stream",
     "text": [
      "\n"
     ]
    }
   ],
   "source": [
    "# Verificar si ya existe un archivo con datos previos\n",
    "if os.path.exists(output_file):\n",
    "    df_existente = pd.read_csv(output_file)\n",
    "    procesados = set(df_existente['appid'])\n",
    "    print(f\"Reanudando desde archivo parcial con {len(procesados)} registros ya guardados.\")\n",
    "else:\n",
    "    # Crear un DataFrame vacío con columnas necesarias\n",
    "    df_existente = pd.DataFrame(columns=['appid', 'review_score', 'review_score_desc', 'total_reviews'])\n",
    "    procesados = set()\n",
    "\n",
    "# Filtrar los appid que aún no se han procesado\n",
    "faltantes = df_merged[~df_merged['appid'].isin(procesados)].copy()\n",
    "print(f\"Faltan por procesar: {len(faltantes)}\")\n",
    "\n",
    "# Función que consulta la API de Steam\n",
    "def fetch_review(appid):\n",
    "    url = f'https://store.steampowered.com/appreviews/{appid}?json=1'\n",
    "    try:\n",
    "        response = requests.get(url, timeout=5)\n",
    "        data = response.json()\n",
    "        if data.get('success') == 1:\n",
    "            return {\n",
    "                'appid': appid,\n",
    "                'review_score': data['query_summary'].get('review_score'),\n",
    "                'review_score_desc': data['query_summary'].get('review_score_desc'),\n",
    "                'total_reviews': data['query_summary'].get('total_reviews')\n",
    "            }\n",
    "    except Exception as e:\n",
    "        print(f\"Error con appid {appid}: {e}\")\n",
    "    return {'appid': appid, 'review_score': None, 'review_score_desc': None, 'total_reviews': None}\n",
    "\n",
    "# Variables de control\n",
    "BATCH_SIZE = 100\n",
    "results = []\n",
    "\n",
    "# Descargar los datos en paralelo con barra de progreso\n",
    "with concurrent.futures.ThreadPoolExecutor(max_workers=10) as executor:\n",
    "    for i, result in enumerate(tqdm(executor.map(fetch_review, faltantes['appid']), total=len(faltantes))):\n",
    "        results.append(result)\n",
    "\n",
    "        # Guardado parcial cada BATCH_SIZE resultados\n",
    "        if (i + 1) % BATCH_SIZE == 0 or (i + 1) == len(faltantes):\n",
    "            df_temp = pd.DataFrame(results)\n",
    "            df_existente = pd.concat([df_existente, df_temp], ignore_index=True)\n",
    "            df_existente.to_csv(output_file, index=False)\n",
    "            results = []  # Vaciar buffer\n",
    "            print(f\"Guardado parcial: {len(df_existente)} filas guardadas hasta ahora.\")\n",
    "\n",
    "print(\"✅ Proceso completado.\")"
   ]
  },
  {
   "cell_type": "code",
   "execution_count": null,
   "id": "ec626a5b",
   "metadata": {},
   "outputs": [
    {
     "data": {
      "text/html": [
       "<div>\n",
       "<style scoped>\n",
       "    .dataframe tbody tr th:only-of-type {\n",
       "        vertical-align: middle;\n",
       "    }\n",
       "\n",
       "    .dataframe tbody tr th {\n",
       "        vertical-align: top;\n",
       "    }\n",
       "\n",
       "    .dataframe thead th {\n",
       "        text-align: right;\n",
       "    }\n",
       "</style>\n",
       "<table border=\"1\" class=\"dataframe\">\n",
       "  <thead>\n",
       "    <tr style=\"text-align: right;\">\n",
       "      <th></th>\n",
       "      <th>appid</th>\n",
       "      <th>review_score</th>\n",
       "      <th>review_score_desc</th>\n",
       "      <th>total_reviews</th>\n",
       "    </tr>\n",
       "  </thead>\n",
       "  <tbody>\n",
       "    <tr>\n",
       "      <th>0</th>\n",
       "      <td>730</td>\n",
       "      <td>8.0</td>\n",
       "      <td>Very Positive</td>\n",
       "      <td>1367090.0</td>\n",
       "    </tr>\n",
       "    <tr>\n",
       "      <th>1</th>\n",
       "      <td>570</td>\n",
       "      <td>8.0</td>\n",
       "      <td>Very Positive</td>\n",
       "      <td>6098.0</td>\n",
       "    </tr>\n",
       "    <tr>\n",
       "      <th>2</th>\n",
       "      <td>2807960</td>\n",
       "      <td>8.0</td>\n",
       "      <td>Very Positive</td>\n",
       "      <td>58813.0</td>\n",
       "    </tr>\n",
       "    <tr>\n",
       "      <th>3</th>\n",
       "      <td>2923300</td>\n",
       "      <td>0.0</td>\n",
       "      <td>No user reviews</td>\n",
       "      <td>0.0</td>\n",
       "    </tr>\n",
       "    <tr>\n",
       "      <th>4</th>\n",
       "      <td>578080</td>\n",
       "      <td>5.0</td>\n",
       "      <td>Mixed</td>\n",
       "      <td>277935.0</td>\n",
       "    </tr>\n",
       "  </tbody>\n",
       "</table>\n",
       "</div>"
      ],
      "text/plain": [
       "     appid  review_score review_score_desc  total_reviews\n",
       "0      730           8.0     Very Positive      1367090.0\n",
       "1      570           8.0     Very Positive         6098.0\n",
       "2  2807960           8.0     Very Positive        58813.0\n",
       "3  2923300           0.0   No user reviews            0.0\n",
       "4   578080           5.0             Mixed       277935.0"
      ]
     },
     "execution_count": 29,
     "metadata": {},
     "output_type": "execute_result"
    }
   ],
   "source": [
    "reviews = pd.read_csv('reviewfilled.csv')\n",
    "reviews.head()"
   ]
  },
  {
   "cell_type": "code",
   "execution_count": null,
   "id": "1171fc26",
   "metadata": {},
   "outputs": [
    {
     "data": {
      "text/html": [
       "<div>\n",
       "<style scoped>\n",
       "    .dataframe tbody tr th:only-of-type {\n",
       "        vertical-align: middle;\n",
       "    }\n",
       "\n",
       "    .dataframe tbody tr th {\n",
       "        vertical-align: top;\n",
       "    }\n",
       "\n",
       "    .dataframe thead th {\n",
       "        text-align: right;\n",
       "    }\n",
       "</style>\n",
       "<table border=\"1\" class=\"dataframe\">\n",
       "  <thead>\n",
       "    <tr style=\"text-align: right;\">\n",
       "      <th></th>\n",
       "      <th>name</th>\n",
       "      <th>Historico</th>\n",
       "      <th>appid</th>\n",
       "      <th>review_score_x</th>\n",
       "      <th>review_score_desc_x</th>\n",
       "      <th>total_reviews_x</th>\n",
       "      <th>review_score_y</th>\n",
       "      <th>review_score_desc_y</th>\n",
       "      <th>total_reviews_y</th>\n",
       "    </tr>\n",
       "  </thead>\n",
       "  <tbody>\n",
       "    <tr>\n",
       "      <th>0</th>\n",
       "      <td>Counter-Strike 2</td>\n",
       "      <td>1,862,531</td>\n",
       "      <td>730</td>\n",
       "      <td>8.0</td>\n",
       "      <td>Very Positive</td>\n",
       "      <td>1367090.0</td>\n",
       "      <td>8.0</td>\n",
       "      <td>Very Positive</td>\n",
       "      <td>1367090.0</td>\n",
       "    </tr>\n",
       "    <tr>\n",
       "      <th>1</th>\n",
       "      <td>Dota 2</td>\n",
       "      <td>1,295,114</td>\n",
       "      <td>570</td>\n",
       "      <td>8.0</td>\n",
       "      <td>Very Positive</td>\n",
       "      <td>6098.0</td>\n",
       "      <td>8.0</td>\n",
       "      <td>Very Positive</td>\n",
       "      <td>6098.0</td>\n",
       "    </tr>\n",
       "    <tr>\n",
       "      <th>2</th>\n",
       "      <td>Battlefield™ 6</td>\n",
       "      <td>747,440</td>\n",
       "      <td>2807960</td>\n",
       "      <td>8.0</td>\n",
       "      <td>Very Positive</td>\n",
       "      <td>58813.0</td>\n",
       "      <td>8.0</td>\n",
       "      <td>Very Positive</td>\n",
       "      <td>58813.0</td>\n",
       "    </tr>\n",
       "    <tr>\n",
       "      <th>3</th>\n",
       "      <td>Banana</td>\n",
       "      <td>917,272</td>\n",
       "      <td>2923300</td>\n",
       "      <td>0.0</td>\n",
       "      <td>No user reviews</td>\n",
       "      <td>0.0</td>\n",
       "      <td>0.0</td>\n",
       "      <td>No user reviews</td>\n",
       "      <td>0.0</td>\n",
       "    </tr>\n",
       "    <tr>\n",
       "      <th>4</th>\n",
       "      <td>PUBG: BATTLEGROUNDS</td>\n",
       "      <td>3,257,248</td>\n",
       "      <td>578080</td>\n",
       "      <td>5.0</td>\n",
       "      <td>Mixed</td>\n",
       "      <td>277935.0</td>\n",
       "      <td>5.0</td>\n",
       "      <td>Mixed</td>\n",
       "      <td>277935.0</td>\n",
       "    </tr>\n",
       "    <tr>\n",
       "      <th>...</th>\n",
       "      <td>...</td>\n",
       "      <td>...</td>\n",
       "      <td>...</td>\n",
       "      <td>...</td>\n",
       "      <td>...</td>\n",
       "      <td>...</td>\n",
       "      <td>...</td>\n",
       "      <td>...</td>\n",
       "      <td>...</td>\n",
       "    </tr>\n",
       "    <tr>\n",
       "      <th>4834</th>\n",
       "      <td>MiSide Demo</td>\n",
       "      <td>1,354</td>\n",
       "      <td>2527520</td>\n",
       "      <td>0.0</td>\n",
       "      <td>No user reviews</td>\n",
       "      <td>0.0</td>\n",
       "      <td>0.0</td>\n",
       "      <td>No user reviews</td>\n",
       "      <td>0.0</td>\n",
       "    </tr>\n",
       "    <tr>\n",
       "      <th>4835</th>\n",
       "      <td>Snezhinka</td>\n",
       "      <td>5,455</td>\n",
       "      <td>2608350</td>\n",
       "      <td>9.0</td>\n",
       "      <td>Overwhelmingly Positive</td>\n",
       "      <td>511.0</td>\n",
       "      <td>9.0</td>\n",
       "      <td>Overwhelmingly Positive</td>\n",
       "      <td>511.0</td>\n",
       "    </tr>\n",
       "    <tr>\n",
       "      <th>4836</th>\n",
       "      <td>Streets of Rogue 2 Demo</td>\n",
       "      <td>1,488</td>\n",
       "      <td>2670760</td>\n",
       "      <td>0.0</td>\n",
       "      <td>No user reviews</td>\n",
       "      <td>0.0</td>\n",
       "      <td>0.0</td>\n",
       "      <td>No user reviews</td>\n",
       "      <td>0.0</td>\n",
       "    </tr>\n",
       "    <tr>\n",
       "      <th>4837</th>\n",
       "      <td>Garten of Banban 7</td>\n",
       "      <td>1,859</td>\n",
       "      <td>2693060</td>\n",
       "      <td>8.0</td>\n",
       "      <td>Very Positive</td>\n",
       "      <td>852.0</td>\n",
       "      <td>8.0</td>\n",
       "      <td>Very Positive</td>\n",
       "      <td>852.0</td>\n",
       "    </tr>\n",
       "    <tr>\n",
       "      <th>4838</th>\n",
       "      <td>Realm of Ink Demo</td>\n",
       "      <td>1,479</td>\n",
       "      <td>2710500</td>\n",
       "      <td>0.0</td>\n",
       "      <td>No user reviews</td>\n",
       "      <td>0.0</td>\n",
       "      <td>0.0</td>\n",
       "      <td>No user reviews</td>\n",
       "      <td>0.0</td>\n",
       "    </tr>\n",
       "  </tbody>\n",
       "</table>\n",
       "<p>4839 rows × 9 columns</p>\n",
       "</div>"
      ],
      "text/plain": [
       "                         name  Historico    appid  review_score_x  \\\n",
       "0            Counter-Strike 2  1,862,531      730             8.0   \n",
       "1                      Dota 2  1,295,114      570             8.0   \n",
       "2              Battlefield™ 6    747,440  2807960             8.0   \n",
       "3                      Banana    917,272  2923300             0.0   \n",
       "4         PUBG: BATTLEGROUNDS  3,257,248   578080             5.0   \n",
       "...                       ...        ...      ...             ...   \n",
       "4834              MiSide Demo      1,354  2527520             0.0   \n",
       "4835                Snezhinka      5,455  2608350             9.0   \n",
       "4836  Streets of Rogue 2 Demo      1,488  2670760             0.0   \n",
       "4837       Garten of Banban 7      1,859  2693060             8.0   \n",
       "4838        Realm of Ink Demo      1,479  2710500             0.0   \n",
       "\n",
       "          review_score_desc_x  total_reviews_x  review_score_y  \\\n",
       "0               Very Positive        1367090.0             8.0   \n",
       "1               Very Positive           6098.0             8.0   \n",
       "2               Very Positive          58813.0             8.0   \n",
       "3             No user reviews              0.0             0.0   \n",
       "4                       Mixed         277935.0             5.0   \n",
       "...                       ...              ...             ...   \n",
       "4834          No user reviews              0.0             0.0   \n",
       "4835  Overwhelmingly Positive            511.0             9.0   \n",
       "4836          No user reviews              0.0             0.0   \n",
       "4837            Very Positive            852.0             8.0   \n",
       "4838          No user reviews              0.0             0.0   \n",
       "\n",
       "          review_score_desc_y  total_reviews_y  \n",
       "0               Very Positive        1367090.0  \n",
       "1               Very Positive           6098.0  \n",
       "2               Very Positive          58813.0  \n",
       "3             No user reviews              0.0  \n",
       "4                       Mixed         277935.0  \n",
       "...                       ...              ...  \n",
       "4834          No user reviews              0.0  \n",
       "4835  Overwhelmingly Positive            511.0  \n",
       "4836          No user reviews              0.0  \n",
       "4837            Very Positive            852.0  \n",
       "4838          No user reviews              0.0  \n",
       "\n",
       "[4839 rows x 9 columns]"
      ]
     },
     "execution_count": 31,
     "metadata": {},
     "output_type": "execute_result"
    }
   ],
   "source": [
    "df_merged = pd.merge(df_merged, reviews, on='appid', how='inner')\n",
    "df_merged #por alguna razon merge de esta forma, por lo que vamos a borrar ciertas columnas"
   ]
  },
  {
   "cell_type": "code",
   "execution_count": 33,
   "id": "21de8e92",
   "metadata": {},
   "outputs": [
    {
     "data": {
      "text/plain": [
       "Index(['name', 'Historico', 'appid', 'review_score_x', 'review_score_desc_x',\n",
       "       'total_reviews_x', 'review_score_y', 'review_score_desc_y',\n",
       "       'total_reviews_y'],\n",
       "      dtype='object')"
      ]
     },
     "execution_count": 33,
     "metadata": {},
     "output_type": "execute_result"
    }
   ],
   "source": [
    "df_merged.columns"
   ]
  },
  {
   "cell_type": "code",
   "execution_count": null,
   "id": "0a0c29b9",
   "metadata": {},
   "outputs": [],
   "source": [
    "df_merged.drop(columns=['review_score_y', 'review_score_desc_y','total_reviews_y'], inplace=True)"
   ]
  },
  {
   "cell_type": "code",
   "execution_count": 35,
   "id": "95acff7c",
   "metadata": {},
   "outputs": [
    {
     "data": {
      "text/html": [
       "<div>\n",
       "<style scoped>\n",
       "    .dataframe tbody tr th:only-of-type {\n",
       "        vertical-align: middle;\n",
       "    }\n",
       "\n",
       "    .dataframe tbody tr th {\n",
       "        vertical-align: top;\n",
       "    }\n",
       "\n",
       "    .dataframe thead th {\n",
       "        text-align: right;\n",
       "    }\n",
       "</style>\n",
       "<table border=\"1\" class=\"dataframe\">\n",
       "  <thead>\n",
       "    <tr style=\"text-align: right;\">\n",
       "      <th></th>\n",
       "      <th>name</th>\n",
       "      <th>Historico</th>\n",
       "      <th>appid</th>\n",
       "      <th>review_score_x</th>\n",
       "      <th>review_score_desc_x</th>\n",
       "      <th>total_reviews_x</th>\n",
       "    </tr>\n",
       "  </thead>\n",
       "  <tbody>\n",
       "    <tr>\n",
       "      <th>0</th>\n",
       "      <td>Counter-Strike 2</td>\n",
       "      <td>1,862,531</td>\n",
       "      <td>730</td>\n",
       "      <td>8.0</td>\n",
       "      <td>Very Positive</td>\n",
       "      <td>1367090.0</td>\n",
       "    </tr>\n",
       "    <tr>\n",
       "      <th>1</th>\n",
       "      <td>Dota 2</td>\n",
       "      <td>1,295,114</td>\n",
       "      <td>570</td>\n",
       "      <td>8.0</td>\n",
       "      <td>Very Positive</td>\n",
       "      <td>6098.0</td>\n",
       "    </tr>\n",
       "    <tr>\n",
       "      <th>2</th>\n",
       "      <td>Battlefield™ 6</td>\n",
       "      <td>747,440</td>\n",
       "      <td>2807960</td>\n",
       "      <td>8.0</td>\n",
       "      <td>Very Positive</td>\n",
       "      <td>58813.0</td>\n",
       "    </tr>\n",
       "    <tr>\n",
       "      <th>3</th>\n",
       "      <td>Banana</td>\n",
       "      <td>917,272</td>\n",
       "      <td>2923300</td>\n",
       "      <td>0.0</td>\n",
       "      <td>No user reviews</td>\n",
       "      <td>0.0</td>\n",
       "    </tr>\n",
       "    <tr>\n",
       "      <th>4</th>\n",
       "      <td>PUBG: BATTLEGROUNDS</td>\n",
       "      <td>3,257,248</td>\n",
       "      <td>578080</td>\n",
       "      <td>5.0</td>\n",
       "      <td>Mixed</td>\n",
       "      <td>277935.0</td>\n",
       "    </tr>\n",
       "  </tbody>\n",
       "</table>\n",
       "</div>"
      ],
      "text/plain": [
       "                  name  Historico    appid  review_score_x  \\\n",
       "0     Counter-Strike 2  1,862,531      730             8.0   \n",
       "1               Dota 2  1,295,114      570             8.0   \n",
       "2       Battlefield™ 6    747,440  2807960             8.0   \n",
       "3               Banana    917,272  2923300             0.0   \n",
       "4  PUBG: BATTLEGROUNDS  3,257,248   578080             5.0   \n",
       "\n",
       "  review_score_desc_x  total_reviews_x  \n",
       "0       Very Positive        1367090.0  \n",
       "1       Very Positive           6098.0  \n",
       "2       Very Positive          58813.0  \n",
       "3     No user reviews              0.0  \n",
       "4               Mixed         277935.0  "
      ]
     },
     "execution_count": 35,
     "metadata": {},
     "output_type": "execute_result"
    }
   ],
   "source": [
    "df_merged.head()"
   ]
  },
  {
   "cell_type": "code",
   "execution_count": 36,
   "id": "f318d940",
   "metadata": {},
   "outputs": [],
   "source": [
    "df_merged.to_csv('review.csv', index=False)"
   ]
  },
  {
   "cell_type": "code",
   "execution_count": 2,
   "id": "73b9bffb",
   "metadata": {},
   "outputs": [],
   "source": [
    "df_merged = pd.read_csv('review.csv')"
   ]
  },
  {
   "cell_type": "code",
   "execution_count": 4,
   "id": "7a9f8ae0",
   "metadata": {},
   "outputs": [
    {
     "data": {
      "text/html": [
       "<div>\n",
       "<style scoped>\n",
       "    .dataframe tbody tr th:only-of-type {\n",
       "        vertical-align: middle;\n",
       "    }\n",
       "\n",
       "    .dataframe tbody tr th {\n",
       "        vertical-align: top;\n",
       "    }\n",
       "\n",
       "    .dataframe thead th {\n",
       "        text-align: right;\n",
       "    }\n",
       "</style>\n",
       "<table border=\"1\" class=\"dataframe\">\n",
       "  <thead>\n",
       "    <tr style=\"text-align: right;\">\n",
       "      <th></th>\n",
       "      <th>name</th>\n",
       "      <th>Historico</th>\n",
       "      <th>appid</th>\n",
       "      <th>review_score_x</th>\n",
       "      <th>review_score_desc_x</th>\n",
       "      <th>total_reviews_x</th>\n",
       "    </tr>\n",
       "  </thead>\n",
       "  <tbody>\n",
       "    <tr>\n",
       "      <th>0</th>\n",
       "      <td>Counter-Strike 2</td>\n",
       "      <td>1,862,531</td>\n",
       "      <td>730</td>\n",
       "      <td>8.0</td>\n",
       "      <td>Very Positive</td>\n",
       "      <td>1367090.0</td>\n",
       "    </tr>\n",
       "    <tr>\n",
       "      <th>1</th>\n",
       "      <td>Dota 2</td>\n",
       "      <td>1,295,114</td>\n",
       "      <td>570</td>\n",
       "      <td>8.0</td>\n",
       "      <td>Very Positive</td>\n",
       "      <td>6098.0</td>\n",
       "    </tr>\n",
       "    <tr>\n",
       "      <th>2</th>\n",
       "      <td>Battlefield™ 6</td>\n",
       "      <td>747,440</td>\n",
       "      <td>2807960</td>\n",
       "      <td>8.0</td>\n",
       "      <td>Very Positive</td>\n",
       "      <td>58813.0</td>\n",
       "    </tr>\n",
       "    <tr>\n",
       "      <th>3</th>\n",
       "      <td>Banana</td>\n",
       "      <td>917,272</td>\n",
       "      <td>2923300</td>\n",
       "      <td>0.0</td>\n",
       "      <td>No user reviews</td>\n",
       "      <td>0.0</td>\n",
       "    </tr>\n",
       "    <tr>\n",
       "      <th>4</th>\n",
       "      <td>PUBG: BATTLEGROUNDS</td>\n",
       "      <td>3,257,248</td>\n",
       "      <td>578080</td>\n",
       "      <td>5.0</td>\n",
       "      <td>Mixed</td>\n",
       "      <td>277935.0</td>\n",
       "    </tr>\n",
       "  </tbody>\n",
       "</table>\n",
       "</div>"
      ],
      "text/plain": [
       "                  name  Historico    appid  review_score_x  \\\n",
       "0     Counter-Strike 2  1,862,531      730             8.0   \n",
       "1               Dota 2  1,295,114      570             8.0   \n",
       "2       Battlefield™ 6    747,440  2807960             8.0   \n",
       "3               Banana    917,272  2923300             0.0   \n",
       "4  PUBG: BATTLEGROUNDS  3,257,248   578080             5.0   \n",
       "\n",
       "  review_score_desc_x  total_reviews_x  \n",
       "0       Very Positive        1367090.0  \n",
       "1       Very Positive           6098.0  \n",
       "2       Very Positive          58813.0  \n",
       "3     No user reviews              0.0  \n",
       "4               Mixed         277935.0  "
      ]
     },
     "execution_count": 4,
     "metadata": {},
     "output_type": "execute_result"
    }
   ],
   "source": [
    "df_merged.head()"
   ]
  },
  {
   "cell_type": "code",
   "execution_count": 13,
   "id": "e7803c6d",
   "metadata": {},
   "outputs": [],
   "source": [
    "output_file = 'appdetails.csv'"
   ]
  },
  {
   "cell_type": "code",
   "execution_count": 15,
   "id": "b6015583",
   "metadata": {},
   "outputs": [
    {
     "name": "stderr",
     "output_type": "stream",
     "text": [
      " 12%|█▏        | 62/539 [00:45<06:06,  1.30it/s]"
     ]
    },
    {
     "name": "stdout",
     "output_type": "stream",
     "text": [
      "Error con appid 253940: 'NoneType' object has no attribute 'get'\n"
     ]
    },
    {
     "name": "stderr",
     "output_type": "stream",
     "text": [
      " 12%|█▏        | 63/539 [00:46<08:05,  1.02s/it]"
     ]
    },
    {
     "name": "stdout",
     "output_type": "stream",
     "text": [
      "Error con appid 281640: 'NoneType' object has no attribute 'get'\n"
     ]
    },
    {
     "name": "stderr",
     "output_type": "stream",
     "text": [
      " 12%|█▏        | 64/539 [00:48<09:38,  1.22s/it]"
     ]
    },
    {
     "name": "stdout",
     "output_type": "stream",
     "text": [
      "Error con appid 287680: 'NoneType' object has no attribute 'get'\n"
     ]
    },
    {
     "name": "stderr",
     "output_type": "stream",
     "text": [
      " 12%|█▏        | 65/539 [00:49<10:34,  1.34s/it]"
     ]
    },
    {
     "name": "stdout",
     "output_type": "stream",
     "text": [
      "Error con appid 310470: 'NoneType' object has no attribute 'get'\n"
     ]
    },
    {
     "name": "stderr",
     "output_type": "stream",
     "text": [
      " 12%|█▏        | 66/539 [00:51<11:10,  1.42s/it]"
     ]
    },
    {
     "name": "stdout",
     "output_type": "stream",
     "text": [
      "Error con appid 353640: 'NoneType' object has no attribute 'get'\n"
     ]
    },
    {
     "name": "stderr",
     "output_type": "stream",
     "text": [
      " 12%|█▏        | 67/539 [00:53<11:38,  1.48s/it]"
     ]
    },
    {
     "name": "stdout",
     "output_type": "stream",
     "text": [
      "Error con appid 367540: 'NoneType' object has no attribute 'get'\n"
     ]
    },
    {
     "name": "stderr",
     "output_type": "stream",
     "text": [
      " 13%|█▎        | 68/539 [00:54<11:58,  1.53s/it]"
     ]
    },
    {
     "name": "stdout",
     "output_type": "stream",
     "text": [
      "Error con appid 429570: 'NoneType' object has no attribute 'get'\n"
     ]
    },
    {
     "name": "stderr",
     "output_type": "stream",
     "text": [
      " 13%|█▎        | 69/539 [00:56<12:29,  1.59s/it]"
     ]
    },
    {
     "name": "stdout",
     "output_type": "stream",
     "text": [
      "Error con appid 449300: 'NoneType' object has no attribute 'get'\n"
     ]
    },
    {
     "name": "stderr",
     "output_type": "stream",
     "text": [
      " 13%|█▎        | 70/539 [00:58<12:40,  1.62s/it]"
     ]
    },
    {
     "name": "stdout",
     "output_type": "stream",
     "text": [
      "Error con appid 464340: 'NoneType' object has no attribute 'get'\n"
     ]
    },
    {
     "name": "stderr",
     "output_type": "stream",
     "text": [
      " 13%|█▎        | 71/539 [00:59<12:39,  1.62s/it]"
     ]
    },
    {
     "name": "stdout",
     "output_type": "stream",
     "text": [
      "Error con appid 466130: 'NoneType' object has no attribute 'get'\n"
     ]
    },
    {
     "name": "stderr",
     "output_type": "stream",
     "text": [
      " 13%|█▎        | 72/539 [01:01<12:42,  1.63s/it]"
     ]
    },
    {
     "name": "stdout",
     "output_type": "stream",
     "text": [
      "Error con appid 490220: 'NoneType' object has no attribute 'get'\n"
     ]
    },
    {
     "name": "stderr",
     "output_type": "stream",
     "text": [
      " 14%|█▎        | 73/539 [01:03<12:47,  1.65s/it]"
     ]
    },
    {
     "name": "stdout",
     "output_type": "stream",
     "text": [
      "Error con appid 550010: 'NoneType' object has no attribute 'get'\n"
     ]
    },
    {
     "name": "stderr",
     "output_type": "stream",
     "text": [
      " 14%|█▎        | 74/539 [01:04<12:38,  1.63s/it]"
     ]
    },
    {
     "name": "stdout",
     "output_type": "stream",
     "text": [
      "Error con appid 555220: 'NoneType' object has no attribute 'get'\n"
     ]
    },
    {
     "name": "stderr",
     "output_type": "stream",
     "text": [
      " 14%|█▍        | 75/539 [01:06<12:33,  1.62s/it]"
     ]
    },
    {
     "name": "stdout",
     "output_type": "stream",
     "text": [
      "Error con appid 558100: 'NoneType' object has no attribute 'get'\n"
     ]
    },
    {
     "name": "stderr",
     "output_type": "stream",
     "text": [
      " 14%|█▍        | 76/539 [01:07<12:30,  1.62s/it]"
     ]
    },
    {
     "name": "stdout",
     "output_type": "stream",
     "text": [
      "Error con appid 570780: 'NoneType' object has no attribute 'get'\n"
     ]
    },
    {
     "name": "stderr",
     "output_type": "stream",
     "text": [
      " 14%|█▍        | 77/539 [01:09<12:34,  1.63s/it]"
     ]
    },
    {
     "name": "stdout",
     "output_type": "stream",
     "text": [
      "Error con appid 624120: 'NoneType' object has no attribute 'get'\n"
     ]
    },
    {
     "name": "stderr",
     "output_type": "stream",
     "text": [
      " 15%|█▍        | 79/539 [01:11<10:12,  1.33s/it]"
     ]
    },
    {
     "name": "stdout",
     "output_type": "stream",
     "text": [
      "Error con appid 680360: 'NoneType' object has no attribute 'get'\n"
     ]
    },
    {
     "name": "stderr",
     "output_type": "stream",
     "text": [
      " 15%|█▍        | 80/539 [01:13<10:54,  1.43s/it]"
     ]
    },
    {
     "name": "stdout",
     "output_type": "stream",
     "text": [
      "Error con appid 684680: 'NoneType' object has no attribute 'get'\n"
     ]
    },
    {
     "name": "stderr",
     "output_type": "stream",
     "text": [
      " 15%|█▌        | 81/539 [01:15<11:27,  1.50s/it]"
     ]
    },
    {
     "name": "stdout",
     "output_type": "stream",
     "text": [
      "Error con appid 745740: 'NoneType' object has no attribute 'get'\n"
     ]
    },
    {
     "name": "stderr",
     "output_type": "stream",
     "text": [
      " 15%|█▌        | 82/539 [01:16<12:02,  1.58s/it]"
     ]
    },
    {
     "name": "stdout",
     "output_type": "stream",
     "text": [
      "Error con appid 760650: 'NoneType' object has no attribute 'get'\n"
     ]
    },
    {
     "name": "stderr",
     "output_type": "stream",
     "text": [
      " 15%|█▌        | 83/539 [01:18<12:20,  1.62s/it]"
     ]
    },
    {
     "name": "stdout",
     "output_type": "stream",
     "text": [
      "Error con appid 842180: 'NoneType' object has no attribute 'get'\n"
     ]
    },
    {
     "name": "stderr",
     "output_type": "stream",
     "text": [
      " 16%|█▌        | 84/539 [01:20<12:26,  1.64s/it]"
     ]
    },
    {
     "name": "stdout",
     "output_type": "stream",
     "text": [
      "Error con appid 844870: 'NoneType' object has no attribute 'get'\n"
     ]
    },
    {
     "name": "stderr",
     "output_type": "stream",
     "text": [
      " 16%|█▌        | 85/539 [01:22<12:19,  1.63s/it]"
     ]
    },
    {
     "name": "stdout",
     "output_type": "stream",
     "text": [
      "Error con appid 914010: 'NoneType' object has no attribute 'get'\n"
     ]
    },
    {
     "name": "stderr",
     "output_type": "stream",
     "text": [
      " 16%|█▌        | 86/539 [01:23<12:13,  1.62s/it]"
     ]
    },
    {
     "name": "stdout",
     "output_type": "stream",
     "text": [
      "Error con appid 985830: 'NoneType' object has no attribute 'get'\n"
     ]
    },
    {
     "name": "stderr",
     "output_type": "stream",
     "text": [
      " 16%|█▌        | 87/539 [01:25<12:19,  1.64s/it]"
     ]
    },
    {
     "name": "stdout",
     "output_type": "stream",
     "text": [
      "Error con appid 992300: 'NoneType' object has no attribute 'get'\n"
     ]
    },
    {
     "name": "stderr",
     "output_type": "stream",
     "text": [
      " 17%|█▋        | 89/539 [01:27<09:57,  1.33s/it]"
     ]
    },
    {
     "name": "stdout",
     "output_type": "stream",
     "text": [
      "Error con appid 1120810: 'NoneType' object has no attribute 'get'\n"
     ]
    },
    {
     "name": "stderr",
     "output_type": "stream",
     "text": [
      " 17%|█▋        | 90/539 [01:29<10:36,  1.42s/it]"
     ]
    },
    {
     "name": "stdout",
     "output_type": "stream",
     "text": [
      "Error con appid 1227280: 'NoneType' object has no attribute 'get'\n"
     ]
    },
    {
     "name": "stderr",
     "output_type": "stream",
     "text": [
      " 17%|█▋        | 91/539 [01:30<11:03,  1.48s/it]"
     ]
    },
    {
     "name": "stdout",
     "output_type": "stream",
     "text": [
      "Error con appid 1295270: 'NoneType' object has no attribute 'get'\n"
     ]
    },
    {
     "name": "stderr",
     "output_type": "stream",
     "text": [
      " 17%|█▋        | 92/539 [01:32<11:21,  1.52s/it]"
     ]
    },
    {
     "name": "stdout",
     "output_type": "stream",
     "text": [
      "Error con appid 1347970: 'NoneType' object has no attribute 'get'\n"
     ]
    },
    {
     "name": "stderr",
     "output_type": "stream",
     "text": [
      " 17%|█▋        | 93/539 [01:34<11:31,  1.55s/it]"
     ]
    },
    {
     "name": "stdout",
     "output_type": "stream",
     "text": [
      "Error con appid 1351210: 'NoneType' object has no attribute 'get'\n"
     ]
    },
    {
     "name": "stderr",
     "output_type": "stream",
     "text": [
      " 17%|█▋        | 94/539 [01:35<11:49,  1.59s/it]"
     ]
    },
    {
     "name": "stdout",
     "output_type": "stream",
     "text": [
      "Error con appid 1376200: 'NoneType' object has no attribute 'get'\n"
     ]
    },
    {
     "name": "stderr",
     "output_type": "stream",
     "text": [
      " 18%|█▊        | 96/539 [01:38<10:26,  1.41s/it]"
     ]
    },
    {
     "name": "stdout",
     "output_type": "stream",
     "text": [
      "Error con appid 1589120: 'NoneType' object has no attribute 'get'\n"
     ]
    },
    {
     "name": "stderr",
     "output_type": "stream",
     "text": [
      " 18%|█▊        | 97/539 [01:39<10:50,  1.47s/it]"
     ]
    },
    {
     "name": "stdout",
     "output_type": "stream",
     "text": [
      "Error con appid 1624110: 'NoneType' object has no attribute 'get'\n"
     ]
    },
    {
     "name": "stderr",
     "output_type": "stream",
     "text": [
      " 18%|█▊        | 98/539 [01:41<11:24,  1.55s/it]"
     ]
    },
    {
     "name": "stdout",
     "output_type": "stream",
     "text": [
      "Error con appid 1679290: 'NoneType' object has no attribute 'get'\n"
     ]
    },
    {
     "name": "stderr",
     "output_type": "stream",
     "text": [
      " 18%|█▊        | 99/539 [01:43<11:31,  1.57s/it]"
     ]
    },
    {
     "name": "stdout",
     "output_type": "stream",
     "text": [
      "Error con appid 1691190: 'NoneType' object has no attribute 'get'\n"
     ]
    },
    {
     "name": "stderr",
     "output_type": "stream",
     "text": [
      " 19%|█▊        | 100/539 [01:45<12:04,  1.65s/it]"
     ]
    },
    {
     "name": "stdout",
     "output_type": "stream",
     "text": [
      "Guardado parcial: 4400 filas guardadas hasta ahora.\n"
     ]
    },
    {
     "name": "stderr",
     "output_type": "stream",
     "text": [
      " 19%|█▊        | 101/539 [01:45<09:59,  1.37s/it]"
     ]
    },
    {
     "name": "stdout",
     "output_type": "stream",
     "text": [
      "Error con appid 1742020: 'NoneType' object has no attribute 'get'\n"
     ]
    },
    {
     "name": "stderr",
     "output_type": "stream",
     "text": [
      " 19%|█▉        | 102/539 [01:47<10:34,  1.45s/it]"
     ]
    },
    {
     "name": "stdout",
     "output_type": "stream",
     "text": [
      "Error con appid 1902490: 'NoneType' object has no attribute 'get'\n"
     ]
    },
    {
     "name": "stderr",
     "output_type": "stream",
     "text": [
      " 19%|█▉        | 103/539 [01:49<10:56,  1.50s/it]"
     ]
    },
    {
     "name": "stdout",
     "output_type": "stream",
     "text": [
      "Error con appid 1926520: 'NoneType' object has no attribute 'get'\n"
     ]
    },
    {
     "name": "stderr",
     "output_type": "stream",
     "text": [
      " 19%|█▉        | 104/539 [01:50<11:09,  1.54s/it]"
     ]
    },
    {
     "name": "stdout",
     "output_type": "stream",
     "text": [
      "Error con appid 1984020: 'NoneType' object has no attribute 'get'\n"
     ]
    },
    {
     "name": "stderr",
     "output_type": "stream",
     "text": [
      " 19%|█▉        | 105/539 [01:52<11:14,  1.55s/it]"
     ]
    },
    {
     "name": "stdout",
     "output_type": "stream",
     "text": [
      "Error con appid 2057550: 'NoneType' object has no attribute 'get'\n"
     ]
    },
    {
     "name": "stderr",
     "output_type": "stream",
     "text": [
      " 20%|██        | 108/539 [01:55<08:11,  1.14s/it]"
     ]
    },
    {
     "name": "stdout",
     "output_type": "stream",
     "text": [
      "Error con appid 2287520: 'NoneType' object has no attribute 'get'\n"
     ]
    },
    {
     "name": "stderr",
     "output_type": "stream",
     "text": [
      " 20%|██        | 109/539 [01:57<09:28,  1.32s/it]"
     ]
    },
    {
     "name": "stdout",
     "output_type": "stream",
     "text": [
      "Error con appid 2378620: 'NoneType' object has no attribute 'get'\n"
     ]
    },
    {
     "name": "stderr",
     "output_type": "stream",
     "text": [
      " 20%|██        | 110/539 [01:58<10:02,  1.40s/it]"
     ]
    },
    {
     "name": "stdout",
     "output_type": "stream",
     "text": [
      "Error con appid 2410490: 'NoneType' object has no attribute 'get'\n"
     ]
    },
    {
     "name": "stderr",
     "output_type": "stream",
     "text": [
      " 21%|██        | 111/539 [02:00<10:28,  1.47s/it]"
     ]
    },
    {
     "name": "stdout",
     "output_type": "stream",
     "text": [
      "Error con appid 2421410: 'NoneType' object has no attribute 'get'\n"
     ]
    },
    {
     "name": "stderr",
     "output_type": "stream",
     "text": [
      " 21%|██        | 112/539 [02:02<10:46,  1.51s/it]"
     ]
    },
    {
     "name": "stdout",
     "output_type": "stream",
     "text": [
      "Error con appid 2453360: 'NoneType' object has no attribute 'get'\n"
     ]
    },
    {
     "name": "stderr",
     "output_type": "stream",
     "text": [
      " 21%|██        | 113/539 [02:03<11:02,  1.56s/it]"
     ]
    },
    {
     "name": "stdout",
     "output_type": "stream",
     "text": [
      "Error con appid 2582650: 'NoneType' object has no attribute 'get'\n"
     ]
    },
    {
     "name": "stderr",
     "output_type": "stream",
     "text": [
      " 21%|██        | 114/539 [02:05<11:11,  1.58s/it]"
     ]
    },
    {
     "name": "stdout",
     "output_type": "stream",
     "text": [
      "Error con appid 2707070: 'NoneType' object has no attribute 'get'\n"
     ]
    },
    {
     "name": "stderr",
     "output_type": "stream",
     "text": [
      " 21%|██▏       | 115/539 [02:06<11:14,  1.59s/it]"
     ]
    },
    {
     "name": "stdout",
     "output_type": "stream",
     "text": [
      "Error con appid 2757330: 'NoneType' object has no attribute 'get'\n"
     ]
    },
    {
     "name": "stderr",
     "output_type": "stream",
     "text": [
      " 22%|██▏       | 116/539 [02:08<11:26,  1.62s/it]"
     ]
    },
    {
     "name": "stdout",
     "output_type": "stream",
     "text": [
      "Error con appid 2901520: 'NoneType' object has no attribute 'get'\n"
     ]
    },
    {
     "name": "stderr",
     "output_type": "stream",
     "text": [
      " 22%|██▏       | 117/539 [02:10<11:31,  1.64s/it]"
     ]
    },
    {
     "name": "stdout",
     "output_type": "stream",
     "text": [
      "Error con appid 3048820: 'NoneType' object has no attribute 'get'\n"
     ]
    },
    {
     "name": "stderr",
     "output_type": "stream",
     "text": [
      " 22%|██▏       | 118/539 [02:11<11:27,  1.63s/it]"
     ]
    },
    {
     "name": "stdout",
     "output_type": "stream",
     "text": [
      "Error con appid 3101720: 'NoneType' object has no attribute 'get'\n"
     ]
    },
    {
     "name": "stderr",
     "output_type": "stream",
     "text": [
      " 22%|██▏       | 119/539 [02:13<11:23,  1.63s/it]"
     ]
    },
    {
     "name": "stdout",
     "output_type": "stream",
     "text": [
      "Error con appid 3232610: 'NoneType' object has no attribute 'get'\n"
     ]
    },
    {
     "name": "stderr",
     "output_type": "stream",
     "text": [
      " 22%|██▏       | 120/539 [02:15<11:22,  1.63s/it]"
     ]
    },
    {
     "name": "stdout",
     "output_type": "stream",
     "text": [
      "Error con appid 4010040: 'NoneType' object has no attribute 'get'\n"
     ]
    },
    {
     "name": "stderr",
     "output_type": "stream",
     "text": [
      " 22%|██▏       | 121/539 [02:16<11:24,  1.64s/it]"
     ]
    },
    {
     "name": "stdout",
     "output_type": "stream",
     "text": [
      "Error con appid 21980: 'NoneType' object has no attribute 'get'\n"
     ]
    },
    {
     "name": "stderr",
     "output_type": "stream",
     "text": [
      " 23%|██▎       | 122/539 [02:18<11:16,  1.62s/it]"
     ]
    },
    {
     "name": "stdout",
     "output_type": "stream",
     "text": [
      "Error con appid 22350: 'NoneType' object has no attribute 'get'\n"
     ]
    },
    {
     "name": "stderr",
     "output_type": "stream",
     "text": [
      " 23%|██▎       | 123/539 [02:19<11:10,  1.61s/it]"
     ]
    },
    {
     "name": "stdout",
     "output_type": "stream",
     "text": [
      "Error con appid 34900: 'NoneType' object has no attribute 'get'\n"
     ]
    },
    {
     "name": "stderr",
     "output_type": "stream",
     "text": [
      " 23%|██▎       | 124/539 [02:21<11:10,  1.62s/it]"
     ]
    },
    {
     "name": "stdout",
     "output_type": "stream",
     "text": [
      "Error con appid 35700: 'NoneType' object has no attribute 'get'\n"
     ]
    },
    {
     "name": "stderr",
     "output_type": "stream",
     "text": [
      " 23%|██▎       | 126/539 [02:23<09:02,  1.31s/it]"
     ]
    },
    {
     "name": "stdout",
     "output_type": "stream",
     "text": [
      "Error con appid 105430: 'NoneType' object has no attribute 'get'\n"
     ]
    },
    {
     "name": "stderr",
     "output_type": "stream",
     "text": [
      " 24%|██▎       | 127/539 [02:25<09:36,  1.40s/it]"
     ]
    },
    {
     "name": "stdout",
     "output_type": "stream",
     "text": [
      "Error con appid 206500: 'NoneType' object has no attribute 'get'\n"
     ]
    },
    {
     "name": "stderr",
     "output_type": "stream",
     "text": [
      " 24%|██▎       | 128/539 [02:27<09:59,  1.46s/it]"
     ]
    },
    {
     "name": "stdout",
     "output_type": "stream",
     "text": [
      "Error con appid 224500: 'NoneType' object has no attribute 'get'\n"
     ]
    },
    {
     "name": "stderr",
     "output_type": "stream",
     "text": [
      " 24%|██▍       | 129/539 [02:28<10:19,  1.51s/it]"
     ]
    },
    {
     "name": "stdout",
     "output_type": "stream",
     "text": [
      "Error con appid 224580: 'NoneType' object has no attribute 'get'\n"
     ]
    },
    {
     "name": "stderr",
     "output_type": "stream",
     "text": [
      " 24%|██▍       | 130/539 [02:30<10:27,  1.53s/it]"
     ]
    },
    {
     "name": "stdout",
     "output_type": "stream",
     "text": [
      "Error con appid 233700: 'NoneType' object has no attribute 'get'\n"
     ]
    },
    {
     "name": "stderr",
     "output_type": "stream",
     "text": [
      " 24%|██▍       | 131/539 [02:31<10:36,  1.56s/it]"
     ]
    },
    {
     "name": "stdout",
     "output_type": "stream",
     "text": [
      "Error con appid 235380: 'NoneType' object has no attribute 'get'\n"
     ]
    },
    {
     "name": "stderr",
     "output_type": "stream",
     "text": [
      " 24%|██▍       | 132/539 [02:33<10:40,  1.57s/it]"
     ]
    },
    {
     "name": "stdout",
     "output_type": "stream",
     "text": [
      "Error con appid 245470: 'NoneType' object has no attribute 'get'\n"
     ]
    },
    {
     "name": "stderr",
     "output_type": "stream",
     "text": [
      " 25%|██▍       | 133/539 [02:35<10:41,  1.58s/it]"
     ]
    },
    {
     "name": "stdout",
     "output_type": "stream",
     "text": [
      "Error con appid 262280: 'NoneType' object has no attribute 'get'\n"
     ]
    },
    {
     "name": "stderr",
     "output_type": "stream",
     "text": [
      " 25%|██▍       | 134/539 [02:36<10:50,  1.61s/it]"
     ]
    },
    {
     "name": "stdout",
     "output_type": "stream",
     "text": [
      "Error con appid 273350: 'NoneType' object has no attribute 'get'\n"
     ]
    },
    {
     "name": "stderr",
     "output_type": "stream",
     "text": [
      " 25%|██▌       | 135/539 [02:38<11:05,  1.65s/it]"
     ]
    },
    {
     "name": "stdout",
     "output_type": "stream",
     "text": [
      "Error con appid 282100: 'NoneType' object has no attribute 'get'\n"
     ]
    },
    {
     "name": "stderr",
     "output_type": "stream",
     "text": [
      " 25%|██▌       | 136/539 [02:40<11:00,  1.64s/it]"
     ]
    },
    {
     "name": "stdout",
     "output_type": "stream",
     "text": [
      "Error con appid 312990: 'NoneType' object has no attribute 'get'\n"
     ]
    },
    {
     "name": "stderr",
     "output_type": "stream",
     "text": [
      " 25%|██▌       | 137/539 [02:41<10:55,  1.63s/it]"
     ]
    },
    {
     "name": "stdout",
     "output_type": "stream",
     "text": [
      "Error con appid 318100: 'NoneType' object has no attribute 'get'\n"
     ]
    },
    {
     "name": "stderr",
     "output_type": "stream",
     "text": [
      " 26%|██▌       | 138/539 [02:43<10:54,  1.63s/it]"
     ]
    },
    {
     "name": "stdout",
     "output_type": "stream",
     "text": [
      "Error con appid 318600: 'NoneType' object has no attribute 'get'\n"
     ]
    },
    {
     "name": "stderr",
     "output_type": "stream",
     "text": [
      " 26%|██▌       | 139/539 [02:44<10:48,  1.62s/it]"
     ]
    },
    {
     "name": "stdout",
     "output_type": "stream",
     "text": [
      "Error con appid 353270: 'NoneType' object has no attribute 'get'\n"
     ]
    },
    {
     "name": "stderr",
     "output_type": "stream",
     "text": [
      " 26%|██▌       | 140/539 [02:46<10:42,  1.61s/it]"
     ]
    },
    {
     "name": "stdout",
     "output_type": "stream",
     "text": [
      "Error con appid 362400: 'NoneType' object has no attribute 'get'\n"
     ]
    },
    {
     "name": "stderr",
     "output_type": "stream",
     "text": [
      " 26%|██▌       | 141/539 [02:48<10:43,  1.62s/it]"
     ]
    },
    {
     "name": "stdout",
     "output_type": "stream",
     "text": [
      "Error con appid 366440: 'NoneType' object has no attribute 'get'\n"
     ]
    },
    {
     "name": "stderr",
     "output_type": "stream",
     "text": [
      " 26%|██▋       | 142/539 [02:49<10:38,  1.61s/it]"
     ]
    },
    {
     "name": "stdout",
     "output_type": "stream",
     "text": [
      "Error con appid 375460: 'NoneType' object has no attribute 'get'\n"
     ]
    },
    {
     "name": "stderr",
     "output_type": "stream",
     "text": [
      " 27%|██▋       | 143/539 [02:51<10:47,  1.63s/it]"
     ]
    },
    {
     "name": "stdout",
     "output_type": "stream",
     "text": [
      "Error con appid 421170: 'NoneType' object has no attribute 'get'\n"
     ]
    },
    {
     "name": "stderr",
     "output_type": "stream",
     "text": [
      " 27%|██▋       | 144/539 [02:53<10:57,  1.66s/it]"
     ]
    },
    {
     "name": "stdout",
     "output_type": "stream",
     "text": [
      "Error con appid 431710: 'NoneType' object has no attribute 'get'\n"
     ]
    },
    {
     "name": "stderr",
     "output_type": "stream",
     "text": [
      " 27%|██▋       | 145/539 [02:54<10:49,  1.65s/it]"
     ]
    },
    {
     "name": "stdout",
     "output_type": "stream",
     "text": [
      "Error con appid 443030: 'NoneType' object has no attribute 'get'\n"
     ]
    },
    {
     "name": "stderr",
     "output_type": "stream",
     "text": [
      " 27%|██▋       | 146/539 [02:56<10:48,  1.65s/it]"
     ]
    },
    {
     "name": "stdout",
     "output_type": "stream",
     "text": [
      "Error con appid 456670: 'NoneType' object has no attribute 'get'\n"
     ]
    },
    {
     "name": "stderr",
     "output_type": "stream",
     "text": [
      " 27%|██▋       | 147/539 [02:58<10:42,  1.64s/it]"
     ]
    },
    {
     "name": "stdout",
     "output_type": "stream",
     "text": [
      "Error con appid 459160: 'NoneType' object has no attribute 'get'\n"
     ]
    },
    {
     "name": "stderr",
     "output_type": "stream",
     "text": [
      " 28%|██▊       | 149/539 [03:00<08:35,  1.32s/it]"
     ]
    },
    {
     "name": "stdout",
     "output_type": "stream",
     "text": [
      "Error con appid 462770: 'NoneType' object has no attribute 'get'\n"
     ]
    },
    {
     "name": "stderr",
     "output_type": "stream",
     "text": [
      " 28%|██▊       | 151/539 [03:02<07:43,  1.19s/it]"
     ]
    },
    {
     "name": "stdout",
     "output_type": "stream",
     "text": [
      "Error con appid 487120: 'NoneType' object has no attribute 'get'\n"
     ]
    },
    {
     "name": "stderr",
     "output_type": "stream",
     "text": [
      " 28%|██▊       | 152/539 [03:04<08:43,  1.35s/it]"
     ]
    },
    {
     "name": "stdout",
     "output_type": "stream",
     "text": [
      "Error con appid 493840: 'NoneType' object has no attribute 'get'\n"
     ]
    },
    {
     "name": "stderr",
     "output_type": "stream",
     "text": [
      " 28%|██▊       | 153/539 [03:06<09:27,  1.47s/it]"
     ]
    },
    {
     "name": "stdout",
     "output_type": "stream",
     "text": [
      "Error con appid 511470: 'NoneType' object has no attribute 'get'\n"
     ]
    },
    {
     "name": "stderr",
     "output_type": "stream",
     "text": [
      " 29%|██▊       | 154/539 [03:07<09:44,  1.52s/it]"
     ]
    },
    {
     "name": "stdout",
     "output_type": "stream",
     "text": [
      "Error con appid 526160: 'NoneType' object has no attribute 'get'\n"
     ]
    },
    {
     "name": "stderr",
     "output_type": "stream",
     "text": [
      " 29%|██▉       | 155/539 [03:09<09:58,  1.56s/it]"
     ]
    },
    {
     "name": "stdout",
     "output_type": "stream",
     "text": [
      "Error con appid 542340: 'NoneType' object has no attribute 'get'\n"
     ]
    },
    {
     "name": "stderr",
     "output_type": "stream",
     "text": [
      " 37%|███▋      | 200/539 [03:42<03:39,  1.55it/s]"
     ]
    },
    {
     "name": "stdout",
     "output_type": "stream",
     "text": [
      "Guardado parcial: 4500 filas guardadas hasta ahora.\n"
     ]
    },
    {
     "name": "stderr",
     "output_type": "stream",
     "text": [
      " 56%|█████▌    | 300/539 [04:58<02:43,  1.46it/s]"
     ]
    },
    {
     "name": "stdout",
     "output_type": "stream",
     "text": [
      "Guardado parcial: 4600 filas guardadas hasta ahora.\n"
     ]
    },
    {
     "name": "stderr",
     "output_type": "stream",
     "text": [
      " 68%|██████▊   | 365/539 [05:49<03:29,  1.20s/it]"
     ]
    },
    {
     "name": "stdout",
     "output_type": "stream",
     "text": [
      "Error con appid 231140: 'NoneType' object has no attribute 'get'\n"
     ]
    },
    {
     "name": "stderr",
     "output_type": "stream",
     "text": [
      " 68%|██████▊   | 366/539 [05:50<03:54,  1.35s/it]"
     ]
    },
    {
     "name": "stdout",
     "output_type": "stream",
     "text": [
      "Error con appid 231740: 'NoneType' object has no attribute 'get'\n"
     ]
    },
    {
     "name": "stderr",
     "output_type": "stream",
     "text": [
      " 68%|██████▊   | 367/539 [05:52<04:06,  1.43s/it]"
     ]
    },
    {
     "name": "stdout",
     "output_type": "stream",
     "text": [
      "Error con appid 232430: 'NoneType' object has no attribute 'get'\n"
     ]
    },
    {
     "name": "stderr",
     "output_type": "stream",
     "text": [
      " 68%|██████▊   | 368/539 [05:54<04:17,  1.50s/it]"
     ]
    },
    {
     "name": "stdout",
     "output_type": "stream",
     "text": [
      "Error con appid 232750: 'NoneType' object has no attribute 'get'\n"
     ]
    },
    {
     "name": "stderr",
     "output_type": "stream",
     "text": [
      " 68%|██████▊   | 369/539 [05:55<04:23,  1.55s/it]"
     ]
    },
    {
     "name": "stdout",
     "output_type": "stream",
     "text": [
      "Error con appid 233980: 'NoneType' object has no attribute 'get'\n"
     ]
    },
    {
     "name": "stderr",
     "output_type": "stream",
     "text": [
      " 69%|██████▊   | 370/539 [05:57<04:28,  1.59s/it]"
     ]
    },
    {
     "name": "stdout",
     "output_type": "stream",
     "text": [
      "Error con appid 240760: 'NoneType' object has no attribute 'get'\n"
     ]
    },
    {
     "name": "stderr",
     "output_type": "stream",
     "text": [
      " 69%|██████▉   | 371/539 [05:59<04:29,  1.60s/it]"
     ]
    },
    {
     "name": "stdout",
     "output_type": "stream",
     "text": [
      "Error con appid 241540: 'NoneType' object has no attribute 'get'\n"
     ]
    },
    {
     "name": "stderr",
     "output_type": "stream",
     "text": [
      " 69%|██████▉   | 372/539 [06:00<04:32,  1.63s/it]"
     ]
    },
    {
     "name": "stdout",
     "output_type": "stream",
     "text": [
      "Error con appid 249650: 'NoneType' object has no attribute 'get'\n"
     ]
    },
    {
     "name": "stderr",
     "output_type": "stream",
     "text": [
      " 69%|██████▉   | 373/539 [06:02<04:31,  1.63s/it]"
     ]
    },
    {
     "name": "stdout",
     "output_type": "stream",
     "text": [
      "Error con appid 250180: 'NoneType' object has no attribute 'get'\n"
     ]
    },
    {
     "name": "stderr",
     "output_type": "stream",
     "text": [
      " 69%|██████▉   | 374/539 [06:04<04:31,  1.65s/it]"
     ]
    },
    {
     "name": "stdout",
     "output_type": "stream",
     "text": [
      "Error con appid 252850: 'NoneType' object has no attribute 'get'\n"
     ]
    },
    {
     "name": "stderr",
     "output_type": "stream",
     "text": [
      " 70%|██████▉   | 375/539 [06:05<04:28,  1.64s/it]"
     ]
    },
    {
     "name": "stdout",
     "output_type": "stream",
     "text": [
      "Error con appid 257750: 'NoneType' object has no attribute 'get'\n"
     ]
    },
    {
     "name": "stderr",
     "output_type": "stream",
     "text": [
      " 70%|██████▉   | 376/539 [06:07<04:27,  1.64s/it]"
     ]
    },
    {
     "name": "stdout",
     "output_type": "stream",
     "text": [
      "Error con appid 272270: 'NoneType' object has no attribute 'get'\n"
     ]
    },
    {
     "name": "stderr",
     "output_type": "stream",
     "text": [
      " 70%|██████▉   | 377/539 [06:09<04:30,  1.67s/it]"
     ]
    },
    {
     "name": "stdout",
     "output_type": "stream",
     "text": [
      "Error con appid 286000: 'NoneType' object has no attribute 'get'\n"
     ]
    },
    {
     "name": "stderr",
     "output_type": "stream",
     "text": [
      " 70%|███████   | 378/539 [06:10<04:28,  1.67s/it]"
     ]
    },
    {
     "name": "stdout",
     "output_type": "stream",
     "text": [
      "Error con appid 296470: 'NoneType' object has no attribute 'get'\n"
     ]
    },
    {
     "name": "stderr",
     "output_type": "stream",
     "text": [
      " 70%|███████   | 379/539 [06:12<04:23,  1.65s/it]"
     ]
    },
    {
     "name": "stdout",
     "output_type": "stream",
     "text": [
      "Error con appid 317820: 'NoneType' object has no attribute 'get'\n"
     ]
    },
    {
     "name": "stderr",
     "output_type": "stream",
     "text": [
      " 71%|███████   | 380/539 [06:14<04:21,  1.64s/it]"
     ]
    },
    {
     "name": "stdout",
     "output_type": "stream",
     "text": [
      "Error con appid 338390: 'NoneType' object has no attribute 'get'\n"
     ]
    },
    {
     "name": "stderr",
     "output_type": "stream",
     "text": [
      " 71%|███████   | 381/539 [06:15<04:18,  1.64s/it]"
     ]
    },
    {
     "name": "stdout",
     "output_type": "stream",
     "text": [
      "Error con appid 341000: 'NoneType' object has no attribute 'get'\n"
     ]
    },
    {
     "name": "stderr",
     "output_type": "stream",
     "text": [
      " 71%|███████   | 382/539 [06:17<04:16,  1.63s/it]"
     ]
    },
    {
     "name": "stdout",
     "output_type": "stream",
     "text": [
      "Error con appid 346290: 'NoneType' object has no attribute 'get'\n"
     ]
    },
    {
     "name": "stderr",
     "output_type": "stream",
     "text": [
      " 71%|███████   | 383/539 [06:18<04:14,  1.63s/it]"
     ]
    },
    {
     "name": "stdout",
     "output_type": "stream",
     "text": [
      "Error con appid 375900: 'NoneType' object has no attribute 'get'\n"
     ]
    },
    {
     "name": "stderr",
     "output_type": "stream",
     "text": [
      " 71%|███████   | 384/539 [06:20<04:13,  1.63s/it]"
     ]
    },
    {
     "name": "stdout",
     "output_type": "stream",
     "text": [
      "Error con appid 384190: 'NoneType' object has no attribute 'get'\n"
     ]
    },
    {
     "name": "stderr",
     "output_type": "stream",
     "text": [
      " 71%|███████▏  | 385/539 [06:22<04:10,  1.63s/it]"
     ]
    },
    {
     "name": "stdout",
     "output_type": "stream",
     "text": [
      "Error con appid 388750: 'NoneType' object has no attribute 'get'\n"
     ]
    },
    {
     "name": "stderr",
     "output_type": "stream",
     "text": [
      " 72%|███████▏  | 386/539 [06:23<04:10,  1.64s/it]"
     ]
    },
    {
     "name": "stdout",
     "output_type": "stream",
     "text": [
      "Error con appid 400630: 'NoneType' object has no attribute 'get'\n"
     ]
    },
    {
     "name": "stderr",
     "output_type": "stream",
     "text": [
      " 72%|███████▏  | 387/539 [06:25<04:09,  1.64s/it]"
     ]
    },
    {
     "name": "stdout",
     "output_type": "stream",
     "text": [
      "Error con appid 408760: 'NoneType' object has no attribute 'get'\n"
     ]
    },
    {
     "name": "stderr",
     "output_type": "stream",
     "text": [
      " 72%|███████▏  | 388/539 [06:27<04:09,  1.65s/it]"
     ]
    },
    {
     "name": "stdout",
     "output_type": "stream",
     "text": [
      "Error con appid 427270: 'NoneType' object has no attribute 'get'\n"
     ]
    },
    {
     "name": "stderr",
     "output_type": "stream",
     "text": [
      " 72%|███████▏  | 389/539 [06:28<04:07,  1.65s/it]"
     ]
    },
    {
     "name": "stdout",
     "output_type": "stream",
     "text": [
      "Error con appid 434460: 'NoneType' object has no attribute 'get'\n"
     ]
    },
    {
     "name": "stderr",
     "output_type": "stream",
     "text": [
      " 72%|███████▏  | 390/539 [06:30<04:07,  1.66s/it]"
     ]
    },
    {
     "name": "stdout",
     "output_type": "stream",
     "text": [
      "Error con appid 436520: 'NoneType' object has no attribute 'get'\n"
     ]
    },
    {
     "name": "stderr",
     "output_type": "stream",
     "text": [
      " 73%|███████▎  | 391/539 [06:32<04:05,  1.66s/it]"
     ]
    },
    {
     "name": "stdout",
     "output_type": "stream",
     "text": [
      "Error con appid 449960: 'NoneType' object has no attribute 'get'\n"
     ]
    },
    {
     "name": "stderr",
     "output_type": "stream",
     "text": [
      " 73%|███████▎  | 392/539 [06:33<04:02,  1.65s/it]"
     ]
    },
    {
     "name": "stdout",
     "output_type": "stream",
     "text": [
      "Error con appid 484900: 'NoneType' object has no attribute 'get'\n"
     ]
    },
    {
     "name": "stderr",
     "output_type": "stream",
     "text": [
      " 73%|███████▎  | 393/539 [06:35<04:01,  1.65s/it]"
     ]
    },
    {
     "name": "stdout",
     "output_type": "stream",
     "text": [
      "Error con appid 493540: 'NoneType' object has no attribute 'get'\n"
     ]
    },
    {
     "name": "stderr",
     "output_type": "stream",
     "text": [
      " 73%|███████▎  | 394/539 [06:37<03:58,  1.64s/it]"
     ]
    },
    {
     "name": "stdout",
     "output_type": "stream",
     "text": [
      "Error con appid 515570: 'NoneType' object has no attribute 'get'\n"
     ]
    },
    {
     "name": "stderr",
     "output_type": "stream",
     "text": [
      " 73%|███████▎  | 395/539 [06:38<03:57,  1.65s/it]"
     ]
    },
    {
     "name": "stdout",
     "output_type": "stream",
     "text": [
      "Error con appid 530620: 'NoneType' object has no attribute 'get'\n"
     ]
    },
    {
     "name": "stderr",
     "output_type": "stream",
     "text": [
      " 73%|███████▎  | 396/539 [06:40<03:55,  1.65s/it]"
     ]
    },
    {
     "name": "stdout",
     "output_type": "stream",
     "text": [
      "Error con appid 547680: 'NoneType' object has no attribute 'get'\n"
     ]
    },
    {
     "name": "stderr",
     "output_type": "stream",
     "text": [
      " 74%|███████▎  | 397/539 [06:42<03:53,  1.64s/it]"
     ]
    },
    {
     "name": "stdout",
     "output_type": "stream",
     "text": [
      "Error con appid 549240: 'NoneType' object has no attribute 'get'\n"
     ]
    },
    {
     "name": "stderr",
     "output_type": "stream",
     "text": [
      " 74%|███████▍  | 398/539 [06:43<03:51,  1.64s/it]"
     ]
    },
    {
     "name": "stdout",
     "output_type": "stream",
     "text": [
      "Error con appid 551730: 'NoneType' object has no attribute 'get'\n"
     ]
    },
    {
     "name": "stderr",
     "output_type": "stream",
     "text": [
      " 74%|███████▍  | 399/539 [06:45<03:51,  1.65s/it]"
     ]
    },
    {
     "name": "stdout",
     "output_type": "stream",
     "text": [
      "Error con appid 588160: 'NoneType' object has no attribute 'get'\n"
     ]
    },
    {
     "name": "stderr",
     "output_type": "stream",
     "text": [
      " 74%|███████▍  | 400/539 [06:47<03:50,  1.66s/it]"
     ]
    },
    {
     "name": "stdout",
     "output_type": "stream",
     "text": [
      "Guardado parcial: 4700 filas guardadas hasta ahora.\n",
      "Error con appid 598700: 'NoneType' object has no attribute 'get'\n"
     ]
    },
    {
     "name": "stderr",
     "output_type": "stream",
     "text": [
      " 74%|███████▍  | 401/539 [06:48<03:48,  1.65s/it]"
     ]
    },
    {
     "name": "stdout",
     "output_type": "stream",
     "text": [
      "Error con appid 599460: 'NoneType' object has no attribute 'get'\n"
     ]
    },
    {
     "name": "stderr",
     "output_type": "stream",
     "text": [
      " 75%|███████▍  | 402/539 [06:50<03:50,  1.68s/it]"
     ]
    },
    {
     "name": "stdout",
     "output_type": "stream",
     "text": [
      "Error con appid 687850: 'NoneType' object has no attribute 'get'\n"
     ]
    },
    {
     "name": "stderr",
     "output_type": "stream",
     "text": [
      " 75%|███████▍  | 403/539 [06:52<03:49,  1.68s/it]"
     ]
    },
    {
     "name": "stdout",
     "output_type": "stream",
     "text": [
      "Error con appid 699920: 'NoneType' object has no attribute 'get'\n"
     ]
    },
    {
     "name": "stderr",
     "output_type": "stream",
     "text": [
      " 75%|███████▍  | 404/539 [06:53<03:46,  1.67s/it]"
     ]
    },
    {
     "name": "stdout",
     "output_type": "stream",
     "text": [
      "Error con appid 806140: 'NoneType' object has no attribute 'get'\n"
     ]
    },
    {
     "name": "stderr",
     "output_type": "stream",
     "text": [
      " 75%|███████▌  | 406/539 [06:56<03:00,  1.36s/it]"
     ]
    },
    {
     "name": "stdout",
     "output_type": "stream",
     "text": [
      "Error con appid 921590: 'NoneType' object has no attribute 'get'\n"
     ]
    },
    {
     "name": "stderr",
     "output_type": "stream",
     "text": [
      " 76%|███████▌  | 409/539 [06:59<02:25,  1.12s/it]"
     ]
    },
    {
     "name": "stdout",
     "output_type": "stream",
     "text": [
      "Error con appid 1181840: 'NoneType' object has no attribute 'get'\n"
     ]
    },
    {
     "name": "stderr",
     "output_type": "stream",
     "text": [
      " 76%|███████▌  | 410/539 [07:01<02:48,  1.31s/it]"
     ]
    },
    {
     "name": "stdout",
     "output_type": "stream",
     "text": [
      "Error con appid 1182620: 'NoneType' object has no attribute 'get'\n"
     ]
    },
    {
     "name": "stderr",
     "output_type": "stream",
     "text": [
      " 76%|███████▋  | 411/539 [07:02<03:01,  1.42s/it]"
     ]
    },
    {
     "name": "stdout",
     "output_type": "stream",
     "text": [
      "Error con appid 1194810: 'NoneType' object has no attribute 'get'\n"
     ]
    },
    {
     "name": "stderr",
     "output_type": "stream",
     "text": [
      " 76%|███████▋  | 412/539 [07:04<03:26,  1.63s/it]"
     ]
    },
    {
     "name": "stdout",
     "output_type": "stream",
     "text": [
      "Error con appid 1213300: 'NoneType' object has no attribute 'get'\n"
     ]
    },
    {
     "name": "stderr",
     "output_type": "stream",
     "text": [
      " 77%|███████▋  | 413/539 [07:06<03:29,  1.66s/it]"
     ]
    },
    {
     "name": "stdout",
     "output_type": "stream",
     "text": [
      "Error con appid 1295550: 'NoneType' object has no attribute 'get'\n"
     ]
    },
    {
     "name": "stderr",
     "output_type": "stream",
     "text": [
      " 77%|███████▋  | 414/539 [07:08<03:30,  1.68s/it]"
     ]
    },
    {
     "name": "stdout",
     "output_type": "stream",
     "text": [
      "Error con appid 1304510: 'NoneType' object has no attribute 'get'\n"
     ]
    },
    {
     "name": "stderr",
     "output_type": "stream",
     "text": [
      " 77%|███████▋  | 415/539 [07:10<03:31,  1.70s/it]"
     ]
    },
    {
     "name": "stdout",
     "output_type": "stream",
     "text": [
      "Error con appid 1449070: 'NoneType' object has no attribute 'get'\n"
     ]
    },
    {
     "name": "stderr",
     "output_type": "stream",
     "text": [
      " 78%|███████▊  | 419/539 [07:14<02:06,  1.05s/it]"
     ]
    },
    {
     "name": "stdout",
     "output_type": "stream",
     "text": [
      "Error con appid 1623880: 'NoneType' object has no attribute 'get'\n"
     ]
    },
    {
     "name": "stderr",
     "output_type": "stream",
     "text": [
      " 78%|███████▊  | 420/539 [07:15<02:28,  1.25s/it]"
     ]
    },
    {
     "name": "stdout",
     "output_type": "stream",
     "text": [
      "Error con appid 1676130: 'NoneType' object has no attribute 'get'\n"
     ]
    },
    {
     "name": "stderr",
     "output_type": "stream",
     "text": [
      " 78%|███████▊  | 421/539 [07:17<02:42,  1.38s/it]"
     ]
    },
    {
     "name": "stdout",
     "output_type": "stream",
     "text": [
      "Error con appid 1737340: 'NoneType' object has no attribute 'get'\n"
     ]
    },
    {
     "name": "stderr",
     "output_type": "stream",
     "text": [
      " 78%|███████▊  | 422/539 [07:19<02:52,  1.48s/it]"
     ]
    },
    {
     "name": "stdout",
     "output_type": "stream",
     "text": [
      "Error con appid 1763200: 'NoneType' object has no attribute 'get'\n"
     ]
    },
    {
     "name": "stderr",
     "output_type": "stream",
     "text": [
      " 78%|███████▊  | 423/539 [07:20<02:59,  1.55s/it]"
     ]
    },
    {
     "name": "stdout",
     "output_type": "stream",
     "text": [
      "Error con appid 1849900: 'NoneType' object has no attribute 'get'\n"
     ]
    },
    {
     "name": "stderr",
     "output_type": "stream",
     "text": [
      " 79%|███████▊  | 424/539 [07:22<03:03,  1.59s/it]"
     ]
    },
    {
     "name": "stdout",
     "output_type": "stream",
     "text": [
      "Error con appid 1911390: 'NoneType' object has no attribute 'get'\n"
     ]
    },
    {
     "name": "stderr",
     "output_type": "stream",
     "text": [
      " 79%|███████▉  | 425/539 [07:24<03:05,  1.62s/it]"
     ]
    },
    {
     "name": "stdout",
     "output_type": "stream",
     "text": [
      "Error con appid 1996430: 'NoneType' object has no attribute 'get'\n"
     ]
    },
    {
     "name": "stderr",
     "output_type": "stream",
     "text": [
      " 79%|███████▉  | 426/539 [07:25<03:05,  1.64s/it]"
     ]
    },
    {
     "name": "stdout",
     "output_type": "stream",
     "text": [
      "Error con appid 2203230: 'NoneType' object has no attribute 'get'\n"
     ]
    },
    {
     "name": "stderr",
     "output_type": "stream",
     "text": [
      " 79%|███████▉  | 427/539 [07:27<03:05,  1.65s/it]"
     ]
    },
    {
     "name": "stdout",
     "output_type": "stream",
     "text": [
      "Error con appid 2263010: 'NoneType' object has no attribute 'get'\n"
     ]
    },
    {
     "name": "stderr",
     "output_type": "stream",
     "text": [
      " 79%|███████▉  | 428/539 [07:29<03:05,  1.67s/it]"
     ]
    },
    {
     "name": "stdout",
     "output_type": "stream",
     "text": [
      "Error con appid 2292060: 'NoneType' object has no attribute 'get'\n"
     ]
    },
    {
     "name": "stderr",
     "output_type": "stream",
     "text": [
      " 80%|███████▉  | 429/539 [07:31<03:08,  1.71s/it]"
     ]
    },
    {
     "name": "stdout",
     "output_type": "stream",
     "text": [
      "Error con appid 2340650: 'NoneType' object has no attribute 'get'\n"
     ]
    },
    {
     "name": "stderr",
     "output_type": "stream",
     "text": [
      " 80%|███████▉  | 430/539 [07:32<03:07,  1.72s/it]"
     ]
    },
    {
     "name": "stdout",
     "output_type": "stream",
     "text": [
      "Error con appid 2348120: 'NoneType' object has no attribute 'get'\n"
     ]
    },
    {
     "name": "stderr",
     "output_type": "stream",
     "text": [
      " 80%|███████▉  | 431/539 [07:34<03:06,  1.72s/it]"
     ]
    },
    {
     "name": "stdout",
     "output_type": "stream",
     "text": [
      "Error con appid 2460070: 'NoneType' object has no attribute 'get'\n"
     ]
    },
    {
     "name": "stderr",
     "output_type": "stream",
     "text": [
      " 80%|████████  | 432/539 [07:36<03:04,  1.73s/it]"
     ]
    },
    {
     "name": "stdout",
     "output_type": "stream",
     "text": [
      "Error con appid 2499800: 'NoneType' object has no attribute 'get'\n"
     ]
    },
    {
     "name": "stderr",
     "output_type": "stream",
     "text": [
      " 80%|████████  | 433/539 [07:38<03:02,  1.72s/it]"
     ]
    },
    {
     "name": "stdout",
     "output_type": "stream",
     "text": [
      "Error con appid 2608620: 'NoneType' object has no attribute 'get'\n"
     ]
    },
    {
     "name": "stderr",
     "output_type": "stream",
     "text": [
      " 81%|████████  | 434/539 [07:39<03:00,  1.72s/it]"
     ]
    },
    {
     "name": "stdout",
     "output_type": "stream",
     "text": [
      "Error con appid 2669410: 'NoneType' object has no attribute 'get'\n"
     ]
    },
    {
     "name": "stderr",
     "output_type": "stream",
     "text": [
      " 81%|████████  | 435/539 [07:41<02:59,  1.72s/it]"
     ]
    },
    {
     "name": "stdout",
     "output_type": "stream",
     "text": [
      "Error con appid 2774380: 'NoneType' object has no attribute 'get'\n"
     ]
    },
    {
     "name": "stderr",
     "output_type": "stream",
     "text": [
      " 81%|████████  | 436/539 [07:43<02:58,  1.73s/it]"
     ]
    },
    {
     "name": "stdout",
     "output_type": "stream",
     "text": [
      "Error con appid 2782610: 'NoneType' object has no attribute 'get'\n"
     ]
    },
    {
     "name": "stderr",
     "output_type": "stream",
     "text": [
      " 81%|████████  | 437/539 [07:44<02:55,  1.73s/it]"
     ]
    },
    {
     "name": "stdout",
     "output_type": "stream",
     "text": [
      "Error con appid 2903560: 'NoneType' object has no attribute 'get'\n"
     ]
    },
    {
     "name": "stderr",
     "output_type": "stream",
     "text": [
      " 81%|████████▏ | 438/539 [07:46<02:53,  1.72s/it]"
     ]
    },
    {
     "name": "stdout",
     "output_type": "stream",
     "text": [
      "Error con appid 2939640: 'NoneType' object has no attribute 'get'\n"
     ]
    },
    {
     "name": "stderr",
     "output_type": "stream",
     "text": [
      " 81%|████████▏ | 439/539 [07:48<02:52,  1.72s/it]"
     ]
    },
    {
     "name": "stdout",
     "output_type": "stream",
     "text": [
      "Error con appid 2960430: 'NoneType' object has no attribute 'get'\n"
     ]
    },
    {
     "name": "stderr",
     "output_type": "stream",
     "text": [
      " 82%|████████▏ | 440/539 [07:50<02:50,  1.72s/it]"
     ]
    },
    {
     "name": "stdout",
     "output_type": "stream",
     "text": [
      "Error con appid 3040390: 'NoneType' object has no attribute 'get'\n"
     ]
    },
    {
     "name": "stderr",
     "output_type": "stream",
     "text": [
      " 82%|████████▏ | 441/539 [07:51<02:48,  1.72s/it]"
     ]
    },
    {
     "name": "stdout",
     "output_type": "stream",
     "text": [
      "Error con appid 3102400: 'NoneType' object has no attribute 'get'\n"
     ]
    },
    {
     "name": "stderr",
     "output_type": "stream",
     "text": [
      " 82%|████████▏ | 442/539 [07:53<02:47,  1.72s/it]"
     ]
    },
    {
     "name": "stdout",
     "output_type": "stream",
     "text": [
      "Error con appid 3167180: 'NoneType' object has no attribute 'get'\n"
     ]
    },
    {
     "name": "stderr",
     "output_type": "stream",
     "text": [
      " 82%|████████▏ | 443/539 [07:55<02:46,  1.73s/it]"
     ]
    },
    {
     "name": "stdout",
     "output_type": "stream",
     "text": [
      "Error con appid 3446680: 'NoneType' object has no attribute 'get'\n"
     ]
    },
    {
     "name": "stderr",
     "output_type": "stream",
     "text": [
      " 82%|████████▏ | 444/539 [07:56<02:43,  1.72s/it]"
     ]
    },
    {
     "name": "stdout",
     "output_type": "stream",
     "text": [
      "Error con appid 3448280: 'NoneType' object has no attribute 'get'\n"
     ]
    },
    {
     "name": "stderr",
     "output_type": "stream",
     "text": [
      " 83%|████████▎ | 446/539 [07:59<02:12,  1.42s/it]"
     ]
    },
    {
     "name": "stdout",
     "output_type": "stream",
     "text": [
      "Error con appid 22230: 'NoneType' object has no attribute 'get'\n"
     ]
    },
    {
     "name": "stderr",
     "output_type": "stream",
     "text": [
      " 83%|████████▎ | 448/539 [08:01<01:56,  1.28s/it]"
     ]
    },
    {
     "name": "stdout",
     "output_type": "stream",
     "text": [
      "Error con appid 39160: 'NoneType' object has no attribute 'get'\n"
     ]
    },
    {
     "name": "stderr",
     "output_type": "stream",
     "text": [
      " 83%|████████▎ | 449/539 [08:03<02:09,  1.44s/it]"
     ]
    },
    {
     "name": "stdout",
     "output_type": "stream",
     "text": [
      "Error con appid 49600: 'NoneType' object has no attribute 'get'\n"
     ]
    },
    {
     "name": "stderr",
     "output_type": "stream",
     "text": [
      " 83%|████████▎ | 450/539 [08:05<02:15,  1.53s/it]"
     ]
    },
    {
     "name": "stdout",
     "output_type": "stream",
     "text": [
      "Error con appid 55110: 'NoneType' object has no attribute 'get'\n"
     ]
    },
    {
     "name": "stderr",
     "output_type": "stream",
     "text": [
      " 84%|████████▎ | 451/539 [08:07<02:18,  1.58s/it]"
     ]
    },
    {
     "name": "stdout",
     "output_type": "stream",
     "text": [
      "Error con appid 70300: 'NoneType' object has no attribute 'get'\n"
     ]
    },
    {
     "name": "stderr",
     "output_type": "stream",
     "text": [
      " 84%|████████▍ | 452/539 [08:08<02:20,  1.61s/it]"
     ]
    },
    {
     "name": "stdout",
     "output_type": "stream",
     "text": [
      "Error con appid 218410: 'NoneType' object has no attribute 'get'\n"
     ]
    },
    {
     "name": "stderr",
     "output_type": "stream",
     "text": [
      " 93%|█████████▎| 500/539 [08:48<00:29,  1.34it/s]"
     ]
    },
    {
     "name": "stdout",
     "output_type": "stream",
     "text": [
      "Guardado parcial: 4800 filas guardadas hasta ahora.\n"
     ]
    },
    {
     "name": "stderr",
     "output_type": "stream",
     "text": [
      "100%|██████████| 539/539 [09:17<00:00,  1.03s/it]"
     ]
    },
    {
     "name": "stdout",
     "output_type": "stream",
     "text": [
      "Guardado parcial: 4839 filas guardadas hasta ahora.\n",
      "✅ Proceso completado.\n"
     ]
    },
    {
     "name": "stderr",
     "output_type": "stream",
     "text": [
      "\n"
     ]
    }
   ],
   "source": [
    "if os.path.exists(output_file):\n",
    "    df_existente = pd.read_csv(output_file)\n",
    "    procesados = set(df_existente['appid'])\n",
    "else:\n",
    "    df_existente = pd.DataFrame(columns=['appid', 'name', 'type', 'required_age', 'is_free', 'detailed_description', 'price', 'developers'])\n",
    "    procesados = set()\n",
    "\n",
    "faltantes = df_merged[~df_merged['appid'].isin(procesados)].copy()\n",
    "\n",
    "def fetch_appdetails(appid):\n",
    "    url = f'https://store.steampowered.com/api/appdetails?appids={appid}'\n",
    "    try:\n",
    "        response = requests.get(url, timeout=5)\n",
    "        data = response.json()\n",
    "        app_data = data.get(str(appid), {})\n",
    "        if app_data.get('success'):\n",
    "            info = app_data.get('data', {})\n",
    "            return {\n",
    "                'appid': appid,\n",
    "                'name': info.get('name'),\n",
    "                'type': info.get('type'),\n",
    "                'required_age': info.get('required_age'),\n",
    "                'is_free': info.get('is_free'),\n",
    "                'developers': info.get('developers', [None])[0],\n",
    "                'price': info.get('price_overview', {}).get('final_formatted') if info.get('price_overview') else 'Free',\n",
    "                'detailed_description': info.get('detailed_description', '')[:200]\n",
    "            }\n",
    "    except Exception as e:\n",
    "        print(f\"Error con appid {appid}: {e}\")\n",
    "    time.sleep(1)\n",
    "    return {'appid': appid, 'name': None, 'type': None, 'required_age': None, 'is_free': None, 'detailed_description': None}\n",
    "\n",
    "BATCH_SIZE = 100\n",
    "results = []\n",
    "\n",
    "with concurrent.futures.ThreadPoolExecutor(max_workers=1) as executor:\n",
    "    for i, result in enumerate(tqdm(executor.map(fetch_appdetails, faltantes['appid']), total=len(faltantes))):\n",
    "        results.append(result)\n",
    "        if (i + 1) % BATCH_SIZE == 0 or (i + 1) == len(faltantes):\n",
    "            df_temp = pd.DataFrame(results)\n",
    "            df_existente = pd.concat([df_existente, df_temp], ignore_index=True)\n",
    "            df_existente.to_csv(output_file, index=False)\n",
    "            results = []\n",
    "            print(f\"Guardado parcial: {len(df_existente)} filas guardadas hasta ahora.\")\n",
    "\n",
    "print(\"✅ Proceso completado.\")"
   ]
  },
  {
   "cell_type": "code",
   "execution_count": 16,
   "id": "a290186d",
   "metadata": {},
   "outputs": [
    {
     "data": {
      "text/html": [
       "<div>\n",
       "<style scoped>\n",
       "    .dataframe tbody tr th:only-of-type {\n",
       "        vertical-align: middle;\n",
       "    }\n",
       "\n",
       "    .dataframe tbody tr th {\n",
       "        vertical-align: top;\n",
       "    }\n",
       "\n",
       "    .dataframe thead th {\n",
       "        text-align: right;\n",
       "    }\n",
       "</style>\n",
       "<table border=\"1\" class=\"dataframe\">\n",
       "  <thead>\n",
       "    <tr style=\"text-align: right;\">\n",
       "      <th></th>\n",
       "      <th>appid</th>\n",
       "      <th>name</th>\n",
       "      <th>type</th>\n",
       "      <th>required_age</th>\n",
       "      <th>is_free</th>\n",
       "      <th>detailed_description</th>\n",
       "      <th>price</th>\n",
       "      <th>developers</th>\n",
       "    </tr>\n",
       "  </thead>\n",
       "  <tbody>\n",
       "    <tr>\n",
       "      <th>0</th>\n",
       "      <td>730</td>\n",
       "      <td>Counter-Strike 2</td>\n",
       "      <td>game</td>\n",
       "      <td>0</td>\n",
       "      <td>True</td>\n",
       "      <td>For over two decades, Counter-Strike has offer...</td>\n",
       "      <td>Free</td>\n",
       "      <td>Valve</td>\n",
       "    </tr>\n",
       "    <tr>\n",
       "      <th>1</th>\n",
       "      <td>570</td>\n",
       "      <td>Dota 2</td>\n",
       "      <td>game</td>\n",
       "      <td>0</td>\n",
       "      <td>True</td>\n",
       "      <td>&lt;strong&gt;The most-played game on Steam.&lt;/strong...</td>\n",
       "      <td>Free</td>\n",
       "      <td>Valve</td>\n",
       "    </tr>\n",
       "    <tr>\n",
       "      <th>2</th>\n",
       "      <td>2807960</td>\n",
       "      <td>Battlefield™ 6</td>\n",
       "      <td>game</td>\n",
       "      <td>0</td>\n",
       "      <td>False</td>\n",
       "      <td>&lt;h1&gt;Battlefield™ 6 Phantom Edition&lt;/h1&gt;&lt;p&gt;&lt;spa...</td>\n",
       "      <td>$69.99 USD</td>\n",
       "      <td>Battlefield Studios</td>\n",
       "    </tr>\n",
       "    <tr>\n",
       "      <th>3</th>\n",
       "      <td>2923300</td>\n",
       "      <td>Banana</td>\n",
       "      <td>game</td>\n",
       "      <td>0</td>\n",
       "      <td>True</td>\n",
       "      <td>&lt;p class=\"bb_paragraph\" &gt;Banana is a clicker G...</td>\n",
       "      <td>Free</td>\n",
       "      <td>Sky</td>\n",
       "    </tr>\n",
       "    <tr>\n",
       "      <th>4</th>\n",
       "      <td>578080</td>\n",
       "      <td>PUBG: BATTLEGROUNDS</td>\n",
       "      <td>game</td>\n",
       "      <td>0</td>\n",
       "      <td>True</td>\n",
       "      <td>&lt;p class=\"bb_paragraph\" &gt;&lt;span class=\"bb_img_c...</td>\n",
       "      <td>Free</td>\n",
       "      <td>PUBG Corporation</td>\n",
       "    </tr>\n",
       "    <tr>\n",
       "      <th>...</th>\n",
       "      <td>...</td>\n",
       "      <td>...</td>\n",
       "      <td>...</td>\n",
       "      <td>...</td>\n",
       "      <td>...</td>\n",
       "      <td>...</td>\n",
       "      <td>...</td>\n",
       "      <td>...</td>\n",
       "    </tr>\n",
       "    <tr>\n",
       "      <th>4834</th>\n",
       "      <td>2527520</td>\n",
       "      <td>MiSide Demo</td>\n",
       "      <td>demo</td>\n",
       "      <td>0</td>\n",
       "      <td>True</td>\n",
       "      <td>MiSide is an adventure game with horror elemen...</td>\n",
       "      <td>Free</td>\n",
       "      <td>AIHASTO</td>\n",
       "    </tr>\n",
       "    <tr>\n",
       "      <th>4835</th>\n",
       "      <td>2608350</td>\n",
       "      <td>Snezhinka:Sentinel Girls2</td>\n",
       "      <td>game</td>\n",
       "      <td>0</td>\n",
       "      <td>False</td>\n",
       "      <td>[Game Overview]&lt;br&gt;Play as Snezhinka, a fixed-...</td>\n",
       "      <td>CLP$ 4.700</td>\n",
       "      <td>hinyari9</td>\n",
       "    </tr>\n",
       "    <tr>\n",
       "      <th>4836</th>\n",
       "      <td>2670760</td>\n",
       "      <td>Streets of Rogue 2 Demo</td>\n",
       "      <td>demo</td>\n",
       "      <td>0</td>\n",
       "      <td>True</td>\n",
       "      <td>&lt;br&gt;&lt;br&gt;Streets of Rogue 2 invites you to a li...</td>\n",
       "      <td>Free</td>\n",
       "      <td>Matt Dabrowski</td>\n",
       "    </tr>\n",
       "    <tr>\n",
       "      <th>4837</th>\n",
       "      <td>2693060</td>\n",
       "      <td>Garten of Banban 7</td>\n",
       "      <td>game</td>\n",
       "      <td>0</td>\n",
       "      <td>False</td>\n",
       "      <td>&lt;h1&gt;WISHLIST NOW!&lt;/h1&gt;&lt;p&gt;&lt;/p&gt;&lt;br&gt;&lt;h1&gt;About the...</td>\n",
       "      <td>CLP$ 5.750</td>\n",
       "      <td>Euphoric Brothers</td>\n",
       "    </tr>\n",
       "    <tr>\n",
       "      <th>4838</th>\n",
       "      <td>2710500</td>\n",
       "      <td>Realm of Ink Demo</td>\n",
       "      <td>demo</td>\n",
       "      <td>0</td>\n",
       "      <td>True</td>\n",
       "      <td>&lt;h1&gt;Join Our Community&lt;/h1&gt;&lt;p&gt;&lt;br&gt;&lt;br&gt;Follow o...</td>\n",
       "      <td>Free</td>\n",
       "      <td>Leap Studio</td>\n",
       "    </tr>\n",
       "  </tbody>\n",
       "</table>\n",
       "<p>4839 rows × 8 columns</p>\n",
       "</div>"
      ],
      "text/plain": [
       "        appid                       name  type required_age is_free  \\\n",
       "0         730           Counter-Strike 2  game            0    True   \n",
       "1         570                     Dota 2  game            0    True   \n",
       "2     2807960             Battlefield™ 6  game            0   False   \n",
       "3     2923300                     Banana  game            0    True   \n",
       "4      578080        PUBG: BATTLEGROUNDS  game            0    True   \n",
       "...       ...                        ...   ...          ...     ...   \n",
       "4834  2527520                MiSide Demo  demo            0    True   \n",
       "4835  2608350  Snezhinka:Sentinel Girls2  game            0   False   \n",
       "4836  2670760    Streets of Rogue 2 Demo  demo            0    True   \n",
       "4837  2693060         Garten of Banban 7  game            0   False   \n",
       "4838  2710500          Realm of Ink Demo  demo            0    True   \n",
       "\n",
       "                                   detailed_description       price  \\\n",
       "0     For over two decades, Counter-Strike has offer...        Free   \n",
       "1     <strong>The most-played game on Steam.</strong...        Free   \n",
       "2     <h1>Battlefield™ 6 Phantom Edition</h1><p><spa...  $69.99 USD   \n",
       "3     <p class=\"bb_paragraph\" >Banana is a clicker G...        Free   \n",
       "4     <p class=\"bb_paragraph\" ><span class=\"bb_img_c...        Free   \n",
       "...                                                 ...         ...   \n",
       "4834  MiSide is an adventure game with horror elemen...        Free   \n",
       "4835  [Game Overview]<br>Play as Snezhinka, a fixed-...  CLP$ 4.700   \n",
       "4836  <br><br>Streets of Rogue 2 invites you to a li...        Free   \n",
       "4837  <h1>WISHLIST NOW!</h1><p></p><br><h1>About the...  CLP$ 5.750   \n",
       "4838  <h1>Join Our Community</h1><p><br><br>Follow o...        Free   \n",
       "\n",
       "               developers  \n",
       "0                   Valve  \n",
       "1                   Valve  \n",
       "2     Battlefield Studios  \n",
       "3                     Sky  \n",
       "4        PUBG Corporation  \n",
       "...                   ...  \n",
       "4834              AIHASTO  \n",
       "4835             hinyari9  \n",
       "4836       Matt Dabrowski  \n",
       "4837    Euphoric Brothers  \n",
       "4838          Leap Studio  \n",
       "\n",
       "[4839 rows x 8 columns]"
      ]
     },
     "execution_count": 16,
     "metadata": {},
     "output_type": "execute_result"
    }
   ],
   "source": [
    "juegos = pd.read_csv('appdetails.csv')\n",
    "juegos"
   ]
  },
  {
   "cell_type": "code",
   "execution_count": 17,
   "id": "e8c79c74",
   "metadata": {},
   "outputs": [
    {
     "data": {
      "text/html": [
       "<div>\n",
       "<style scoped>\n",
       "    .dataframe tbody tr th:only-of-type {\n",
       "        vertical-align: middle;\n",
       "    }\n",
       "\n",
       "    .dataframe tbody tr th {\n",
       "        vertical-align: top;\n",
       "    }\n",
       "\n",
       "    .dataframe thead th {\n",
       "        text-align: right;\n",
       "    }\n",
       "</style>\n",
       "<table border=\"1\" class=\"dataframe\">\n",
       "  <thead>\n",
       "    <tr style=\"text-align: right;\">\n",
       "      <th></th>\n",
       "      <th>name_x</th>\n",
       "      <th>Historico</th>\n",
       "      <th>appid</th>\n",
       "      <th>review_score_x</th>\n",
       "      <th>review_score_desc_x</th>\n",
       "      <th>total_reviews_x</th>\n",
       "      <th>name_y</th>\n",
       "      <th>type</th>\n",
       "      <th>required_age</th>\n",
       "      <th>is_free</th>\n",
       "      <th>detailed_description</th>\n",
       "      <th>price</th>\n",
       "      <th>developers</th>\n",
       "    </tr>\n",
       "  </thead>\n",
       "  <tbody>\n",
       "    <tr>\n",
       "      <th>0</th>\n",
       "      <td>Counter-Strike 2</td>\n",
       "      <td>1,862,531</td>\n",
       "      <td>730</td>\n",
       "      <td>8.0</td>\n",
       "      <td>Very Positive</td>\n",
       "      <td>1367090.0</td>\n",
       "      <td>Counter-Strike 2</td>\n",
       "      <td>game</td>\n",
       "      <td>0</td>\n",
       "      <td>True</td>\n",
       "      <td>For over two decades, Counter-Strike has offer...</td>\n",
       "      <td>Free</td>\n",
       "      <td>Valve</td>\n",
       "    </tr>\n",
       "    <tr>\n",
       "      <th>1</th>\n",
       "      <td>Dota 2</td>\n",
       "      <td>1,295,114</td>\n",
       "      <td>570</td>\n",
       "      <td>8.0</td>\n",
       "      <td>Very Positive</td>\n",
       "      <td>6098.0</td>\n",
       "      <td>Dota 2</td>\n",
       "      <td>game</td>\n",
       "      <td>0</td>\n",
       "      <td>True</td>\n",
       "      <td>&lt;strong&gt;The most-played game on Steam.&lt;/strong...</td>\n",
       "      <td>Free</td>\n",
       "      <td>Valve</td>\n",
       "    </tr>\n",
       "    <tr>\n",
       "      <th>2</th>\n",
       "      <td>Battlefield™ 6</td>\n",
       "      <td>747,440</td>\n",
       "      <td>2807960</td>\n",
       "      <td>8.0</td>\n",
       "      <td>Very Positive</td>\n",
       "      <td>58813.0</td>\n",
       "      <td>Battlefield™ 6</td>\n",
       "      <td>game</td>\n",
       "      <td>0</td>\n",
       "      <td>False</td>\n",
       "      <td>&lt;h1&gt;Battlefield™ 6 Phantom Edition&lt;/h1&gt;&lt;p&gt;&lt;spa...</td>\n",
       "      <td>$69.99 USD</td>\n",
       "      <td>Battlefield Studios</td>\n",
       "    </tr>\n",
       "    <tr>\n",
       "      <th>3</th>\n",
       "      <td>Banana</td>\n",
       "      <td>917,272</td>\n",
       "      <td>2923300</td>\n",
       "      <td>0.0</td>\n",
       "      <td>No user reviews</td>\n",
       "      <td>0.0</td>\n",
       "      <td>Banana</td>\n",
       "      <td>game</td>\n",
       "      <td>0</td>\n",
       "      <td>True</td>\n",
       "      <td>&lt;p class=\"bb_paragraph\" &gt;Banana is a clicker G...</td>\n",
       "      <td>Free</td>\n",
       "      <td>Sky</td>\n",
       "    </tr>\n",
       "    <tr>\n",
       "      <th>4</th>\n",
       "      <td>PUBG: BATTLEGROUNDS</td>\n",
       "      <td>3,257,248</td>\n",
       "      <td>578080</td>\n",
       "      <td>5.0</td>\n",
       "      <td>Mixed</td>\n",
       "      <td>277935.0</td>\n",
       "      <td>PUBG: BATTLEGROUNDS</td>\n",
       "      <td>game</td>\n",
       "      <td>0</td>\n",
       "      <td>True</td>\n",
       "      <td>&lt;p class=\"bb_paragraph\" &gt;&lt;span class=\"bb_img_c...</td>\n",
       "      <td>Free</td>\n",
       "      <td>PUBG Corporation</td>\n",
       "    </tr>\n",
       "    <tr>\n",
       "      <th>...</th>\n",
       "      <td>...</td>\n",
       "      <td>...</td>\n",
       "      <td>...</td>\n",
       "      <td>...</td>\n",
       "      <td>...</td>\n",
       "      <td>...</td>\n",
       "      <td>...</td>\n",
       "      <td>...</td>\n",
       "      <td>...</td>\n",
       "      <td>...</td>\n",
       "      <td>...</td>\n",
       "      <td>...</td>\n",
       "      <td>...</td>\n",
       "    </tr>\n",
       "    <tr>\n",
       "      <th>4834</th>\n",
       "      <td>MiSide Demo</td>\n",
       "      <td>1,354</td>\n",
       "      <td>2527520</td>\n",
       "      <td>0.0</td>\n",
       "      <td>No user reviews</td>\n",
       "      <td>0.0</td>\n",
       "      <td>MiSide Demo</td>\n",
       "      <td>demo</td>\n",
       "      <td>0</td>\n",
       "      <td>True</td>\n",
       "      <td>MiSide is an adventure game with horror elemen...</td>\n",
       "      <td>Free</td>\n",
       "      <td>AIHASTO</td>\n",
       "    </tr>\n",
       "    <tr>\n",
       "      <th>4835</th>\n",
       "      <td>Snezhinka</td>\n",
       "      <td>5,455</td>\n",
       "      <td>2608350</td>\n",
       "      <td>9.0</td>\n",
       "      <td>Overwhelmingly Positive</td>\n",
       "      <td>511.0</td>\n",
       "      <td>Snezhinka:Sentinel Girls2</td>\n",
       "      <td>game</td>\n",
       "      <td>0</td>\n",
       "      <td>False</td>\n",
       "      <td>[Game Overview]&lt;br&gt;Play as Snezhinka, a fixed-...</td>\n",
       "      <td>CLP$ 4.700</td>\n",
       "      <td>hinyari9</td>\n",
       "    </tr>\n",
       "    <tr>\n",
       "      <th>4836</th>\n",
       "      <td>Streets of Rogue 2 Demo</td>\n",
       "      <td>1,488</td>\n",
       "      <td>2670760</td>\n",
       "      <td>0.0</td>\n",
       "      <td>No user reviews</td>\n",
       "      <td>0.0</td>\n",
       "      <td>Streets of Rogue 2 Demo</td>\n",
       "      <td>demo</td>\n",
       "      <td>0</td>\n",
       "      <td>True</td>\n",
       "      <td>&lt;br&gt;&lt;br&gt;Streets of Rogue 2 invites you to a li...</td>\n",
       "      <td>Free</td>\n",
       "      <td>Matt Dabrowski</td>\n",
       "    </tr>\n",
       "    <tr>\n",
       "      <th>4837</th>\n",
       "      <td>Garten of Banban 7</td>\n",
       "      <td>1,859</td>\n",
       "      <td>2693060</td>\n",
       "      <td>8.0</td>\n",
       "      <td>Very Positive</td>\n",
       "      <td>852.0</td>\n",
       "      <td>Garten of Banban 7</td>\n",
       "      <td>game</td>\n",
       "      <td>0</td>\n",
       "      <td>False</td>\n",
       "      <td>&lt;h1&gt;WISHLIST NOW!&lt;/h1&gt;&lt;p&gt;&lt;/p&gt;&lt;br&gt;&lt;h1&gt;About the...</td>\n",
       "      <td>CLP$ 5.750</td>\n",
       "      <td>Euphoric Brothers</td>\n",
       "    </tr>\n",
       "    <tr>\n",
       "      <th>4838</th>\n",
       "      <td>Realm of Ink Demo</td>\n",
       "      <td>1,479</td>\n",
       "      <td>2710500</td>\n",
       "      <td>0.0</td>\n",
       "      <td>No user reviews</td>\n",
       "      <td>0.0</td>\n",
       "      <td>Realm of Ink Demo</td>\n",
       "      <td>demo</td>\n",
       "      <td>0</td>\n",
       "      <td>True</td>\n",
       "      <td>&lt;h1&gt;Join Our Community&lt;/h1&gt;&lt;p&gt;&lt;br&gt;&lt;br&gt;Follow o...</td>\n",
       "      <td>Free</td>\n",
       "      <td>Leap Studio</td>\n",
       "    </tr>\n",
       "  </tbody>\n",
       "</table>\n",
       "<p>4839 rows × 13 columns</p>\n",
       "</div>"
      ],
      "text/plain": [
       "                       name_x  Historico    appid  review_score_x  \\\n",
       "0            Counter-Strike 2  1,862,531      730             8.0   \n",
       "1                      Dota 2  1,295,114      570             8.0   \n",
       "2              Battlefield™ 6    747,440  2807960             8.0   \n",
       "3                      Banana    917,272  2923300             0.0   \n",
       "4         PUBG: BATTLEGROUNDS  3,257,248   578080             5.0   \n",
       "...                       ...        ...      ...             ...   \n",
       "4834              MiSide Demo      1,354  2527520             0.0   \n",
       "4835                Snezhinka      5,455  2608350             9.0   \n",
       "4836  Streets of Rogue 2 Demo      1,488  2670760             0.0   \n",
       "4837       Garten of Banban 7      1,859  2693060             8.0   \n",
       "4838        Realm of Ink Demo      1,479  2710500             0.0   \n",
       "\n",
       "          review_score_desc_x  total_reviews_x                     name_y  \\\n",
       "0               Very Positive        1367090.0           Counter-Strike 2   \n",
       "1               Very Positive           6098.0                     Dota 2   \n",
       "2               Very Positive          58813.0             Battlefield™ 6   \n",
       "3             No user reviews              0.0                     Banana   \n",
       "4                       Mixed         277935.0        PUBG: BATTLEGROUNDS   \n",
       "...                       ...              ...                        ...   \n",
       "4834          No user reviews              0.0                MiSide Demo   \n",
       "4835  Overwhelmingly Positive            511.0  Snezhinka:Sentinel Girls2   \n",
       "4836          No user reviews              0.0    Streets of Rogue 2 Demo   \n",
       "4837            Very Positive            852.0         Garten of Banban 7   \n",
       "4838          No user reviews              0.0          Realm of Ink Demo   \n",
       "\n",
       "      type required_age is_free  \\\n",
       "0     game            0    True   \n",
       "1     game            0    True   \n",
       "2     game            0   False   \n",
       "3     game            0    True   \n",
       "4     game            0    True   \n",
       "...    ...          ...     ...   \n",
       "4834  demo            0    True   \n",
       "4835  game            0   False   \n",
       "4836  demo            0    True   \n",
       "4837  game            0   False   \n",
       "4838  demo            0    True   \n",
       "\n",
       "                                   detailed_description       price  \\\n",
       "0     For over two decades, Counter-Strike has offer...        Free   \n",
       "1     <strong>The most-played game on Steam.</strong...        Free   \n",
       "2     <h1>Battlefield™ 6 Phantom Edition</h1><p><spa...  $69.99 USD   \n",
       "3     <p class=\"bb_paragraph\" >Banana is a clicker G...        Free   \n",
       "4     <p class=\"bb_paragraph\" ><span class=\"bb_img_c...        Free   \n",
       "...                                                 ...         ...   \n",
       "4834  MiSide is an adventure game with horror elemen...        Free   \n",
       "4835  [Game Overview]<br>Play as Snezhinka, a fixed-...  CLP$ 4.700   \n",
       "4836  <br><br>Streets of Rogue 2 invites you to a li...        Free   \n",
       "4837  <h1>WISHLIST NOW!</h1><p></p><br><h1>About the...  CLP$ 5.750   \n",
       "4838  <h1>Join Our Community</h1><p><br><br>Follow o...        Free   \n",
       "\n",
       "               developers  \n",
       "0                   Valve  \n",
       "1                   Valve  \n",
       "2     Battlefield Studios  \n",
       "3                     Sky  \n",
       "4        PUBG Corporation  \n",
       "...                   ...  \n",
       "4834              AIHASTO  \n",
       "4835             hinyari9  \n",
       "4836       Matt Dabrowski  \n",
       "4837    Euphoric Brothers  \n",
       "4838          Leap Studio  \n",
       "\n",
       "[4839 rows x 13 columns]"
      ]
     },
     "execution_count": 17,
     "metadata": {},
     "output_type": "execute_result"
    }
   ],
   "source": [
    "df_completo = pd.merge(df_merged, juegos, on='appid', how='inner')\n",
    "df_completo"
   ]
  },
  {
   "cell_type": "code",
   "execution_count": 18,
   "id": "2e87046e",
   "metadata": {},
   "outputs": [
    {
     "data": {
      "text/html": [
       "<div>\n",
       "<style scoped>\n",
       "    .dataframe tbody tr th:only-of-type {\n",
       "        vertical-align: middle;\n",
       "    }\n",
       "\n",
       "    .dataframe tbody tr th {\n",
       "        vertical-align: top;\n",
       "    }\n",
       "\n",
       "    .dataframe thead th {\n",
       "        text-align: right;\n",
       "    }\n",
       "</style>\n",
       "<table border=\"1\" class=\"dataframe\">\n",
       "  <thead>\n",
       "    <tr style=\"text-align: right;\">\n",
       "      <th></th>\n",
       "      <th>name_x</th>\n",
       "      <th>Historico</th>\n",
       "      <th>appid</th>\n",
       "      <th>review_score_x</th>\n",
       "      <th>review_score_desc_x</th>\n",
       "      <th>total_reviews_x</th>\n",
       "      <th>type</th>\n",
       "      <th>required_age</th>\n",
       "      <th>is_free</th>\n",
       "      <th>detailed_description</th>\n",
       "      <th>price</th>\n",
       "      <th>developers</th>\n",
       "    </tr>\n",
       "  </thead>\n",
       "  <tbody>\n",
       "    <tr>\n",
       "      <th>0</th>\n",
       "      <td>Counter-Strike 2</td>\n",
       "      <td>1,862,531</td>\n",
       "      <td>730</td>\n",
       "      <td>8.0</td>\n",
       "      <td>Very Positive</td>\n",
       "      <td>1367090.0</td>\n",
       "      <td>game</td>\n",
       "      <td>0</td>\n",
       "      <td>True</td>\n",
       "      <td>For over two decades, Counter-Strike has offer...</td>\n",
       "      <td>Free</td>\n",
       "      <td>Valve</td>\n",
       "    </tr>\n",
       "    <tr>\n",
       "      <th>1</th>\n",
       "      <td>Dota 2</td>\n",
       "      <td>1,295,114</td>\n",
       "      <td>570</td>\n",
       "      <td>8.0</td>\n",
       "      <td>Very Positive</td>\n",
       "      <td>6098.0</td>\n",
       "      <td>game</td>\n",
       "      <td>0</td>\n",
       "      <td>True</td>\n",
       "      <td>&lt;strong&gt;The most-played game on Steam.&lt;/strong...</td>\n",
       "      <td>Free</td>\n",
       "      <td>Valve</td>\n",
       "    </tr>\n",
       "    <tr>\n",
       "      <th>2</th>\n",
       "      <td>Battlefield™ 6</td>\n",
       "      <td>747,440</td>\n",
       "      <td>2807960</td>\n",
       "      <td>8.0</td>\n",
       "      <td>Very Positive</td>\n",
       "      <td>58813.0</td>\n",
       "      <td>game</td>\n",
       "      <td>0</td>\n",
       "      <td>False</td>\n",
       "      <td>&lt;h1&gt;Battlefield™ 6 Phantom Edition&lt;/h1&gt;&lt;p&gt;&lt;spa...</td>\n",
       "      <td>$69.99 USD</td>\n",
       "      <td>Battlefield Studios</td>\n",
       "    </tr>\n",
       "    <tr>\n",
       "      <th>3</th>\n",
       "      <td>Banana</td>\n",
       "      <td>917,272</td>\n",
       "      <td>2923300</td>\n",
       "      <td>0.0</td>\n",
       "      <td>No user reviews</td>\n",
       "      <td>0.0</td>\n",
       "      <td>game</td>\n",
       "      <td>0</td>\n",
       "      <td>True</td>\n",
       "      <td>&lt;p class=\"bb_paragraph\" &gt;Banana is a clicker G...</td>\n",
       "      <td>Free</td>\n",
       "      <td>Sky</td>\n",
       "    </tr>\n",
       "    <tr>\n",
       "      <th>4</th>\n",
       "      <td>PUBG: BATTLEGROUNDS</td>\n",
       "      <td>3,257,248</td>\n",
       "      <td>578080</td>\n",
       "      <td>5.0</td>\n",
       "      <td>Mixed</td>\n",
       "      <td>277935.0</td>\n",
       "      <td>game</td>\n",
       "      <td>0</td>\n",
       "      <td>True</td>\n",
       "      <td>&lt;p class=\"bb_paragraph\" &gt;&lt;span class=\"bb_img_c...</td>\n",
       "      <td>Free</td>\n",
       "      <td>PUBG Corporation</td>\n",
       "    </tr>\n",
       "  </tbody>\n",
       "</table>\n",
       "</div>"
      ],
      "text/plain": [
       "                name_x  Historico    appid  review_score_x  \\\n",
       "0     Counter-Strike 2  1,862,531      730             8.0   \n",
       "1               Dota 2  1,295,114      570             8.0   \n",
       "2       Battlefield™ 6    747,440  2807960             8.0   \n",
       "3               Banana    917,272  2923300             0.0   \n",
       "4  PUBG: BATTLEGROUNDS  3,257,248   578080             5.0   \n",
       "\n",
       "  review_score_desc_x  total_reviews_x  type required_age is_free  \\\n",
       "0       Very Positive        1367090.0  game            0    True   \n",
       "1       Very Positive           6098.0  game            0    True   \n",
       "2       Very Positive          58813.0  game            0   False   \n",
       "3     No user reviews              0.0  game            0    True   \n",
       "4               Mixed         277935.0  game            0    True   \n",
       "\n",
       "                                detailed_description       price  \\\n",
       "0  For over two decades, Counter-Strike has offer...        Free   \n",
       "1  <strong>The most-played game on Steam.</strong...        Free   \n",
       "2  <h1>Battlefield™ 6 Phantom Edition</h1><p><spa...  $69.99 USD   \n",
       "3  <p class=\"bb_paragraph\" >Banana is a clicker G...        Free   \n",
       "4  <p class=\"bb_paragraph\" ><span class=\"bb_img_c...        Free   \n",
       "\n",
       "            developers  \n",
       "0                Valve  \n",
       "1                Valve  \n",
       "2  Battlefield Studios  \n",
       "3                  Sky  \n",
       "4     PUBG Corporation  "
      ]
     },
     "execution_count": 18,
     "metadata": {},
     "output_type": "execute_result"
    }
   ],
   "source": [
    "df_completo.drop(columns=['name_y'], inplace=True)\n",
    "df_completo.head()"
   ]
  },
  {
   "cell_type": "code",
   "execution_count": 19,
   "id": "554815a0",
   "metadata": {},
   "outputs": [],
   "source": [
    "df_completo.to_csv('juegos_completos.csv', index=False)"
   ]
  }
 ],
 "metadata": {
  "kernelspec": {
   "display_name": "Python 3",
   "language": "python",
   "name": "python3"
  },
  "language_info": {
   "codemirror_mode": {
    "name": "ipython",
    "version": 3
   },
   "file_extension": ".py",
   "mimetype": "text/x-python",
   "name": "python",
   "nbconvert_exporter": "python",
   "pygments_lexer": "ipython3",
   "version": "3.11.9"
  }
 },
 "nbformat": 4,
 "nbformat_minor": 5
}
